{
 "cells": [
  {
   "cell_type": "code",
   "execution_count": 1,
   "id": "d86cbe41",
   "metadata": {},
   "outputs": [],
   "source": [
    "import os\n",
    "import numpy as np"
   ]
  },
  {
   "cell_type": "code",
   "execution_count": 2,
   "id": "0610dcb2",
   "metadata": {},
   "outputs": [],
   "source": [
    "# To plot pretty figures\n",
    "%matplotlib inline\n",
    "import matplotlib as mpl\n",
    "import matplotlib.pyplot as plt\n",
    "mpl.rc('axes', labelsize=14)\n",
    "mpl.rc('xtick', labelsize=12)\n",
    "mpl.rc('ytick', labelsize=12)\n",
    "\n",
    "# Where to save the figures\n",
    "PROJECT_ROOT_DIR = \".\"\n",
    "IMAGES_PATH = os.path.join(PROJECT_ROOT_DIR, \"images\")\n",
    "os.makedirs(IMAGES_PATH, exist_ok=True)\n",
    "\n",
    "def save_fig(fig_id, save_path=\"images/\", tight_layout=True, fig_extension=\"png\", resolution=300):\n",
    "    os.makedirs(save_path, exist_ok=True)  # Crée le dossier si nécessaire\n",
    "    path = os.path.join(save_path, fig_id + \".\" + fig_extension)\n",
    "    print(\"Saving figure\", fig_id)\n",
    "    if tight_layout:\n",
    "        plt.tight_layout()\n",
    "    plt.savefig(path, format=fig_extension, dpi=resolution)"
   ]
  },
  {
   "cell_type": "code",
   "execution_count": 3,
   "id": "36653245",
   "metadata": {},
   "outputs": [],
   "source": [
    "DATA_PATH = os.path.join(\"dataset\")\n",
    "DATA_NAME = \"data\""
   ]
  },
  {
   "cell_type": "code",
   "execution_count": 4,
   "id": "3c4becce",
   "metadata": {},
   "outputs": [],
   "source": [
    "import pandas as pd\n",
    "\n",
    "def load_data(data_path=DATA_PATH):\n",
    "    csv_path = os.path.join(DATA_PATH, DATA_NAME + \".csv\")\n",
    "    return pd.read_csv(csv_path)"
   ]
  },
  {
   "cell_type": "code",
   "execution_count": 5,
   "id": "0a2b5e4d",
   "metadata": {
    "scrolled": true
   },
   "outputs": [
    {
     "data": {
      "text/html": [
       "<div>\n",
       "<style scoped>\n",
       "    .dataframe tbody tr th:only-of-type {\n",
       "        vertical-align: middle;\n",
       "    }\n",
       "\n",
       "    .dataframe tbody tr th {\n",
       "        vertical-align: top;\n",
       "    }\n",
       "\n",
       "    .dataframe thead th {\n",
       "        text-align: right;\n",
       "    }\n",
       "</style>\n",
       "<table border=\"1\" class=\"dataframe\">\n",
       "  <thead>\n",
       "    <tr style=\"text-align: right;\">\n",
       "      <th></th>\n",
       "      <th>Mois</th>\n",
       "      <th>Accenteur mouchet</th>\n",
       "      <th>Corneille noire</th>\n",
       "      <th>Fauvette à tête noire</th>\n",
       "      <th>Geai des chênes</th>\n",
       "      <th>Goéland argenté</th>\n",
       "      <th>Grimpereau des jardins</th>\n",
       "      <th>Grive musicienne</th>\n",
       "      <th>Merle noir</th>\n",
       "      <th>Mésange bleue</th>\n",
       "      <th>...</th>\n",
       "      <th>Pigeon biset</th>\n",
       "      <th>Pigeon ramier</th>\n",
       "      <th>Pinson des arbres</th>\n",
       "      <th>Pouillot véloce</th>\n",
       "      <th>Roitelet huppé</th>\n",
       "      <th>Roitelet à triple bandeau</th>\n",
       "      <th>Rougegorge familier</th>\n",
       "      <th>Sittelle torchepot</th>\n",
       "      <th>Troglodyte mignon</th>\n",
       "      <th>Étourneau sansonnet</th>\n",
       "    </tr>\n",
       "  </thead>\n",
       "  <tbody>\n",
       "    <tr>\n",
       "      <th>0</th>\n",
       "      <td>janvier</td>\n",
       "      <td>1</td>\n",
       "      <td>22</td>\n",
       "      <td>0</td>\n",
       "      <td>4</td>\n",
       "      <td>0</td>\n",
       "      <td>3</td>\n",
       "      <td>1</td>\n",
       "      <td>22</td>\n",
       "      <td>16</td>\n",
       "      <td>...</td>\n",
       "      <td>1</td>\n",
       "      <td>37</td>\n",
       "      <td>3</td>\n",
       "      <td>0</td>\n",
       "      <td>4</td>\n",
       "      <td>0</td>\n",
       "      <td>14</td>\n",
       "      <td>0</td>\n",
       "      <td>5</td>\n",
       "      <td>33</td>\n",
       "    </tr>\n",
       "    <tr>\n",
       "      <th>1</th>\n",
       "      <td>fevrier</td>\n",
       "      <td>1</td>\n",
       "      <td>9</td>\n",
       "      <td>0</td>\n",
       "      <td>3</td>\n",
       "      <td>0</td>\n",
       "      <td>4</td>\n",
       "      <td>1</td>\n",
       "      <td>13</td>\n",
       "      <td>7</td>\n",
       "      <td>...</td>\n",
       "      <td>1</td>\n",
       "      <td>8</td>\n",
       "      <td>3</td>\n",
       "      <td>1</td>\n",
       "      <td>2</td>\n",
       "      <td>0</td>\n",
       "      <td>6</td>\n",
       "      <td>2</td>\n",
       "      <td>4</td>\n",
       "      <td>7</td>\n",
       "    </tr>\n",
       "    <tr>\n",
       "      <th>2</th>\n",
       "      <td>mars</td>\n",
       "      <td>0</td>\n",
       "      <td>25</td>\n",
       "      <td>6</td>\n",
       "      <td>2</td>\n",
       "      <td>1</td>\n",
       "      <td>7</td>\n",
       "      <td>3</td>\n",
       "      <td>24</td>\n",
       "      <td>16</td>\n",
       "      <td>...</td>\n",
       "      <td>17</td>\n",
       "      <td>24</td>\n",
       "      <td>11</td>\n",
       "      <td>3</td>\n",
       "      <td>1</td>\n",
       "      <td>2</td>\n",
       "      <td>9</td>\n",
       "      <td>2</td>\n",
       "      <td>10</td>\n",
       "      <td>16</td>\n",
       "    </tr>\n",
       "    <tr>\n",
       "      <th>3</th>\n",
       "      <td>avril</td>\n",
       "      <td>3</td>\n",
       "      <td>7</td>\n",
       "      <td>8</td>\n",
       "      <td>2</td>\n",
       "      <td>0</td>\n",
       "      <td>2</td>\n",
       "      <td>0</td>\n",
       "      <td>12</td>\n",
       "      <td>7</td>\n",
       "      <td>...</td>\n",
       "      <td>3</td>\n",
       "      <td>10</td>\n",
       "      <td>3</td>\n",
       "      <td>2</td>\n",
       "      <td>0</td>\n",
       "      <td>1</td>\n",
       "      <td>1</td>\n",
       "      <td>0</td>\n",
       "      <td>5</td>\n",
       "      <td>35</td>\n",
       "    </tr>\n",
       "    <tr>\n",
       "      <th>4</th>\n",
       "      <td>mai</td>\n",
       "      <td>0</td>\n",
       "      <td>7</td>\n",
       "      <td>10</td>\n",
       "      <td>1</td>\n",
       "      <td>0</td>\n",
       "      <td>5</td>\n",
       "      <td>0</td>\n",
       "      <td>24</td>\n",
       "      <td>4</td>\n",
       "      <td>...</td>\n",
       "      <td>8</td>\n",
       "      <td>9</td>\n",
       "      <td>6</td>\n",
       "      <td>4</td>\n",
       "      <td>0</td>\n",
       "      <td>0</td>\n",
       "      <td>11</td>\n",
       "      <td>0</td>\n",
       "      <td>7</td>\n",
       "      <td>48</td>\n",
       "    </tr>\n",
       "  </tbody>\n",
       "</table>\n",
       "<p>5 rows × 28 columns</p>\n",
       "</div>"
      ],
      "text/plain": [
       "      Mois  Accenteur mouchet  Corneille noire  Fauvette à tête noire  \\\n",
       "0  janvier                  1               22                      0   \n",
       "1  fevrier                  1                9                      0   \n",
       "2     mars                  0               25                      6   \n",
       "3    avril                  3                7                      8   \n",
       "4      mai                  0                7                     10   \n",
       "\n",
       "   Geai des chênes  Goéland argenté  Grimpereau des jardins  Grive musicienne  \\\n",
       "0                4                0                       3                 1   \n",
       "1                3                0                       4                 1   \n",
       "2                2                1                       7                 3   \n",
       "3                2                0                       2                 0   \n",
       "4                1                0                       5                 0   \n",
       "\n",
       "   Merle noir  Mésange bleue  ...  Pigeon biset  Pigeon ramier  \\\n",
       "0          22             16  ...             1             37   \n",
       "1          13              7  ...             1              8   \n",
       "2          24             16  ...            17             24   \n",
       "3          12              7  ...             3             10   \n",
       "4          24              4  ...             8              9   \n",
       "\n",
       "   Pinson des arbres  Pouillot véloce  Roitelet huppé  \\\n",
       "0                  3                0               4   \n",
       "1                  3                1               2   \n",
       "2                 11                3               1   \n",
       "3                  3                2               0   \n",
       "4                  6                4               0   \n",
       "\n",
       "   Roitelet à triple bandeau  Rougegorge familier  Sittelle torchepot  \\\n",
       "0                          0                   14                   0   \n",
       "1                          0                    6                   2   \n",
       "2                          2                    9                   2   \n",
       "3                          1                    1                   0   \n",
       "4                          0                   11                   0   \n",
       "\n",
       "   Troglodyte mignon  Étourneau sansonnet  \n",
       "0                  5                   33  \n",
       "1                  4                    7  \n",
       "2                 10                   16  \n",
       "3                  5                   35  \n",
       "4                  7                   48  \n",
       "\n",
       "[5 rows x 28 columns]"
      ]
     },
     "execution_count": 5,
     "metadata": {},
     "output_type": "execute_result"
    }
   ],
   "source": [
    "df = load_data()\n",
    "df.head()"
   ]
  },
  {
   "cell_type": "code",
   "execution_count": 6,
   "id": "dac39eee",
   "metadata": {},
   "outputs": [
    {
     "name": "stdout",
     "output_type": "stream",
     "text": [
      "<class 'pandas.core.frame.DataFrame'>\n",
      "RangeIndex: 12 entries, 0 to 11\n",
      "Data columns (total 28 columns):\n",
      " #   Column                     Non-Null Count  Dtype \n",
      "---  ------                     --------------  ----- \n",
      " 0   Mois                       12 non-null     object\n",
      " 1   Accenteur mouchet          12 non-null     int64 \n",
      " 2   Corneille noire            12 non-null     int64 \n",
      " 3   Fauvette à tête noire      12 non-null     int64 \n",
      " 4   Geai des chênes            12 non-null     int64 \n",
      " 5   Goéland argenté            12 non-null     int64 \n",
      " 6   Grimpereau des jardins     12 non-null     int64 \n",
      " 7   Grive musicienne           12 non-null     int64 \n",
      " 8   Merle noir                 12 non-null     int64 \n",
      " 9   Mésange bleue              12 non-null     int64 \n",
      " 10  Mésange charbonnière       12 non-null     int64 \n",
      " 11  Mésange huppée             12 non-null     int64 \n",
      " 12  Mésange noire              12 non-null     int64 \n",
      " 13  Mésange à longue queue     12 non-null     int64 \n",
      " 14  Perruche à collier         12 non-null     int64 \n",
      " 15  Pic vert                   12 non-null     int64 \n",
      " 16  Pic épeiche                12 non-null     int64 \n",
      " 17  Pie bavarde                12 non-null     int64 \n",
      " 18  Pigeon biset               12 non-null     int64 \n",
      " 19  Pigeon ramier              12 non-null     int64 \n",
      " 20  Pinson des arbres          12 non-null     int64 \n",
      " 21  Pouillot véloce            12 non-null     int64 \n",
      " 22  Roitelet huppé             12 non-null     int64 \n",
      " 23  Roitelet à triple bandeau  12 non-null     int64 \n",
      " 24  Rougegorge familier        12 non-null     int64 \n",
      " 25  Sittelle torchepot         12 non-null     int64 \n",
      " 26  Troglodyte mignon          12 non-null     int64 \n",
      " 27  Étourneau sansonnet        12 non-null     int64 \n",
      "dtypes: int64(27), object(1)\n",
      "memory usage: 2.8+ KB\n"
     ]
    }
   ],
   "source": [
    "df.info()"
   ]
  },
  {
   "cell_type": "code",
   "execution_count": 7,
   "id": "c766185d",
   "metadata": {},
   "outputs": [
    {
     "data": {
      "text/html": [
       "<div>\n",
       "<style scoped>\n",
       "    .dataframe tbody tr th:only-of-type {\n",
       "        vertical-align: middle;\n",
       "    }\n",
       "\n",
       "    .dataframe tbody tr th {\n",
       "        vertical-align: top;\n",
       "    }\n",
       "\n",
       "    .dataframe thead th {\n",
       "        text-align: right;\n",
       "    }\n",
       "</style>\n",
       "<table border=\"1\" class=\"dataframe\">\n",
       "  <thead>\n",
       "    <tr style=\"text-align: right;\">\n",
       "      <th></th>\n",
       "      <th>Accenteur mouchet</th>\n",
       "      <th>Corneille noire</th>\n",
       "      <th>Fauvette à tête noire</th>\n",
       "      <th>Geai des chênes</th>\n",
       "      <th>Goéland argenté</th>\n",
       "      <th>Grimpereau des jardins</th>\n",
       "      <th>Grive musicienne</th>\n",
       "      <th>Merle noir</th>\n",
       "      <th>Mésange bleue</th>\n",
       "      <th>Mésange charbonnière</th>\n",
       "      <th>...</th>\n",
       "      <th>Pigeon biset</th>\n",
       "      <th>Pigeon ramier</th>\n",
       "      <th>Pinson des arbres</th>\n",
       "      <th>Pouillot véloce</th>\n",
       "      <th>Roitelet huppé</th>\n",
       "      <th>Roitelet à triple bandeau</th>\n",
       "      <th>Rougegorge familier</th>\n",
       "      <th>Sittelle torchepot</th>\n",
       "      <th>Troglodyte mignon</th>\n",
       "      <th>Étourneau sansonnet</th>\n",
       "    </tr>\n",
       "  </thead>\n",
       "  <tbody>\n",
       "    <tr>\n",
       "      <th>count</th>\n",
       "      <td>12.000000</td>\n",
       "      <td>12.000000</td>\n",
       "      <td>12.000000</td>\n",
       "      <td>12.000000</td>\n",
       "      <td>12.000000</td>\n",
       "      <td>12.000000</td>\n",
       "      <td>12.000000</td>\n",
       "      <td>12.000000</td>\n",
       "      <td>12.000000</td>\n",
       "      <td>12.000000</td>\n",
       "      <td>...</td>\n",
       "      <td>12.000000</td>\n",
       "      <td>12.000000</td>\n",
       "      <td>12.000000</td>\n",
       "      <td>12.000000</td>\n",
       "      <td>12.000000</td>\n",
       "      <td>12.000000</td>\n",
       "      <td>12.000000</td>\n",
       "      <td>12.000000</td>\n",
       "      <td>12.000000</td>\n",
       "      <td>12.000000</td>\n",
       "    </tr>\n",
       "    <tr>\n",
       "      <th>mean</th>\n",
       "      <td>1.166667</td>\n",
       "      <td>13.416667</td>\n",
       "      <td>3.416667</td>\n",
       "      <td>2.083333</td>\n",
       "      <td>0.083333</td>\n",
       "      <td>3.666667</td>\n",
       "      <td>0.500000</td>\n",
       "      <td>14.916667</td>\n",
       "      <td>8.333333</td>\n",
       "      <td>7.333333</td>\n",
       "      <td>...</td>\n",
       "      <td>5.250000</td>\n",
       "      <td>19.333333</td>\n",
       "      <td>3.250000</td>\n",
       "      <td>1.166667</td>\n",
       "      <td>1.416667</td>\n",
       "      <td>1.250000</td>\n",
       "      <td>8.500000</td>\n",
       "      <td>1.000000</td>\n",
       "      <td>5.083333</td>\n",
       "      <td>19.250000</td>\n",
       "    </tr>\n",
       "    <tr>\n",
       "      <th>std</th>\n",
       "      <td>1.800673</td>\n",
       "      <td>7.012435</td>\n",
       "      <td>4.187825</td>\n",
       "      <td>1.564279</td>\n",
       "      <td>0.288675</td>\n",
       "      <td>1.874874</td>\n",
       "      <td>0.904534</td>\n",
       "      <td>7.378819</td>\n",
       "      <td>4.163332</td>\n",
       "      <td>5.630006</td>\n",
       "      <td>...</td>\n",
       "      <td>4.845335</td>\n",
       "      <td>10.915655</td>\n",
       "      <td>3.137022</td>\n",
       "      <td>1.337116</td>\n",
       "      <td>2.108784</td>\n",
       "      <td>1.912875</td>\n",
       "      <td>4.719399</td>\n",
       "      <td>1.279204</td>\n",
       "      <td>3.315483</td>\n",
       "      <td>23.798873</td>\n",
       "    </tr>\n",
       "    <tr>\n",
       "      <th>min</th>\n",
       "      <td>0.000000</td>\n",
       "      <td>5.000000</td>\n",
       "      <td>0.000000</td>\n",
       "      <td>1.000000</td>\n",
       "      <td>0.000000</td>\n",
       "      <td>1.000000</td>\n",
       "      <td>0.000000</td>\n",
       "      <td>3.000000</td>\n",
       "      <td>4.000000</td>\n",
       "      <td>2.000000</td>\n",
       "      <td>...</td>\n",
       "      <td>1.000000</td>\n",
       "      <td>6.000000</td>\n",
       "      <td>0.000000</td>\n",
       "      <td>0.000000</td>\n",
       "      <td>0.000000</td>\n",
       "      <td>0.000000</td>\n",
       "      <td>1.000000</td>\n",
       "      <td>0.000000</td>\n",
       "      <td>1.000000</td>\n",
       "      <td>0.000000</td>\n",
       "    </tr>\n",
       "    <tr>\n",
       "      <th>25%</th>\n",
       "      <td>0.000000</td>\n",
       "      <td>7.000000</td>\n",
       "      <td>0.000000</td>\n",
       "      <td>1.000000</td>\n",
       "      <td>0.000000</td>\n",
       "      <td>2.000000</td>\n",
       "      <td>0.000000</td>\n",
       "      <td>10.750000</td>\n",
       "      <td>5.750000</td>\n",
       "      <td>3.000000</td>\n",
       "      <td>...</td>\n",
       "      <td>1.750000</td>\n",
       "      <td>9.750000</td>\n",
       "      <td>0.750000</td>\n",
       "      <td>0.000000</td>\n",
       "      <td>0.000000</td>\n",
       "      <td>0.000000</td>\n",
       "      <td>5.500000</td>\n",
       "      <td>0.000000</td>\n",
       "      <td>3.500000</td>\n",
       "      <td>1.500000</td>\n",
       "    </tr>\n",
       "    <tr>\n",
       "      <th>50%</th>\n",
       "      <td>0.500000</td>\n",
       "      <td>12.500000</td>\n",
       "      <td>1.000000</td>\n",
       "      <td>1.500000</td>\n",
       "      <td>0.000000</td>\n",
       "      <td>4.000000</td>\n",
       "      <td>0.000000</td>\n",
       "      <td>14.500000</td>\n",
       "      <td>7.000000</td>\n",
       "      <td>6.000000</td>\n",
       "      <td>...</td>\n",
       "      <td>3.500000</td>\n",
       "      <td>17.000000</td>\n",
       "      <td>3.000000</td>\n",
       "      <td>1.000000</td>\n",
       "      <td>0.000000</td>\n",
       "      <td>0.000000</td>\n",
       "      <td>9.500000</td>\n",
       "      <td>0.000000</td>\n",
       "      <td>5.000000</td>\n",
       "      <td>8.500000</td>\n",
       "    </tr>\n",
       "    <tr>\n",
       "      <th>75%</th>\n",
       "      <td>1.250000</td>\n",
       "      <td>19.500000</td>\n",
       "      <td>6.500000</td>\n",
       "      <td>2.250000</td>\n",
       "      <td>0.000000</td>\n",
       "      <td>5.000000</td>\n",
       "      <td>1.000000</td>\n",
       "      <td>22.250000</td>\n",
       "      <td>10.250000</td>\n",
       "      <td>9.250000</td>\n",
       "      <td>...</td>\n",
       "      <td>7.250000</td>\n",
       "      <td>26.750000</td>\n",
       "      <td>4.250000</td>\n",
       "      <td>2.000000</td>\n",
       "      <td>2.500000</td>\n",
       "      <td>2.000000</td>\n",
       "      <td>11.250000</td>\n",
       "      <td>2.000000</td>\n",
       "      <td>5.500000</td>\n",
       "      <td>33.500000</td>\n",
       "    </tr>\n",
       "    <tr>\n",
       "      <th>max</th>\n",
       "      <td>6.000000</td>\n",
       "      <td>25.000000</td>\n",
       "      <td>11.000000</td>\n",
       "      <td>6.000000</td>\n",
       "      <td>1.000000</td>\n",
       "      <td>7.000000</td>\n",
       "      <td>3.000000</td>\n",
       "      <td>24.000000</td>\n",
       "      <td>16.000000</td>\n",
       "      <td>22.000000</td>\n",
       "      <td>...</td>\n",
       "      <td>17.000000</td>\n",
       "      <td>37.000000</td>\n",
       "      <td>11.000000</td>\n",
       "      <td>4.000000</td>\n",
       "      <td>6.000000</td>\n",
       "      <td>5.000000</td>\n",
       "      <td>16.000000</td>\n",
       "      <td>3.000000</td>\n",
       "      <td>12.000000</td>\n",
       "      <td>75.000000</td>\n",
       "    </tr>\n",
       "  </tbody>\n",
       "</table>\n",
       "<p>8 rows × 27 columns</p>\n",
       "</div>"
      ],
      "text/plain": [
       "       Accenteur mouchet  Corneille noire  Fauvette à tête noire  \\\n",
       "count          12.000000        12.000000              12.000000   \n",
       "mean            1.166667        13.416667               3.416667   \n",
       "std             1.800673         7.012435               4.187825   \n",
       "min             0.000000         5.000000               0.000000   \n",
       "25%             0.000000         7.000000               0.000000   \n",
       "50%             0.500000        12.500000               1.000000   \n",
       "75%             1.250000        19.500000               6.500000   \n",
       "max             6.000000        25.000000              11.000000   \n",
       "\n",
       "       Geai des chênes  Goéland argenté  Grimpereau des jardins  \\\n",
       "count        12.000000        12.000000               12.000000   \n",
       "mean          2.083333         0.083333                3.666667   \n",
       "std           1.564279         0.288675                1.874874   \n",
       "min           1.000000         0.000000                1.000000   \n",
       "25%           1.000000         0.000000                2.000000   \n",
       "50%           1.500000         0.000000                4.000000   \n",
       "75%           2.250000         0.000000                5.000000   \n",
       "max           6.000000         1.000000                7.000000   \n",
       "\n",
       "       Grive musicienne  Merle noir  Mésange bleue  Mésange charbonnière  ...  \\\n",
       "count         12.000000   12.000000      12.000000             12.000000  ...   \n",
       "mean           0.500000   14.916667       8.333333              7.333333  ...   \n",
       "std            0.904534    7.378819       4.163332              5.630006  ...   \n",
       "min            0.000000    3.000000       4.000000              2.000000  ...   \n",
       "25%            0.000000   10.750000       5.750000              3.000000  ...   \n",
       "50%            0.000000   14.500000       7.000000              6.000000  ...   \n",
       "75%            1.000000   22.250000      10.250000              9.250000  ...   \n",
       "max            3.000000   24.000000      16.000000             22.000000  ...   \n",
       "\n",
       "       Pigeon biset  Pigeon ramier  Pinson des arbres  Pouillot véloce  \\\n",
       "count     12.000000      12.000000          12.000000        12.000000   \n",
       "mean       5.250000      19.333333           3.250000         1.166667   \n",
       "std        4.845335      10.915655           3.137022         1.337116   \n",
       "min        1.000000       6.000000           0.000000         0.000000   \n",
       "25%        1.750000       9.750000           0.750000         0.000000   \n",
       "50%        3.500000      17.000000           3.000000         1.000000   \n",
       "75%        7.250000      26.750000           4.250000         2.000000   \n",
       "max       17.000000      37.000000          11.000000         4.000000   \n",
       "\n",
       "       Roitelet huppé  Roitelet à triple bandeau  Rougegorge familier  \\\n",
       "count       12.000000                  12.000000            12.000000   \n",
       "mean         1.416667                   1.250000             8.500000   \n",
       "std          2.108784                   1.912875             4.719399   \n",
       "min          0.000000                   0.000000             1.000000   \n",
       "25%          0.000000                   0.000000             5.500000   \n",
       "50%          0.000000                   0.000000             9.500000   \n",
       "75%          2.500000                   2.000000            11.250000   \n",
       "max          6.000000                   5.000000            16.000000   \n",
       "\n",
       "       Sittelle torchepot  Troglodyte mignon  Étourneau sansonnet  \n",
       "count           12.000000          12.000000            12.000000  \n",
       "mean             1.000000           5.083333            19.250000  \n",
       "std              1.279204           3.315483            23.798873  \n",
       "min              0.000000           1.000000             0.000000  \n",
       "25%              0.000000           3.500000             1.500000  \n",
       "50%              0.000000           5.000000             8.500000  \n",
       "75%              2.000000           5.500000            33.500000  \n",
       "max              3.000000          12.000000            75.000000  \n",
       "\n",
       "[8 rows x 27 columns]"
      ]
     },
     "execution_count": 7,
     "metadata": {},
     "output_type": "execute_result"
    }
   ],
   "source": [
    "df.describe()"
   ]
  },
  {
   "cell_type": "code",
   "execution_count": 8,
   "id": "35caa45a",
   "metadata": {
    "scrolled": false
   },
   "outputs": [
    {
     "data": {
      "text/html": [
       "<div>\n",
       "<style scoped>\n",
       "    .dataframe tbody tr th:only-of-type {\n",
       "        vertical-align: middle;\n",
       "    }\n",
       "\n",
       "    .dataframe tbody tr th {\n",
       "        vertical-align: top;\n",
       "    }\n",
       "\n",
       "    .dataframe thead th {\n",
       "        text-align: right;\n",
       "    }\n",
       "</style>\n",
       "<table border=\"1\" class=\"dataframe\">\n",
       "  <thead>\n",
       "    <tr style=\"text-align: right;\">\n",
       "      <th></th>\n",
       "      <th>Accenteur mouchet</th>\n",
       "      <th>Corneille noire</th>\n",
       "      <th>Fauvette à tête noire</th>\n",
       "      <th>Geai des chênes</th>\n",
       "      <th>Goéland argenté</th>\n",
       "      <th>Grimpereau des jardins</th>\n",
       "      <th>Grive musicienne</th>\n",
       "      <th>Merle noir</th>\n",
       "      <th>Mésange bleue</th>\n",
       "      <th>Mésange charbonnière</th>\n",
       "      <th>...</th>\n",
       "      <th>Pigeon biset</th>\n",
       "      <th>Pigeon ramier</th>\n",
       "      <th>Pinson des arbres</th>\n",
       "      <th>Pouillot véloce</th>\n",
       "      <th>Roitelet huppé</th>\n",
       "      <th>Roitelet à triple bandeau</th>\n",
       "      <th>Rougegorge familier</th>\n",
       "      <th>Sittelle torchepot</th>\n",
       "      <th>Troglodyte mignon</th>\n",
       "      <th>Étourneau sansonnet</th>\n",
       "    </tr>\n",
       "  </thead>\n",
       "  <tbody>\n",
       "    <tr>\n",
       "      <th>count</th>\n",
       "      <td>12.000000</td>\n",
       "      <td>12.000000</td>\n",
       "      <td>12.000000</td>\n",
       "      <td>12.000000</td>\n",
       "      <td>12.000000</td>\n",
       "      <td>12.000000</td>\n",
       "      <td>12.000000</td>\n",
       "      <td>12.000000</td>\n",
       "      <td>12.000000</td>\n",
       "      <td>12.000000</td>\n",
       "      <td>...</td>\n",
       "      <td>12.000000</td>\n",
       "      <td>12.000000</td>\n",
       "      <td>12.000000</td>\n",
       "      <td>12.000000</td>\n",
       "      <td>12.000000</td>\n",
       "      <td>12.000000</td>\n",
       "      <td>12.000000</td>\n",
       "      <td>12.000000</td>\n",
       "      <td>12.000000</td>\n",
       "      <td>12.000000</td>\n",
       "    </tr>\n",
       "    <tr>\n",
       "      <th>mean</th>\n",
       "      <td>1.166667</td>\n",
       "      <td>13.416667</td>\n",
       "      <td>3.416667</td>\n",
       "      <td>2.083333</td>\n",
       "      <td>0.083333</td>\n",
       "      <td>3.666667</td>\n",
       "      <td>0.500000</td>\n",
       "      <td>14.916667</td>\n",
       "      <td>8.333333</td>\n",
       "      <td>7.333333</td>\n",
       "      <td>...</td>\n",
       "      <td>5.250000</td>\n",
       "      <td>19.333333</td>\n",
       "      <td>3.250000</td>\n",
       "      <td>1.166667</td>\n",
       "      <td>1.416667</td>\n",
       "      <td>1.250000</td>\n",
       "      <td>8.500000</td>\n",
       "      <td>1.000000</td>\n",
       "      <td>5.083333</td>\n",
       "      <td>19.250000</td>\n",
       "    </tr>\n",
       "    <tr>\n",
       "      <th>std</th>\n",
       "      <td>1.800673</td>\n",
       "      <td>7.012435</td>\n",
       "      <td>4.187825</td>\n",
       "      <td>1.564279</td>\n",
       "      <td>0.288675</td>\n",
       "      <td>1.874874</td>\n",
       "      <td>0.904534</td>\n",
       "      <td>7.378819</td>\n",
       "      <td>4.163332</td>\n",
       "      <td>5.630006</td>\n",
       "      <td>...</td>\n",
       "      <td>4.845335</td>\n",
       "      <td>10.915655</td>\n",
       "      <td>3.137022</td>\n",
       "      <td>1.337116</td>\n",
       "      <td>2.108784</td>\n",
       "      <td>1.912875</td>\n",
       "      <td>4.719399</td>\n",
       "      <td>1.279204</td>\n",
       "      <td>3.315483</td>\n",
       "      <td>23.798873</td>\n",
       "    </tr>\n",
       "    <tr>\n",
       "      <th>min</th>\n",
       "      <td>0.000000</td>\n",
       "      <td>5.000000</td>\n",
       "      <td>0.000000</td>\n",
       "      <td>1.000000</td>\n",
       "      <td>0.000000</td>\n",
       "      <td>1.000000</td>\n",
       "      <td>0.000000</td>\n",
       "      <td>3.000000</td>\n",
       "      <td>4.000000</td>\n",
       "      <td>2.000000</td>\n",
       "      <td>...</td>\n",
       "      <td>1.000000</td>\n",
       "      <td>6.000000</td>\n",
       "      <td>0.000000</td>\n",
       "      <td>0.000000</td>\n",
       "      <td>0.000000</td>\n",
       "      <td>0.000000</td>\n",
       "      <td>1.000000</td>\n",
       "      <td>0.000000</td>\n",
       "      <td>1.000000</td>\n",
       "      <td>0.000000</td>\n",
       "    </tr>\n",
       "    <tr>\n",
       "      <th>25%</th>\n",
       "      <td>0.000000</td>\n",
       "      <td>7.000000</td>\n",
       "      <td>0.000000</td>\n",
       "      <td>1.000000</td>\n",
       "      <td>0.000000</td>\n",
       "      <td>2.000000</td>\n",
       "      <td>0.000000</td>\n",
       "      <td>10.750000</td>\n",
       "      <td>5.750000</td>\n",
       "      <td>3.000000</td>\n",
       "      <td>...</td>\n",
       "      <td>1.750000</td>\n",
       "      <td>9.750000</td>\n",
       "      <td>0.750000</td>\n",
       "      <td>0.000000</td>\n",
       "      <td>0.000000</td>\n",
       "      <td>0.000000</td>\n",
       "      <td>5.500000</td>\n",
       "      <td>0.000000</td>\n",
       "      <td>3.500000</td>\n",
       "      <td>1.500000</td>\n",
       "    </tr>\n",
       "    <tr>\n",
       "      <th>50%</th>\n",
       "      <td>0.500000</td>\n",
       "      <td>12.500000</td>\n",
       "      <td>1.000000</td>\n",
       "      <td>1.500000</td>\n",
       "      <td>0.000000</td>\n",
       "      <td>4.000000</td>\n",
       "      <td>0.000000</td>\n",
       "      <td>14.500000</td>\n",
       "      <td>7.000000</td>\n",
       "      <td>6.000000</td>\n",
       "      <td>...</td>\n",
       "      <td>3.500000</td>\n",
       "      <td>17.000000</td>\n",
       "      <td>3.000000</td>\n",
       "      <td>1.000000</td>\n",
       "      <td>0.000000</td>\n",
       "      <td>0.000000</td>\n",
       "      <td>9.500000</td>\n",
       "      <td>0.000000</td>\n",
       "      <td>5.000000</td>\n",
       "      <td>8.500000</td>\n",
       "    </tr>\n",
       "    <tr>\n",
       "      <th>75%</th>\n",
       "      <td>1.250000</td>\n",
       "      <td>19.500000</td>\n",
       "      <td>6.500000</td>\n",
       "      <td>2.250000</td>\n",
       "      <td>0.000000</td>\n",
       "      <td>5.000000</td>\n",
       "      <td>1.000000</td>\n",
       "      <td>22.250000</td>\n",
       "      <td>10.250000</td>\n",
       "      <td>9.250000</td>\n",
       "      <td>...</td>\n",
       "      <td>7.250000</td>\n",
       "      <td>26.750000</td>\n",
       "      <td>4.250000</td>\n",
       "      <td>2.000000</td>\n",
       "      <td>2.500000</td>\n",
       "      <td>2.000000</td>\n",
       "      <td>11.250000</td>\n",
       "      <td>2.000000</td>\n",
       "      <td>5.500000</td>\n",
       "      <td>33.500000</td>\n",
       "    </tr>\n",
       "    <tr>\n",
       "      <th>max</th>\n",
       "      <td>6.000000</td>\n",
       "      <td>25.000000</td>\n",
       "      <td>11.000000</td>\n",
       "      <td>6.000000</td>\n",
       "      <td>1.000000</td>\n",
       "      <td>7.000000</td>\n",
       "      <td>3.000000</td>\n",
       "      <td>24.000000</td>\n",
       "      <td>16.000000</td>\n",
       "      <td>22.000000</td>\n",
       "      <td>...</td>\n",
       "      <td>17.000000</td>\n",
       "      <td>37.000000</td>\n",
       "      <td>11.000000</td>\n",
       "      <td>4.000000</td>\n",
       "      <td>6.000000</td>\n",
       "      <td>5.000000</td>\n",
       "      <td>16.000000</td>\n",
       "      <td>3.000000</td>\n",
       "      <td>12.000000</td>\n",
       "      <td>75.000000</td>\n",
       "    </tr>\n",
       "  </tbody>\n",
       "</table>\n",
       "<p>8 rows × 27 columns</p>\n",
       "</div>"
      ],
      "text/plain": [
       "       Accenteur mouchet  Corneille noire  Fauvette à tête noire  \\\n",
       "count          12.000000        12.000000              12.000000   \n",
       "mean            1.166667        13.416667               3.416667   \n",
       "std             1.800673         7.012435               4.187825   \n",
       "min             0.000000         5.000000               0.000000   \n",
       "25%             0.000000         7.000000               0.000000   \n",
       "50%             0.500000        12.500000               1.000000   \n",
       "75%             1.250000        19.500000               6.500000   \n",
       "max             6.000000        25.000000              11.000000   \n",
       "\n",
       "       Geai des chênes  Goéland argenté  Grimpereau des jardins  \\\n",
       "count        12.000000        12.000000               12.000000   \n",
       "mean          2.083333         0.083333                3.666667   \n",
       "std           1.564279         0.288675                1.874874   \n",
       "min           1.000000         0.000000                1.000000   \n",
       "25%           1.000000         0.000000                2.000000   \n",
       "50%           1.500000         0.000000                4.000000   \n",
       "75%           2.250000         0.000000                5.000000   \n",
       "max           6.000000         1.000000                7.000000   \n",
       "\n",
       "       Grive musicienne  Merle noir  Mésange bleue  Mésange charbonnière  ...  \\\n",
       "count         12.000000   12.000000      12.000000             12.000000  ...   \n",
       "mean           0.500000   14.916667       8.333333              7.333333  ...   \n",
       "std            0.904534    7.378819       4.163332              5.630006  ...   \n",
       "min            0.000000    3.000000       4.000000              2.000000  ...   \n",
       "25%            0.000000   10.750000       5.750000              3.000000  ...   \n",
       "50%            0.000000   14.500000       7.000000              6.000000  ...   \n",
       "75%            1.000000   22.250000      10.250000              9.250000  ...   \n",
       "max            3.000000   24.000000      16.000000             22.000000  ...   \n",
       "\n",
       "       Pigeon biset  Pigeon ramier  Pinson des arbres  Pouillot véloce  \\\n",
       "count     12.000000      12.000000          12.000000        12.000000   \n",
       "mean       5.250000      19.333333           3.250000         1.166667   \n",
       "std        4.845335      10.915655           3.137022         1.337116   \n",
       "min        1.000000       6.000000           0.000000         0.000000   \n",
       "25%        1.750000       9.750000           0.750000         0.000000   \n",
       "50%        3.500000      17.000000           3.000000         1.000000   \n",
       "75%        7.250000      26.750000           4.250000         2.000000   \n",
       "max       17.000000      37.000000          11.000000         4.000000   \n",
       "\n",
       "       Roitelet huppé  Roitelet à triple bandeau  Rougegorge familier  \\\n",
       "count       12.000000                  12.000000            12.000000   \n",
       "mean         1.416667                   1.250000             8.500000   \n",
       "std          2.108784                   1.912875             4.719399   \n",
       "min          0.000000                   0.000000             1.000000   \n",
       "25%          0.000000                   0.000000             5.500000   \n",
       "50%          0.000000                   0.000000             9.500000   \n",
       "75%          2.500000                   2.000000            11.250000   \n",
       "max          6.000000                   5.000000            16.000000   \n",
       "\n",
       "       Sittelle torchepot  Troglodyte mignon  Étourneau sansonnet  \n",
       "count           12.000000          12.000000            12.000000  \n",
       "mean             1.000000           5.083333            19.250000  \n",
       "std              1.279204           3.315483            23.798873  \n",
       "min              0.000000           1.000000             0.000000  \n",
       "25%              0.000000           3.500000             1.500000  \n",
       "50%              0.000000           5.000000             8.500000  \n",
       "75%              2.000000           5.500000            33.500000  \n",
       "max              3.000000          12.000000            75.000000  \n",
       "\n",
       "[8 rows x 27 columns]"
      ]
     },
     "execution_count": 8,
     "metadata": {},
     "output_type": "execute_result"
    }
   ],
   "source": [
    "df_only_birds = df.drop(\"Mois\", axis=1)\n",
    "df_only_birds.describe()"
   ]
  },
  {
   "cell_type": "markdown",
   "id": "8475e7f5",
   "metadata": {},
   "source": [
    "# Question 1"
   ]
  },
  {
   "cell_type": "markdown",
   "id": "3623b259",
   "metadata": {},
   "source": [
    "Combien d’individus, toute espèce confondue, et d’espèces différentes ont été\n",
    "observés dans le parc ?"
   ]
  },
  {
   "cell_type": "code",
   "execution_count": 9,
   "id": "69030965",
   "metadata": {},
   "outputs": [
    {
     "name": "stdout",
     "output_type": "stream",
     "text": [
      "Total de chaque espèce :\n",
      " Accenteur mouchet             14\n",
      "Corneille noire              161\n",
      "Fauvette à tête noire         41\n",
      "Geai des chênes               25\n",
      "Goéland argenté                1\n",
      "Grimpereau des jardins        44\n",
      "Grive musicienne               6\n",
      "Merle noir                   179\n",
      "Mésange bleue                100\n",
      "Mésange charbonnière          88\n",
      "Mésange huppée                 2\n",
      "Mésange noire                  1\n",
      "Mésange à longue queue        22\n",
      "Perruche à collier            99\n",
      "Pic vert                      26\n",
      "Pic épeiche                    2\n",
      "Pie bavarde                   75\n",
      "Pigeon biset                  63\n",
      "Pigeon ramier                232\n",
      "Pinson des arbres             39\n",
      "Pouillot véloce               14\n",
      "Roitelet huppé                17\n",
      "Roitelet à triple bandeau     15\n",
      "Rougegorge familier          102\n",
      "Sittelle torchepot            12\n",
      "Troglodyte mignon             61\n",
      "Étourneau sansonnet          231\n",
      "dtype: int64\n",
      "Total tout espèce confondu :  1672\n"
     ]
    }
   ],
   "source": [
    "total_each_bird = df_only_birds.sum()\n",
    "total_all_birds = total_each_bird.sum()\n",
    "print(\"Total de chaque espèce :\\n\", total_each_bird)\n",
    "print(\"Total tout espèce confondu : \", total_all_birds)"
   ]
  },
  {
   "cell_type": "markdown",
   "id": "98593a9b",
   "metadata": {},
   "source": [
    "Quelle espèce a été la plus observée dans l’année ?"
   ]
  },
  {
   "cell_type": "code",
   "execution_count": 10,
   "id": "bb223978",
   "metadata": {},
   "outputs": [
    {
     "name": "stdout",
     "output_type": "stream",
     "text": [
      "Les/L'espèce(s) les/la plus observée(s) dans l'année sont/est : Pigeon ramier\n"
     ]
    }
   ],
   "source": [
    "max_observed_birds_value = total_each_bird.max()\n",
    "highly_observed_birds = total_each_bird.index[total_each_bird == max_observed_birds_value]\n",
    "highly_observed_birds_names = ', '.join(highly_observed_birds)\n",
    "\n",
    "print(\"Les/L'espèce(s) les/la plus observée(s) dans l'année sont/est :\", highly_observed_birds_names)"
   ]
  },
  {
   "cell_type": "markdown",
   "id": "1dac1d2f",
   "metadata": {},
   "source": [
    "Quelle espèce a été la moins observée dans l’année ?"
   ]
  },
  {
   "cell_type": "code",
   "execution_count": 11,
   "id": "35baa1ef",
   "metadata": {},
   "outputs": [
    {
     "name": "stdout",
     "output_type": "stream",
     "text": [
      "Les/L'espèce(s) les/la moins observée(s) dans l'année sont/est : Goéland argenté, Mésange noire\n"
     ]
    }
   ],
   "source": [
    "min_observed_birds_value = total_each_bird.min()\n",
    "lightly_observed_birds = total_each_bird.index[total_each_bird == min_observed_birds_value]\n",
    "lightly_observed_birds_names = ', '.join(lightly_observed_birds)\n",
    "\n",
    "print(\"Les/L'espèce(s) les/la moins observée(s) dans l'année sont/est :\", lightly_observed_birds_names)"
   ]
  },
  {
   "cell_type": "markdown",
   "id": "e0895425",
   "metadata": {},
   "source": [
    "Pour chacune de ces deux espèces, combien d’individus ont été comptabilisés ?"
   ]
  },
  {
   "cell_type": "code",
   "execution_count": 12,
   "id": "ca6f683e",
   "metadata": {},
   "outputs": [
    {
     "name": "stdout",
     "output_type": "stream",
     "text": [
      "Le nombre maximum d'individus observé sur une espèce est de 232\n",
      "Le nombre minimum d'individus observé sur une espèce est de 1\n"
     ]
    }
   ],
   "source": [
    "print(\"Le nombre maximum d'individus observé sur une espèce est de\", max_observed_birds_value)\n",
    "print(\"Le nombre minimum d'individus observé sur une espèce est de\", min_observed_birds_value)"
   ]
  },
  {
   "cell_type": "markdown",
   "id": "d6103d88",
   "metadata": {},
   "source": [
    "# Question 2"
   ]
  },
  {
   "cell_type": "markdown",
   "id": "cf045d29",
   "metadata": {},
   "source": [
    "Certaines valeurs sont égales à 0 dans votre fichier. Interprétez. Combien de mois et\n",
    "d’espèces différentes sont concernés ? Supprimez ces espèces. Elles ne seront pas\n",
    "prises en compte dans la suite de notre analyse."
   ]
  },
  {
   "cell_type": "markdown",
   "id": "59cbe7c0",
   "metadata": {},
   "source": [
    "Il peut y avoir plusieurs raisons du fait qu'il y a ait des 0 dans le dataframe :\n",
    "- Il n'y a simplement pas eu d'observations de l'espèce durant le mois concerné\n",
    "- Dû à des quelconques problèmes techniques, les observations n'ont pas été faites\n",
    "- Le partage des données n'a pas été fait ou mal fait (manque de données)\n",
    "- Corruption du fichier donc effacement/reset de cellules"
   ]
  },
  {
   "cell_type": "code",
   "execution_count": 13,
   "id": "be2518fb",
   "metadata": {},
   "outputs": [
    {
     "name": "stdout",
     "output_type": "stream",
     "text": [
      "Le nombre de mois concernés est 12\n",
      "Le nombre d'espèces concernées est 15\n"
     ]
    }
   ],
   "source": [
    "months_zero_serie = (df == 0).any(axis=1)\n",
    "months_zero_value = months_zero_serie.sum()\n",
    "birds_zero_serie = (df == 0).any(axis=0)\n",
    "birds_zero_value = birds_zero_serie.sum()\n",
    "\n",
    "print(\"Le nombre de mois concernés est\", months_zero_value)\n",
    "print(\"Le nombre d'espèces concernées est\", birds_zero_value)"
   ]
  },
  {
   "cell_type": "code",
   "execution_count": 14,
   "id": "3445873e",
   "metadata": {},
   "outputs": [
    {
     "data": {
      "text/html": [
       "<div>\n",
       "<style scoped>\n",
       "    .dataframe tbody tr th:only-of-type {\n",
       "        vertical-align: middle;\n",
       "    }\n",
       "\n",
       "    .dataframe tbody tr th {\n",
       "        vertical-align: top;\n",
       "    }\n",
       "\n",
       "    .dataframe thead th {\n",
       "        text-align: right;\n",
       "    }\n",
       "</style>\n",
       "<table border=\"1\" class=\"dataframe\">\n",
       "  <thead>\n",
       "    <tr style=\"text-align: right;\">\n",
       "      <th></th>\n",
       "      <th>Mois</th>\n",
       "      <th>Corneille noire</th>\n",
       "      <th>Geai des chênes</th>\n",
       "      <th>Grimpereau des jardins</th>\n",
       "      <th>Merle noir</th>\n",
       "      <th>Mésange bleue</th>\n",
       "      <th>Mésange charbonnière</th>\n",
       "      <th>Perruche à collier</th>\n",
       "      <th>Pie bavarde</th>\n",
       "      <th>Pigeon biset</th>\n",
       "      <th>Pigeon ramier</th>\n",
       "      <th>Rougegorge familier</th>\n",
       "      <th>Troglodyte mignon</th>\n",
       "    </tr>\n",
       "  </thead>\n",
       "  <tbody>\n",
       "    <tr>\n",
       "      <th>0</th>\n",
       "      <td>janvier</td>\n",
       "      <td>22</td>\n",
       "      <td>4</td>\n",
       "      <td>3</td>\n",
       "      <td>22</td>\n",
       "      <td>16</td>\n",
       "      <td>22</td>\n",
       "      <td>18</td>\n",
       "      <td>15</td>\n",
       "      <td>1</td>\n",
       "      <td>37</td>\n",
       "      <td>14</td>\n",
       "      <td>5</td>\n",
       "    </tr>\n",
       "    <tr>\n",
       "      <th>1</th>\n",
       "      <td>fevrier</td>\n",
       "      <td>9</td>\n",
       "      <td>3</td>\n",
       "      <td>4</td>\n",
       "      <td>13</td>\n",
       "      <td>7</td>\n",
       "      <td>9</td>\n",
       "      <td>2</td>\n",
       "      <td>8</td>\n",
       "      <td>1</td>\n",
       "      <td>8</td>\n",
       "      <td>6</td>\n",
       "      <td>4</td>\n",
       "    </tr>\n",
       "    <tr>\n",
       "      <th>2</th>\n",
       "      <td>mars</td>\n",
       "      <td>25</td>\n",
       "      <td>2</td>\n",
       "      <td>7</td>\n",
       "      <td>24</td>\n",
       "      <td>16</td>\n",
       "      <td>12</td>\n",
       "      <td>16</td>\n",
       "      <td>15</td>\n",
       "      <td>17</td>\n",
       "      <td>24</td>\n",
       "      <td>9</td>\n",
       "      <td>10</td>\n",
       "    </tr>\n",
       "    <tr>\n",
       "      <th>3</th>\n",
       "      <td>avril</td>\n",
       "      <td>7</td>\n",
       "      <td>2</td>\n",
       "      <td>2</td>\n",
       "      <td>12</td>\n",
       "      <td>7</td>\n",
       "      <td>4</td>\n",
       "      <td>7</td>\n",
       "      <td>1</td>\n",
       "      <td>3</td>\n",
       "      <td>10</td>\n",
       "      <td>1</td>\n",
       "      <td>5</td>\n",
       "    </tr>\n",
       "    <tr>\n",
       "      <th>4</th>\n",
       "      <td>mai</td>\n",
       "      <td>7</td>\n",
       "      <td>1</td>\n",
       "      <td>5</td>\n",
       "      <td>24</td>\n",
       "      <td>4</td>\n",
       "      <td>2</td>\n",
       "      <td>9</td>\n",
       "      <td>5</td>\n",
       "      <td>8</td>\n",
       "      <td>9</td>\n",
       "      <td>11</td>\n",
       "      <td>7</td>\n",
       "    </tr>\n",
       "    <tr>\n",
       "      <th>5</th>\n",
       "      <td>juin</td>\n",
       "      <td>15</td>\n",
       "      <td>1</td>\n",
       "      <td>5</td>\n",
       "      <td>23</td>\n",
       "      <td>8</td>\n",
       "      <td>10</td>\n",
       "      <td>13</td>\n",
       "      <td>8</td>\n",
       "      <td>3</td>\n",
       "      <td>25</td>\n",
       "      <td>11</td>\n",
       "      <td>12</td>\n",
       "    </tr>\n",
       "    <tr>\n",
       "      <th>6</th>\n",
       "      <td>juillet</td>\n",
       "      <td>10</td>\n",
       "      <td>2</td>\n",
       "      <td>5</td>\n",
       "      <td>11</td>\n",
       "      <td>6</td>\n",
       "      <td>3</td>\n",
       "      <td>4</td>\n",
       "      <td>5</td>\n",
       "      <td>4</td>\n",
       "      <td>13</td>\n",
       "      <td>4</td>\n",
       "      <td>2</td>\n",
       "    </tr>\n",
       "    <tr>\n",
       "      <th>7</th>\n",
       "      <td>aout</td>\n",
       "      <td>21</td>\n",
       "      <td>1</td>\n",
       "      <td>2</td>\n",
       "      <td>17</td>\n",
       "      <td>10</td>\n",
       "      <td>5</td>\n",
       "      <td>2</td>\n",
       "      <td>4</td>\n",
       "      <td>7</td>\n",
       "      <td>14</td>\n",
       "      <td>10</td>\n",
       "      <td>5</td>\n",
       "    </tr>\n",
       "    <tr>\n",
       "      <th>8</th>\n",
       "      <td>septembre</td>\n",
       "      <td>15</td>\n",
       "      <td>1</td>\n",
       "      <td>5</td>\n",
       "      <td>10</td>\n",
       "      <td>11</td>\n",
       "      <td>8</td>\n",
       "      <td>12</td>\n",
       "      <td>6</td>\n",
       "      <td>2</td>\n",
       "      <td>32</td>\n",
       "      <td>12</td>\n",
       "      <td>5</td>\n",
       "    </tr>\n",
       "    <tr>\n",
       "      <th>9</th>\n",
       "      <td>octobre</td>\n",
       "      <td>6</td>\n",
       "      <td>1</td>\n",
       "      <td>1</td>\n",
       "      <td>4</td>\n",
       "      <td>4</td>\n",
       "      <td>3</td>\n",
       "      <td>4</td>\n",
       "      <td>2</td>\n",
       "      <td>1</td>\n",
       "      <td>34</td>\n",
       "      <td>6</td>\n",
       "      <td>1</td>\n",
       "    </tr>\n",
       "    <tr>\n",
       "      <th>10</th>\n",
       "      <td>novembre</td>\n",
       "      <td>19</td>\n",
       "      <td>6</td>\n",
       "      <td>4</td>\n",
       "      <td>16</td>\n",
       "      <td>6</td>\n",
       "      <td>7</td>\n",
       "      <td>9</td>\n",
       "      <td>3</td>\n",
       "      <td>11</td>\n",
       "      <td>20</td>\n",
       "      <td>16</td>\n",
       "      <td>4</td>\n",
       "    </tr>\n",
       "    <tr>\n",
       "      <th>11</th>\n",
       "      <td>decembre</td>\n",
       "      <td>5</td>\n",
       "      <td>1</td>\n",
       "      <td>1</td>\n",
       "      <td>3</td>\n",
       "      <td>5</td>\n",
       "      <td>3</td>\n",
       "      <td>3</td>\n",
       "      <td>3</td>\n",
       "      <td>5</td>\n",
       "      <td>6</td>\n",
       "      <td>2</td>\n",
       "      <td>1</td>\n",
       "    </tr>\n",
       "  </tbody>\n",
       "</table>\n",
       "</div>"
      ],
      "text/plain": [
       "         Mois  Corneille noire  Geai des chênes  Grimpereau des jardins  \\\n",
       "0     janvier               22                4                       3   \n",
       "1     fevrier                9                3                       4   \n",
       "2        mars               25                2                       7   \n",
       "3       avril                7                2                       2   \n",
       "4         mai                7                1                       5   \n",
       "5        juin               15                1                       5   \n",
       "6     juillet               10                2                       5   \n",
       "7        aout               21                1                       2   \n",
       "8   septembre               15                1                       5   \n",
       "9     octobre                6                1                       1   \n",
       "10   novembre               19                6                       4   \n",
       "11   decembre                5                1                       1   \n",
       "\n",
       "    Merle noir  Mésange bleue  Mésange charbonnière  Perruche à collier  \\\n",
       "0           22             16                    22                  18   \n",
       "1           13              7                     9                   2   \n",
       "2           24             16                    12                  16   \n",
       "3           12              7                     4                   7   \n",
       "4           24              4                     2                   9   \n",
       "5           23              8                    10                  13   \n",
       "6           11              6                     3                   4   \n",
       "7           17             10                     5                   2   \n",
       "8           10             11                     8                  12   \n",
       "9            4              4                     3                   4   \n",
       "10          16              6                     7                   9   \n",
       "11           3              5                     3                   3   \n",
       "\n",
       "    Pie bavarde  Pigeon biset  Pigeon ramier  Rougegorge familier  \\\n",
       "0            15             1             37                   14   \n",
       "1             8             1              8                    6   \n",
       "2            15            17             24                    9   \n",
       "3             1             3             10                    1   \n",
       "4             5             8              9                   11   \n",
       "5             8             3             25                   11   \n",
       "6             5             4             13                    4   \n",
       "7             4             7             14                   10   \n",
       "8             6             2             32                   12   \n",
       "9             2             1             34                    6   \n",
       "10            3            11             20                   16   \n",
       "11            3             5              6                    2   \n",
       "\n",
       "    Troglodyte mignon  \n",
       "0                   5  \n",
       "1                   4  \n",
       "2                  10  \n",
       "3                   5  \n",
       "4                   7  \n",
       "5                  12  \n",
       "6                   2  \n",
       "7                   5  \n",
       "8                   5  \n",
       "9                   1  \n",
       "10                  4  \n",
       "11                  1  "
      ]
     },
     "execution_count": 14,
     "metadata": {},
     "output_type": "execute_result"
    }
   ],
   "source": [
    "# Suppression des espèces contenant un 0 dans leur colonne\n",
    "birds_zero_index = birds_zero_serie[birds_zero_serie == True].index\n",
    "df_without_birds_zero = df.drop(columns=birds_zero_index)\n",
    "df_without_birds_zero_and_months = df_without_birds_zero.drop(columns=\"Mois\")\n",
    "df_without_birds_zero"
   ]
  },
  {
   "cell_type": "markdown",
   "id": "a1451fee",
   "metadata": {},
   "source": [
    "# Question 3"
   ]
  },
  {
   "cell_type": "markdown",
   "id": "e966bfb5",
   "metadata": {},
   "source": [
    "Calculez la variance du nombre d’oiseaux observés pour chaque espèce restante.\n",
    "Commentez. Quelle est l’espèce dont le nombre d’observations par mois varie le plus\n",
    "? Quelle est l’espèce dont le nombre d’observations par mois varie le moins ?"
   ]
  },
  {
   "cell_type": "code",
   "execution_count": 15,
   "id": "2b97a924",
   "metadata": {},
   "outputs": [
    {
     "data": {
      "text/plain": [
       "Corneille noire            49.174242\n",
       "Geai des chênes             2.446970\n",
       "Grimpereau des jardins      3.515152\n",
       "Merle noir                 54.446970\n",
       "Mésange bleue              17.333333\n",
       "Mésange charbonnière       31.696970\n",
       "Perruche à collier         30.568182\n",
       "Pie bavarde                21.295455\n",
       "Pigeon biset               23.477273\n",
       "Pigeon ramier             119.151515\n",
       "Rougegorge familier        22.272727\n",
       "Troglodyte mignon          10.992424\n",
       "dtype: float64"
      ]
     },
     "execution_count": 15,
     "metadata": {},
     "output_type": "execute_result"
    }
   ],
   "source": [
    "var_species = df_without_birds_zero_and_months.var(axis=0)\n",
    "var_species"
   ]
  },
  {
   "cell_type": "markdown",
   "id": "7218da1f",
   "metadata": {},
   "source": [
    "Rappel : La variance mesure la dispersion des valeurs autour de la moyenne.\n",
    "Dans le contexte d'obervations d'espèces d'oiseaux au fil de l'année, on peut interpréter ces valeurs comme la stabilité d'une population au cours de l'année."
   ]
  },
  {
   "cell_type": "code",
   "execution_count": 16,
   "id": "930f7f34",
   "metadata": {},
   "outputs": [
    {
     "name": "stdout",
     "output_type": "stream",
     "text": [
      "L'espèce dont le nombre d'observations varie le moins est Geai des chênes\n",
      "L'espèce dont le nombre d'observations varie le plus est Pigeon ramier\n"
     ]
    }
   ],
   "source": [
    "min_var_species_value = var_species.min()\n",
    "max_var_species_value = var_species.max()\n",
    "\n",
    "min_var_species_name = var_species.index[var_species == min_var_species_value]\n",
    "min_var_species_name_tostring = \" ,\".join(min_var_species_name)\n",
    "max_var_species_name = var_species.index[var_species == max_var_species_value]\n",
    "max_var_species_name_tostring = \" ,\".join(max_var_species_name)\n",
    "\n",
    "print(\"L'espèce dont le nombre d'observations varie le moins est\", min_var_species_name_tostring)\n",
    "print(\"L'espèce dont le nombre d'observations varie le plus est\", max_var_species_name_tostring)"
   ]
  },
  {
   "cell_type": "markdown",
   "id": "92d2b797",
   "metadata": {},
   "source": [
    "# Question 4"
   ]
  },
  {
   "cell_type": "markdown",
   "id": "98eb76d2",
   "metadata": {},
   "source": [
    "Calculez la moyenne, la médiane, le minimum, le maximum et l’écart-type du nombre\n",
    "de perruches observées. Affichez l’histogramme de ces observations. Commentez"
   ]
  },
  {
   "cell_type": "code",
   "execution_count": 17,
   "id": "c348ac55",
   "metadata": {},
   "outputs": [],
   "source": [
    "studied_species = \"Perruche à collier\""
   ]
  },
  {
   "cell_type": "code",
   "execution_count": 18,
   "id": "dd3854c3",
   "metadata": {},
   "outputs": [],
   "source": [
    "import matplotlib.pyplot as plt"
   ]
  },
  {
   "cell_type": "code",
   "execution_count": 19,
   "id": "3b5c990a",
   "metadata": {},
   "outputs": [
    {
     "name": "stdout",
     "output_type": "stream",
     "text": [
      "Le minimum d'observations de perruche est de 2\n",
      "Le maximum d'observations de perruche est de 18\n"
     ]
    }
   ],
   "source": [
    "mean_perruche = df_without_birds_zero[studied_species].mean()\n",
    "median_perruche = df_without_birds_zero[studied_species].median()\n",
    "min_perruche = df_without_birds_zero[studied_species].min()\n",
    "max_perruche = df_without_birds_zero[studied_species].max()\n",
    "std_perruche = df_without_birds_zero[studied_species].std()\n",
    "print(\"Le minimum d'observations de perruche est de\", min_perruche)\n",
    "print(\"Le maximum d'observations de perruche est de\", max_perruche)"
   ]
  },
  {
   "cell_type": "code",
   "execution_count": 20,
   "id": "462b098f",
   "metadata": {},
   "outputs": [
    {
     "name": "stdout",
     "output_type": "stream",
     "text": [
      "Saving figure hist_perruche_values\n"
     ]
    },
    {
     "data": {
      "image/png": "[encoded data removed]",
      "text/plain": [
       "<Figure size 576x432 with 1 Axes>"
      ]
     },
     "metadata": {
      "needs_background": "light"
     },
     "output_type": "display_data"
    }
   ],
   "source": [
    "plt.figure(figsize=(8, 6))\n",
    "plt.hist(df_without_birds_zero[studied_species], bins='auto', \n",
    "         color='steelblue', edgecolor='black', alpha=0.7)\n",
    "plt.axvline(mean_perruche, color='red', linestyle='dashed', \n",
    "            linewidth=2, label='Moyenne')\n",
    "plt.axvline(median_perruche, color='green', linestyle='dashed', \n",
    "            linewidth=2, label='Médiane')\n",
    "plt.xlabel('Valeurs')\n",
    "plt.ylabel('Fréquence')\n",
    "plt.legend()\n",
    "plt.text(0.95, 0.85, f'Écart-type : {std_perruche:.2f}', ha='right', va='top', transform=plt.gca().transAxes)\n",
    "plt.grid(True)\n",
    "plt.tight_layout()\n",
    "save_fig(\"hist_perruche_values\")\n",
    "plt.show()"
   ]
  },
  {
   "cell_type": "markdown",
   "id": "b4c82da6",
   "metadata": {},
   "source": [
    "On observe un écart-type et une moyenne proches. Il y a également une forte féquence sur les valeurs faibles, ce qui peut montrer une espèce voyageant en petits groupes et souvent."
   ]
  },
  {
   "cell_type": "markdown",
   "id": "1f75ce43",
   "metadata": {},
   "source": [
    "# Question 5"
   ]
  },
  {
   "cell_type": "markdown",
   "id": "dc41b584",
   "metadata": {},
   "source": [
    "Affichez l’évolution du nombre moyen d’individus observés par mois, toute espèce\n",
    "confondue en ne prenant pas en compte les perruches à collier. Superposez sur cette\n",
    "même figure l’évolution du nombre de perruches à collier observées par mois.\n",
    "Comparez visuellement et quantitativement les deux courbes."
   ]
  },
  {
   "cell_type": "code",
   "execution_count": 21,
   "id": "56d79346",
   "metadata": {},
   "outputs": [
    {
     "data": {
      "text/plain": [
       "0     14.916667\n",
       "1      6.166667\n",
       "2     14.750000\n",
       "3      5.083333\n",
       "4      7.666667\n",
       "5     11.166667\n",
       "6      5.750000\n",
       "7      8.166667\n",
       "8      9.916667\n",
       "9      5.583333\n",
       "10    10.083333\n",
       "11     3.166667\n",
       "dtype: float64"
      ]
     },
     "execution_count": 21,
     "metadata": {},
     "output_type": "execute_result"
    }
   ],
   "source": [
    "mean_df = df_without_birds_zero_and_months.mean(axis=1)\n",
    "mean_df"
   ]
  },
  {
   "cell_type": "code",
   "execution_count": 22,
   "id": "8d129235",
   "metadata": {},
   "outputs": [
    {
     "data": {
      "text/plain": [
       "0     18\n",
       "1      2\n",
       "2     16\n",
       "3      7\n",
       "4      9\n",
       "5     13\n",
       "6      4\n",
       "7      2\n",
       "8     12\n",
       "9      4\n",
       "10     9\n",
       "11     3\n",
       "Name: Perruche à collier, dtype: int64"
      ]
     },
     "execution_count": 22,
     "metadata": {},
     "output_type": "execute_result"
    }
   ],
   "source": [
    "df_without_birds_zero_and_months[studied_species]"
   ]
  },
  {
   "cell_type": "code",
   "execution_count": 23,
   "id": "c633d60c",
   "metadata": {
    "scrolled": false
   },
   "outputs": [
    {
     "name": "stdout",
     "output_type": "stream",
     "text": [
      "Saving figure graph_comparison_mean_birds_and_perruche\n"
     ]
    },
    {
     "data": {
      "image/png": "[encoded data removed]",
      "text/plain": [
       "<Figure size 432x288 with 1 Axes>"
      ]
     },
     "metadata": {
      "needs_background": "light"
     },
     "output_type": "display_data"
    }
   ],
   "source": [
    "fig, ax = plt.subplots()\n",
    "ax.plot(mean_df,\n",
    "        label=\"Moyenne d'individus\", linewidth=2)\n",
    "ax.plot(df_without_birds_zero_and_months[\"Perruche à collier\"],\n",
    "        label=\"Nombre de perruches à collier\", linewidth=2)\n",
    "plt.xlabel('Mois')\n",
    "plt.ylabel(\"Nombre d'observation\")\n",
    "ax.legend()\n",
    "plt.grid(True)\n",
    "plt.tight_layout()\n",
    "save_fig(\"graph_comparison_mean_birds_and_perruche\", save_path=\"images/graphs/\")\n",
    "plt.show()"
   ]
  },
  {
   "cell_type": "markdown",
   "id": "b63543b3",
   "metadata": {},
   "source": [
    "On peut voir que les courbes se suivent presque au fil du temps. Le seul moment où il y a un léger changement serait vers juillet où les perruches à collier auraient possiblement bougé (ou se font plus discètes).\n",
    "On pourrait presque considérer les perruches à collier comme \"l'espèce moyenne\" à étudier si l'on souhaite comprendre les fluctuations et les interactions au sein de l'écosystème aviaire. Leur comportement semble influencer les autres espèces présentes, créant ainsi un équilibre."
   ]
  },
  {
   "cell_type": "markdown",
   "id": "ecbe77c9",
   "metadata": {},
   "source": [
    "# Question 6"
   ]
  },
  {
   "cell_type": "markdown",
   "id": "bc5fa105",
   "metadata": {},
   "source": [
    "Calculez le coefficient de corrélation entre la variable Perruche à collier et chacune des autres variables.\n",
    "Quelle est la plus forte et la plus faible valeur obtenue ?\n",
    "A quelles espèces correspondent ces valeurs extrêmes ? \n",
    "Affichez le nombre d’observations de perruches à collier par mois en fonction du nombre d’observations par mois de l’espèce la fortement et faiblement corrélée. \n",
    "Sur chaque figure, représentez chaque mois par une couleur différente, et ajoutez une légende.\n",
    "Commentez."
   ]
  },
  {
   "cell_type": "code",
   "execution_count": 24,
   "id": "63c2140b",
   "metadata": {},
   "outputs": [
    {
     "data": {
      "text/html": [
       "<div>\n",
       "<style scoped>\n",
       "    .dataframe tbody tr th:only-of-type {\n",
       "        vertical-align: middle;\n",
       "    }\n",
       "\n",
       "    .dataframe tbody tr th {\n",
       "        vertical-align: top;\n",
       "    }\n",
       "\n",
       "    .dataframe thead th {\n",
       "        text-align: right;\n",
       "    }\n",
       "</style>\n",
       "<table border=\"1\" class=\"dataframe\">\n",
       "  <thead>\n",
       "    <tr style=\"text-align: right;\">\n",
       "      <th></th>\n",
       "      <th>Corneille noire</th>\n",
       "      <th>Geai des chênes</th>\n",
       "      <th>Grimpereau des jardins</th>\n",
       "      <th>Merle noir</th>\n",
       "      <th>Mésange bleue</th>\n",
       "      <th>Mésange charbonnière</th>\n",
       "      <th>Perruche à collier</th>\n",
       "      <th>Pie bavarde</th>\n",
       "      <th>Pigeon biset</th>\n",
       "      <th>Pigeon ramier</th>\n",
       "      <th>Rougegorge familier</th>\n",
       "      <th>Troglodyte mignon</th>\n",
       "    </tr>\n",
       "  </thead>\n",
       "  <tbody>\n",
       "    <tr>\n",
       "      <th>Corneille noire</th>\n",
       "      <td>1.000000</td>\n",
       "      <td>0.386060</td>\n",
       "      <td>0.447144</td>\n",
       "      <td>0.626195</td>\n",
       "      <td>0.835549</td>\n",
       "      <td>0.684657</td>\n",
       "      <td>0.620783</td>\n",
       "      <td>0.676334</td>\n",
       "      <td>0.507687</td>\n",
       "      <td>0.474268</td>\n",
       "      <td>0.679872</td>\n",
       "      <td>0.502778</td>\n",
       "    </tr>\n",
       "    <tr>\n",
       "      <th>Geai des chênes</th>\n",
       "      <td>0.386060</td>\n",
       "      <td>1.000000</td>\n",
       "      <td>0.103324</td>\n",
       "      <td>0.197557</td>\n",
       "      <td>0.176813</td>\n",
       "      <td>0.440426</td>\n",
       "      <td>0.239133</td>\n",
       "      <td>0.198349</td>\n",
       "      <td>0.188908</td>\n",
       "      <td>0.120679</td>\n",
       "      <td>0.461783</td>\n",
       "      <td>-0.106632</td>\n",
       "    </tr>\n",
       "    <tr>\n",
       "      <th>Grimpereau des jardins</th>\n",
       "      <td>0.447144</td>\n",
       "      <td>0.103324</td>\n",
       "      <td>1.000000</td>\n",
       "      <td>0.648364</td>\n",
       "      <td>0.388216</td>\n",
       "      <td>0.261244</td>\n",
       "      <td>0.543741</td>\n",
       "      <td>0.567395</td>\n",
       "      <td>0.500359</td>\n",
       "      <td>0.103648</td>\n",
       "      <td>0.400694</td>\n",
       "      <td>0.662989</td>\n",
       "    </tr>\n",
       "    <tr>\n",
       "      <th>Merle noir</th>\n",
       "      <td>0.626195</td>\n",
       "      <td>0.197557</td>\n",
       "      <td>0.648364</td>\n",
       "      <td>1.000000</td>\n",
       "      <td>0.509975</td>\n",
       "      <td>0.510609</td>\n",
       "      <td>0.657924</td>\n",
       "      <td>0.638747</td>\n",
       "      <td>0.453238</td>\n",
       "      <td>0.134689</td>\n",
       "      <td>0.599124</td>\n",
       "      <td>0.832690</td>\n",
       "    </tr>\n",
       "    <tr>\n",
       "      <th>Mésange bleue</th>\n",
       "      <td>0.835549</td>\n",
       "      <td>0.176813</td>\n",
       "      <td>0.388216</td>\n",
       "      <td>0.509975</td>\n",
       "      <td>1.000000</td>\n",
       "      <td>0.832572</td>\n",
       "      <td>0.722741</td>\n",
       "      <td>0.846985</td>\n",
       "      <td>0.261379</td>\n",
       "      <td>0.521437</td>\n",
       "      <td>0.393277</td>\n",
       "      <td>0.452236</td>\n",
       "    </tr>\n",
       "    <tr>\n",
       "      <th>Mésange charbonnière</th>\n",
       "      <td>0.684657</td>\n",
       "      <td>0.440426</td>\n",
       "      <td>0.261244</td>\n",
       "      <td>0.510609</td>\n",
       "      <td>0.832572</td>\n",
       "      <td>1.000000</td>\n",
       "      <td>0.753500</td>\n",
       "      <td>0.857277</td>\n",
       "      <td>-0.036658</td>\n",
       "      <td>0.600092</td>\n",
       "      <td>0.520062</td>\n",
       "      <td>0.378256</td>\n",
       "    </tr>\n",
       "    <tr>\n",
       "      <th>Perruche à collier</th>\n",
       "      <td>0.620783</td>\n",
       "      <td>0.239133</td>\n",
       "      <td>0.543741</td>\n",
       "      <td>0.657924</td>\n",
       "      <td>0.722741</td>\n",
       "      <td>0.753500</td>\n",
       "      <td>1.000000</td>\n",
       "      <td>0.738454</td>\n",
       "      <td>0.258755</td>\n",
       "      <td>0.641700</td>\n",
       "      <td>0.590548</td>\n",
       "      <td>0.643477</td>\n",
       "    </tr>\n",
       "    <tr>\n",
       "      <th>Pie bavarde</th>\n",
       "      <td>0.676334</td>\n",
       "      <td>0.198349</td>\n",
       "      <td>0.567395</td>\n",
       "      <td>0.638747</td>\n",
       "      <td>0.846985</td>\n",
       "      <td>0.857277</td>\n",
       "      <td>0.738454</td>\n",
       "      <td>1.000000</td>\n",
       "      <td>0.249027</td>\n",
       "      <td>0.438551</td>\n",
       "      <td>0.406988</td>\n",
       "      <td>0.527334</td>\n",
       "    </tr>\n",
       "    <tr>\n",
       "      <th>Pigeon biset</th>\n",
       "      <td>0.507687</td>\n",
       "      <td>0.188908</td>\n",
       "      <td>0.500359</td>\n",
       "      <td>0.453238</td>\n",
       "      <td>0.261379</td>\n",
       "      <td>-0.036658</td>\n",
       "      <td>0.258755</td>\n",
       "      <td>0.249027</td>\n",
       "      <td>1.000000</td>\n",
       "      <td>-0.154695</td>\n",
       "      <td>0.252447</td>\n",
       "      <td>0.389054</td>\n",
       "    </tr>\n",
       "    <tr>\n",
       "      <th>Pigeon ramier</th>\n",
       "      <td>0.474268</td>\n",
       "      <td>0.120679</td>\n",
       "      <td>0.103648</td>\n",
       "      <td>0.134689</td>\n",
       "      <td>0.521437</td>\n",
       "      <td>0.600092</td>\n",
       "      <td>0.641700</td>\n",
       "      <td>0.438551</td>\n",
       "      <td>-0.154695</td>\n",
       "      <td>1.000000</td>\n",
       "      <td>0.539998</td>\n",
       "      <td>0.167463</td>\n",
       "    </tr>\n",
       "    <tr>\n",
       "      <th>Rougegorge familier</th>\n",
       "      <td>0.679872</td>\n",
       "      <td>0.461783</td>\n",
       "      <td>0.400694</td>\n",
       "      <td>0.599124</td>\n",
       "      <td>0.393277</td>\n",
       "      <td>0.520062</td>\n",
       "      <td>0.590548</td>\n",
       "      <td>0.406988</td>\n",
       "      <td>0.252447</td>\n",
       "      <td>0.539998</td>\n",
       "      <td>1.000000</td>\n",
       "      <td>0.403793</td>\n",
       "    </tr>\n",
       "    <tr>\n",
       "      <th>Troglodyte mignon</th>\n",
       "      <td>0.502778</td>\n",
       "      <td>-0.106632</td>\n",
       "      <td>0.662989</td>\n",
       "      <td>0.832690</td>\n",
       "      <td>0.452236</td>\n",
       "      <td>0.378256</td>\n",
       "      <td>0.643477</td>\n",
       "      <td>0.527334</td>\n",
       "      <td>0.389054</td>\n",
       "      <td>0.167463</td>\n",
       "      <td>0.403793</td>\n",
       "      <td>1.000000</td>\n",
       "    </tr>\n",
       "  </tbody>\n",
       "</table>\n",
       "</div>"
      ],
      "text/plain": [
       "                        Corneille noire  Geai des chênes  \\\n",
       "Corneille noire                1.000000         0.386060   \n",
       "Geai des chênes                0.386060         1.000000   \n",
       "Grimpereau des jardins         0.447144         0.103324   \n",
       "Merle noir                     0.626195         0.197557   \n",
       "Mésange bleue                  0.835549         0.176813   \n",
       "Mésange charbonnière           0.684657         0.440426   \n",
       "Perruche à collier             0.620783         0.239133   \n",
       "Pie bavarde                    0.676334         0.198349   \n",
       "Pigeon biset                   0.507687         0.188908   \n",
       "Pigeon ramier                  0.474268         0.120679   \n",
       "Rougegorge familier            0.679872         0.461783   \n",
       "Troglodyte mignon              0.502778        -0.106632   \n",
       "\n",
       "                        Grimpereau des jardins  Merle noir  Mésange bleue  \\\n",
       "Corneille noire                       0.447144    0.626195       0.835549   \n",
       "Geai des chênes                       0.103324    0.197557       0.176813   \n",
       "Grimpereau des jardins                1.000000    0.648364       0.388216   \n",
       "Merle noir                            0.648364    1.000000       0.509975   \n",
       "Mésange bleue                         0.388216    0.509975       1.000000   \n",
       "Mésange charbonnière                  0.261244    0.510609       0.832572   \n",
       "Perruche à collier                    0.543741    0.657924       0.722741   \n",
       "Pie bavarde                           0.567395    0.638747       0.846985   \n",
       "Pigeon biset                          0.500359    0.453238       0.261379   \n",
       "Pigeon ramier                         0.103648    0.134689       0.521437   \n",
       "Rougegorge familier                   0.400694    0.599124       0.393277   \n",
       "Troglodyte mignon                     0.662989    0.832690       0.452236   \n",
       "\n",
       "                        Mésange charbonnière  Perruche à collier  Pie bavarde  \\\n",
       "Corneille noire                     0.684657            0.620783     0.676334   \n",
       "Geai des chênes                     0.440426            0.239133     0.198349   \n",
       "Grimpereau des jardins              0.261244            0.543741     0.567395   \n",
       "Merle noir                          0.510609            0.657924     0.638747   \n",
       "Mésange bleue                       0.832572            0.722741     0.846985   \n",
       "Mésange charbonnière                1.000000            0.753500     0.857277   \n",
       "Perruche à collier                  0.753500            1.000000     0.738454   \n",
       "Pie bavarde                         0.857277            0.738454     1.000000   \n",
       "Pigeon biset                       -0.036658            0.258755     0.249027   \n",
       "Pigeon ramier                       0.600092            0.641700     0.438551   \n",
       "Rougegorge familier                 0.520062            0.590548     0.406988   \n",
       "Troglodyte mignon                   0.378256            0.643477     0.527334   \n",
       "\n",
       "                        Pigeon biset  Pigeon ramier  Rougegorge familier  \\\n",
       "Corneille noire             0.507687       0.474268             0.679872   \n",
       "Geai des chênes             0.188908       0.120679             0.461783   \n",
       "Grimpereau des jardins      0.500359       0.103648             0.400694   \n",
       "Merle noir                  0.453238       0.134689             0.599124   \n",
       "Mésange bleue               0.261379       0.521437             0.393277   \n",
       "Mésange charbonnière       -0.036658       0.600092             0.520062   \n",
       "Perruche à collier          0.258755       0.641700             0.590548   \n",
       "Pie bavarde                 0.249027       0.438551             0.406988   \n",
       "Pigeon biset                1.000000      -0.154695             0.252447   \n",
       "Pigeon ramier              -0.154695       1.000000             0.539998   \n",
       "Rougegorge familier         0.252447       0.539998             1.000000   \n",
       "Troglodyte mignon           0.389054       0.167463             0.403793   \n",
       "\n",
       "                        Troglodyte mignon  \n",
       "Corneille noire                  0.502778  \n",
       "Geai des chênes                 -0.106632  \n",
       "Grimpereau des jardins           0.662989  \n",
       "Merle noir                       0.832690  \n",
       "Mésange bleue                    0.452236  \n",
       "Mésange charbonnière             0.378256  \n",
       "Perruche à collier               0.643477  \n",
       "Pie bavarde                      0.527334  \n",
       "Pigeon biset                     0.389054  \n",
       "Pigeon ramier                    0.167463  \n",
       "Rougegorge familier              0.403793  \n",
       "Troglodyte mignon                1.000000  "
      ]
     },
     "execution_count": 24,
     "metadata": {},
     "output_type": "execute_result"
    }
   ],
   "source": [
    "corr_matrix = df_without_birds_zero_and_months.corr()\n",
    "corr_matrix"
   ]
  },
  {
   "cell_type": "code",
   "execution_count": 25,
   "id": "6c02da10",
   "metadata": {
    "scrolled": false
   },
   "outputs": [
    {
     "data": {
      "text/plain": [
       "Mésange charbonnière      0.753500\n",
       "Pie bavarde               0.738454\n",
       "Mésange bleue             0.722741\n",
       "Merle noir                0.657924\n",
       "Troglodyte mignon         0.643477\n",
       "Pigeon ramier             0.641700\n",
       "Corneille noire           0.620783\n",
       "Rougegorge familier       0.590548\n",
       "Grimpereau des jardins    0.543741\n",
       "Pigeon biset              0.258755\n",
       "Geai des chênes           0.239133\n",
       "Name: Perruche à collier, dtype: float64"
      ]
     },
     "execution_count": 25,
     "metadata": {},
     "output_type": "execute_result"
    }
   ],
   "source": [
    "corr_matrix_values = corr_matrix[studied_species].sort_values(ascending=False)\n",
    "corr_matrix_values = corr_matrix_values.iloc[1:]\n",
    "corr_matrix_values"
   ]
  },
  {
   "cell_type": "code",
   "execution_count": 26,
   "id": "42c6f245",
   "metadata": {},
   "outputs": [
    {
     "name": "stdout",
     "output_type": "stream",
     "text": [
      "La plus grande corrélation est 0.7535001525090189\n",
      "La plus petite corrélation est 0.23913305731950327\n"
     ]
    }
   ],
   "source": [
    "max_corr_matrix_value = corr_matrix_values.max()\n",
    "max_corr_matrix_value\n",
    "print(\"La plus grande corrélation est\", max_corr_matrix_value)\n",
    "min_corr_matrix_value = corr_matrix_values.min()\n",
    "print(\"La plus petite corrélation est\", min_corr_matrix_value)"
   ]
  },
  {
   "cell_type": "code",
   "execution_count": 27,
   "id": "b194e405",
   "metadata": {
    "scrolled": true
   },
   "outputs": [
    {
     "name": "stdout",
     "output_type": "stream",
     "text": [
      "Le nom de l'espèce ayant la plus grande corrélation est Mésange charbonnière\n",
      "Le nom de l'espèce ayant la plus petite corrélation est Geai des chênes\n"
     ]
    }
   ],
   "source": [
    "max_corr_bird_name = corr_matrix_values.index[corr_matrix_values == max_corr_matrix_value]\n",
    "max_corr_bird_name_tostring = \" ,\".join(max_corr_bird_name)\n",
    "print(\"Le nom de l'espèce ayant la plus grande corrélation est\", max_corr_bird_name_tostring)\n",
    "min_corr_bird_name = corr_matrix_values.index[corr_matrix_values == min_corr_matrix_value]\n",
    "min_corr_bird_name_tostring = \" ,\".join(min_corr_bird_name)\n",
    "print(\"Le nom de l'espèce ayant la plus petite corrélation est\", min_corr_bird_name_tostring)"
   ]
  },
  {
   "cell_type": "code",
   "execution_count": 28,
   "id": "3764ebba",
   "metadata": {
    "scrolled": true
   },
   "outputs": [],
   "source": [
    "perruche_data = df_without_birds_zero_and_months[\"Perruche à collier\"]\n",
    "max_corr_bird_data = df_without_birds_zero_and_months[max_corr_bird_name_tostring]\n",
    "min_corr_bird_data = df_without_birds_zero_and_months[min_corr_bird_name_tostring]"
   ]
  },
  {
   "cell_type": "code",
   "execution_count": 29,
   "id": "d94fa070",
   "metadata": {},
   "outputs": [
    {
     "name": "stdout",
     "output_type": "stream",
     "text": [
      "Saving figure graph_observations_perruche_corr\n"
     ]
    },
    {
     "data": {
      "image/png": "[encoded data removed]",
      "text/plain": [
       "<Figure size 720x432 with 1 Axes>"
      ]
     },
     "metadata": {
      "needs_background": "light"
     },
     "output_type": "display_data"
    }
   ],
   "source": [
    "plt.figure(figsize=(10, 6))\n",
    "\n",
    "plt.plot(perruche_data.index, perruche_data, \n",
    "         label=\"Perruches à collier\", linewidth=2)\n",
    "plt.plot(max_corr_bird_data.index, max_corr_bird_data, \n",
    "         label=\"Espèce fortement corrélée\", linewidth=2)\n",
    "plt.plot(min_corr_bird_data.index, min_corr_bird_data, \n",
    "         label=\"Espèce faiblement corrélée\", linewidth=2)\n",
    "\n",
    "plt.legend()\n",
    "plt.grid(True)\n",
    "plt.tight_layout()\n",
    "\n",
    "plt.xlabel(\"Mois\")\n",
    "plt.ylabel(\"Nombre d'observations\")\n",
    "\n",
    "save_fig(\"graph_observations_perruche_corr\", save_path=\"images/graphs/\")\n",
    "plt.show()"
   ]
  },
  {
   "cell_type": "code",
   "execution_count": 30,
   "id": "bb87e78f",
   "metadata": {
    "scrolled": false
   },
   "outputs": [
    {
     "data": {
      "text/plain": [
       "array([[<Axes: xlabel='Perruche à collier', ylabel='Perruche à collier'>,\n",
       "        <Axes: xlabel='Mésange charbonnière', ylabel='Perruche à collier'>,\n",
       "        <Axes: xlabel='Geai des chênes', ylabel='Perruche à collier'>],\n",
       "       [<Axes: xlabel='Perruche à collier', ylabel='Mésange charbonnière'>,\n",
       "        <Axes: xlabel='Mésange charbonnière', ylabel='Mésange charbonnière'>,\n",
       "        <Axes: xlabel='Geai des chênes', ylabel='Mésange charbonnière'>],\n",
       "       [<Axes: xlabel='Perruche à collier', ylabel='Geai des chênes'>,\n",
       "        <Axes: xlabel='Mésange charbonnière', ylabel='Geai des chênes'>,\n",
       "        <Axes: xlabel='Geai des chênes', ylabel='Geai des chênes'>]],\n",
       "      dtype=object)"
      ]
     },
     "execution_count": 30,
     "metadata": {},
     "output_type": "execute_result"
    },
    {
     "data": {
      "image/png": "[encoded data removed]",
      "text/plain": [
       "<Figure size 864x576 with 9 Axes>"
      ]
     },
     "metadata": {
      "needs_background": "light"
     },
     "output_type": "display_data"
    }
   ],
   "source": [
    "from pandas.plotting import scatter_matrix\n",
    "\n",
    "attributes = [\"Perruche à collier\",\n",
    "              max_corr_bird_name_tostring,\n",
    "              min_corr_bird_name_tostring]\n",
    "scatter_matrix(df_only_birds[attributes], figsize=(12, 8))"
   ]
  },
  {
   "cell_type": "markdown",
   "id": "20af2e9f",
   "metadata": {},
   "source": [
    "----------\n",
    "Conservation des espèces les plus intéressantes à étudier en une variable (la plus haute corrélation avec Perruche à collier)"
   ]
  },
  {
   "cell_type": "code",
   "execution_count": 31,
   "id": "62bfb23a",
   "metadata": {},
   "outputs": [
    {
     "data": {
      "text/plain": [
       "Mésange charbonnière    0.753500\n",
       "Pie bavarde             0.738454\n",
       "Mésange bleue           0.722741\n",
       "Merle noir              0.657924\n",
       "Name: Perruche à collier, dtype: float64"
      ]
     },
     "execution_count": 31,
     "metadata": {},
     "output_type": "execute_result"
    }
   ],
   "source": [
    "interesting_species_serie = corr_matrix_values[:4]\n",
    "interesting_species_serie"
   ]
  },
  {
   "cell_type": "code",
   "execution_count": 32,
   "id": "2f816f17",
   "metadata": {},
   "outputs": [
    {
     "data": {
      "text/html": [
       "<div>\n",
       "<style scoped>\n",
       "    .dataframe tbody tr th:only-of-type {\n",
       "        vertical-align: middle;\n",
       "    }\n",
       "\n",
       "    .dataframe tbody tr th {\n",
       "        vertical-align: top;\n",
       "    }\n",
       "\n",
       "    .dataframe thead th {\n",
       "        text-align: right;\n",
       "    }\n",
       "</style>\n",
       "<table border=\"1\" class=\"dataframe\">\n",
       "  <thead>\n",
       "    <tr style=\"text-align: right;\">\n",
       "      <th></th>\n",
       "      <th>Merle noir</th>\n",
       "      <th>Mésange bleue</th>\n",
       "      <th>Mésange charbonnière</th>\n",
       "      <th>Pie bavarde</th>\n",
       "    </tr>\n",
       "  </thead>\n",
       "  <tbody>\n",
       "    <tr>\n",
       "      <th>0</th>\n",
       "      <td>22</td>\n",
       "      <td>16</td>\n",
       "      <td>22</td>\n",
       "      <td>15</td>\n",
       "    </tr>\n",
       "    <tr>\n",
       "      <th>1</th>\n",
       "      <td>13</td>\n",
       "      <td>7</td>\n",
       "      <td>9</td>\n",
       "      <td>8</td>\n",
       "    </tr>\n",
       "    <tr>\n",
       "      <th>2</th>\n",
       "      <td>24</td>\n",
       "      <td>16</td>\n",
       "      <td>12</td>\n",
       "      <td>15</td>\n",
       "    </tr>\n",
       "    <tr>\n",
       "      <th>3</th>\n",
       "      <td>12</td>\n",
       "      <td>7</td>\n",
       "      <td>4</td>\n",
       "      <td>1</td>\n",
       "    </tr>\n",
       "    <tr>\n",
       "      <th>4</th>\n",
       "      <td>24</td>\n",
       "      <td>4</td>\n",
       "      <td>2</td>\n",
       "      <td>5</td>\n",
       "    </tr>\n",
       "    <tr>\n",
       "      <th>5</th>\n",
       "      <td>23</td>\n",
       "      <td>8</td>\n",
       "      <td>10</td>\n",
       "      <td>8</td>\n",
       "    </tr>\n",
       "    <tr>\n",
       "      <th>6</th>\n",
       "      <td>11</td>\n",
       "      <td>6</td>\n",
       "      <td>3</td>\n",
       "      <td>5</td>\n",
       "    </tr>\n",
       "    <tr>\n",
       "      <th>7</th>\n",
       "      <td>17</td>\n",
       "      <td>10</td>\n",
       "      <td>5</td>\n",
       "      <td>4</td>\n",
       "    </tr>\n",
       "    <tr>\n",
       "      <th>8</th>\n",
       "      <td>10</td>\n",
       "      <td>11</td>\n",
       "      <td>8</td>\n",
       "      <td>6</td>\n",
       "    </tr>\n",
       "    <tr>\n",
       "      <th>9</th>\n",
       "      <td>4</td>\n",
       "      <td>4</td>\n",
       "      <td>3</td>\n",
       "      <td>2</td>\n",
       "    </tr>\n",
       "    <tr>\n",
       "      <th>10</th>\n",
       "      <td>16</td>\n",
       "      <td>6</td>\n",
       "      <td>7</td>\n",
       "      <td>3</td>\n",
       "    </tr>\n",
       "    <tr>\n",
       "      <th>11</th>\n",
       "      <td>3</td>\n",
       "      <td>5</td>\n",
       "      <td>3</td>\n",
       "      <td>3</td>\n",
       "    </tr>\n",
       "  </tbody>\n",
       "</table>\n",
       "</div>"
      ],
      "text/plain": [
       "    Merle noir  Mésange bleue  Mésange charbonnière  Pie bavarde\n",
       "0           22             16                    22           15\n",
       "1           13              7                     9            8\n",
       "2           24             16                    12           15\n",
       "3           12              7                     4            1\n",
       "4           24              4                     2            5\n",
       "5           23              8                    10            8\n",
       "6           11              6                     3            5\n",
       "7           17             10                     5            4\n",
       "8           10             11                     8            6\n",
       "9            4              4                     3            2\n",
       "10          16              6                     7            3\n",
       "11           3              5                     3            3"
      ]
     },
     "execution_count": 32,
     "metadata": {},
     "output_type": "execute_result"
    }
   ],
   "source": [
    "columns_to_keep = interesting_species_serie.index.tolist()\n",
    "df_highest_corr_perruche = df_without_birds_zero.drop(\n",
    "    columns=[\n",
    "        col for col in df_without_birds_zero.columns \n",
    "        if col not in columns_to_keep\n",
    "    ])\n",
    "df_highest_corr_perruche"
   ]
  },
  {
   "cell_type": "markdown",
   "id": "4f2659af",
   "metadata": {},
   "source": [
    "---------------"
   ]
  },
  {
   "cell_type": "code",
   "execution_count": 33,
   "id": "8fc62254",
   "metadata": {},
   "outputs": [],
   "source": [
    "colors = ['blue', 'green', 'red', 'purple', 'orange', 'yellow', 'brown',\n",
    "          'pink', 'gray', 'olive', 'cyan', 'magenta']"
   ]
  },
  {
   "cell_type": "code",
   "execution_count": 34,
   "id": "a6600da3",
   "metadata": {
    "scrolled": false
   },
   "outputs": [
    {
     "name": "stdout",
     "output_type": "stream",
     "text": [
      "Saving figure graph_max_corr_perruche\n"
     ]
    },
    {
     "data": {
      "image/png": "[encoded data removed]",
      "text/plain": [
       "<Figure size 720x432 with 1 Axes>"
      ]
     },
     "metadata": {
      "needs_background": "light"
     },
     "output_type": "display_data"
    }
   ],
   "source": [
    "title = \"Observations of {} vs. {}\".format(studied_species, max_corr_bird_name_tostring)\n",
    "file_name = \"graph_max_corr_perruche\"\n",
    "\n",
    "plt.figure(figsize=(10, 6))\n",
    "\n",
    "for i, month in enumerate(df_without_birds_zero[\"Mois\"]):\n",
    "    month_data = df_without_birds_zero[df_without_birds_zero[\"Mois\"] == month]\n",
    "    plt.scatter(month_data[max_corr_bird_name_tostring], month_data[studied_species], c=colors[i], label=month)\n",
    "    \n",
    "handles = [plt.Line2D([], [], marker='o', color='w', markerfacecolor=color, label=month) for month, color in zip(df_without_birds_zero[\"Mois\"], colors)]\n",
    "plt.legend(handles=handles, title=\"Month\", loc='right')\n",
    "\n",
    "plt.xlabel(max_corr_bird_name_tostring)\n",
    "plt.ylabel(studied_species)\n",
    "plt.title(title)\n",
    "plt.grid(True)\n",
    "\n",
    "save_fig(file_name, save_path=\"images/scatterplots/\")\n",
    "\n",
    "plt.show()"
   ]
  },
  {
   "cell_type": "code",
   "execution_count": 35,
   "id": "cc646bfb",
   "metadata": {},
   "outputs": [
    {
     "name": "stdout",
     "output_type": "stream",
     "text": [
      "Saving figure graph_min_corr_perruche\n"
     ]
    },
    {
     "data": {
      "image/png": "[encoded data removed]",
      "text/plain": [
       "<Figure size 720x432 with 1 Axes>"
      ]
     },
     "metadata": {
      "needs_background": "light"
     },
     "output_type": "display_data"
    }
   ],
   "source": [
    "title = \"Observations of {} vs. {}\".format(studied_species, min_corr_bird_name_tostring)\n",
    "file_name = \"graph_min_corr_perruche\"\n",
    "\n",
    "plt.figure(figsize=(10, 6))\n",
    "\n",
    "for i, month in enumerate(df_without_birds_zero[\"Mois\"]):\n",
    "    month_data = df_without_birds_zero[df_without_birds_zero[\"Mois\"] == month]\n",
    "    plt.scatter(month_data[min_corr_bird_name_tostring], month_data[studied_species], c=colors[i], label=month)\n",
    "    \n",
    "handles = [plt.Line2D([], [], marker='o', color='w', markerfacecolor=color, label=month) for month, color in zip(df[\"Mois\"], colors)]\n",
    "plt.legend(handles=handles, title=\"Month\", loc='right')\n",
    "\n",
    "plt.xlabel(min_corr_bird_name_tostring)\n",
    "plt.ylabel(studied_species)\n",
    "plt.title(title)\n",
    "plt.grid(True)\n",
    "\n",
    "save_fig(file_name, save_path=\"images/scatterplots/\")\n",
    "\n",
    "plt.show()"
   ]
  },
  {
   "cell_type": "markdown",
   "id": "5f28e135",
   "metadata": {},
   "source": [
    "Commentez les 2 graphiques"
   ]
  },
  {
   "cell_type": "markdown",
   "id": "6b2541b8",
   "metadata": {},
   "source": [
    "# Question 7"
   ]
  },
  {
   "cell_type": "markdown",
   "id": "0dca0001",
   "metadata": {},
   "source": [
    "Appliquez un ACP. Affichez les deux premières composantes principales sous forme d’un nuage de points pour visualiser les résultats. Identifiez chaque mois par une couleur différente, et ajoutez une légende. Ajoutez aussi sur les axes le pourcentage de variance expliquée par chaque composante. Commentez."
   ]
  },
  {
   "cell_type": "code",
   "execution_count": 36,
   "id": "46c61db6",
   "metadata": {},
   "outputs": [
    {
     "data": {
      "text/html": [
       "<div>\n",
       "<style scoped>\n",
       "    .dataframe tbody tr th:only-of-type {\n",
       "        vertical-align: middle;\n",
       "    }\n",
       "\n",
       "    .dataframe tbody tr th {\n",
       "        vertical-align: top;\n",
       "    }\n",
       "\n",
       "    .dataframe thead th {\n",
       "        text-align: right;\n",
       "    }\n",
       "</style>\n",
       "<table border=\"1\" class=\"dataframe\">\n",
       "  <thead>\n",
       "    <tr style=\"text-align: right;\">\n",
       "      <th></th>\n",
       "      <th>PC1</th>\n",
       "      <th>PC2</th>\n",
       "      <th>Mois</th>\n",
       "    </tr>\n",
       "  </thead>\n",
       "  <tbody>\n",
       "    <tr>\n",
       "      <th>0</th>\n",
       "      <td>4.259032</td>\n",
       "      <td>2.955946</td>\n",
       "      <td>janvier</td>\n",
       "    </tr>\n",
       "    <tr>\n",
       "      <th>1</th>\n",
       "      <td>-1.109952</td>\n",
       "      <td>0.124959</td>\n",
       "      <td>fevrier</td>\n",
       "    </tr>\n",
       "    <tr>\n",
       "      <th>2</th>\n",
       "      <td>4.575200</td>\n",
       "      <td>-1.770965</td>\n",
       "      <td>mars</td>\n",
       "    </tr>\n",
       "    <tr>\n",
       "      <th>3</th>\n",
       "      <td>-2.267659</td>\n",
       "      <td>-0.213761</td>\n",
       "      <td>avril</td>\n",
       "    </tr>\n",
       "    <tr>\n",
       "      <th>4</th>\n",
       "      <td>-0.355837</td>\n",
       "      <td>-2.263301</td>\n",
       "      <td>mai</td>\n",
       "    </tr>\n",
       "    <tr>\n",
       "      <th>5</th>\n",
       "      <td>1.928759</td>\n",
       "      <td>-0.770692</td>\n",
       "      <td>juin</td>\n",
       "    </tr>\n",
       "    <tr>\n",
       "      <th>6</th>\n",
       "      <td>-1.736471</td>\n",
       "      <td>-0.475157</td>\n",
       "      <td>juillet</td>\n",
       "    </tr>\n",
       "    <tr>\n",
       "      <th>7</th>\n",
       "      <td>-0.409142</td>\n",
       "      <td>-0.419035</td>\n",
       "      <td>aout</td>\n",
       "    </tr>\n",
       "    <tr>\n",
       "      <th>8</th>\n",
       "      <td>0.808024</td>\n",
       "      <td>0.939104</td>\n",
       "      <td>septembre</td>\n",
       "    </tr>\n",
       "    <tr>\n",
       "      <th>9</th>\n",
       "      <td>-2.955551</td>\n",
       "      <td>1.779183</td>\n",
       "      <td>octobre</td>\n",
       "    </tr>\n",
       "    <tr>\n",
       "      <th>10</th>\n",
       "      <td>0.917843</td>\n",
       "      <td>-0.051008</td>\n",
       "      <td>novembre</td>\n",
       "    </tr>\n",
       "    <tr>\n",
       "      <th>11</th>\n",
       "      <td>-3.654247</td>\n",
       "      <td>0.164728</td>\n",
       "      <td>decembre</td>\n",
       "    </tr>\n",
       "  </tbody>\n",
       "</table>\n",
       "</div>"
      ],
      "text/plain": [
       "         PC1       PC2       Mois\n",
       "0   4.259032  2.955946    janvier\n",
       "1  -1.109952  0.124959    fevrier\n",
       "2   4.575200 -1.770965       mars\n",
       "3  -2.267659 -0.213761      avril\n",
       "4  -0.355837 -2.263301        mai\n",
       "5   1.928759 -0.770692       juin\n",
       "6  -1.736471 -0.475157    juillet\n",
       "7  -0.409142 -0.419035       aout\n",
       "8   0.808024  0.939104  septembre\n",
       "9  -2.955551  1.779183    octobre\n",
       "10  0.917843 -0.051008   novembre\n",
       "11 -3.654247  0.164728   decembre"
      ]
     },
     "execution_count": 36,
     "metadata": {},
     "output_type": "execute_result"
    }
   ],
   "source": [
    "from sklearn.decomposition import PCA\n",
    "from sklearn.preprocessing import StandardScaler\n",
    "\n",
    "mois = df_without_birds_zero['Mois']\n",
    "variables = df_without_birds_zero.drop('Mois', axis=1)\n",
    "\n",
    "scaler = StandardScaler()\n",
    "variables_std = scaler.fit_transform(variables)\n",
    "\n",
    "pca = PCA(n_components=2)\n",
    "components = pca.fit_transform(variables_std)\n",
    "\n",
    "components_df = pd.DataFrame(data=components, columns=['PC1', 'PC2'])\n",
    "\n",
    "components_df['Mois'] = mois\n",
    "\n",
    "components_df"
   ]
  },
  {
   "cell_type": "code",
   "execution_count": 37,
   "id": "b9b062f4",
   "metadata": {},
   "outputs": [
    {
     "name": "stdout",
     "output_type": "stream",
     "text": [
      "Saving figure graph_pca_between_two_mains_compo\n"
     ]
    },
    {
     "data": {
      "image/png": "[encoded data removed]",
      "text/plain": [
       "<Figure size 720x432 with 1 Axes>"
      ]
     },
     "metadata": {
      "needs_background": "light"
     },
     "output_type": "display_data"
    }
   ],
   "source": [
    "plt.figure(figsize=(10, 6))\n",
    "\n",
    "for i, month in enumerate(mois):\n",
    "    plt.scatter(components_df.loc[components_df['Mois'] == month, 'PC1'], components_df.loc[components_df['Mois'] == month, 'PC2'], color=colors[i], label=month)\n",
    "\n",
    "plt.legend(bbox_to_anchor=(1, 1), loc='upper left')\n",
    "\n",
    "var_pc1 = round(pca.explained_variance_ratio_[0]*100, 2)\n",
    "var_pc2 = round(pca.explained_variance_ratio_[1]*100, 2)\n",
    "\n",
    "plt.xlabel(f'PC1 ({var_pc1}%)')\n",
    "plt.ylabel(f'PC2 ({var_pc2}%)')\n",
    "\n",
    "plt.title('Nuage de points des deux premières composantes principales')\n",
    "plt.grid(True)\n",
    "\n",
    "save_fig(\"graph_pca_between_two_mains_compo\", save_path=\"images/scatterplots/\")\n",
    "plt.show()"
   ]
  },
  {
   "cell_type": "markdown",
   "id": "76bb5b70",
   "metadata": {},
   "source": [
    "Les observations d'oiseaux peuvent varier considérablement d'un mois à l'autre, ce qui est reflété par la dispersion des points dans le nuage de points. Certains mois présentent une variabilité plus élevée que d'autres, ce qui peut être observé par une dispersion plus grande des points le long des axes PC1 et PC2.\n",
    "En observant la répartition des points dans le nuage de points, nous pouvons voir s'il y a une structure ou une relation entre les mois en fonction des observations d'oiseaux. Par exemple, les mois de avril, février et juillet partagent des profils similaire en termes de fréquence d'observations d'oiseaux."
   ]
  },
  {
   "cell_type": "markdown",
   "id": "31328ca9",
   "metadata": {},
   "source": [
    "# Question 8"
   ]
  },
  {
   "cell_type": "markdown",
   "id": "391fd952",
   "metadata": {},
   "source": [
    "Affichez la variance de chaque variable obtenue dans l’espace de l’ACP. Commentez."
   ]
  },
  {
   "cell_type": "code",
   "execution_count": 38,
   "id": "053df335",
   "metadata": {},
   "outputs": [
    {
     "name": "stdout",
     "output_type": "stream",
     "text": [
      "La variance de PC1 est 0.5281922143287756\n",
      "La variance de PC2 est 0.15368230724376594\n"
     ]
    }
   ],
   "source": [
    "print(\"La variance de PC1 est\", pca.explained_variance_ratio_[0])\n",
    "print(\"La variance de PC2 est\", pca.explained_variance_ratio_[1])"
   ]
  },
  {
   "cell_type": "markdown",
   "id": "b51896a9",
   "metadata": {},
   "source": [
    "Quelle est la définition de la variance expliquée ?"
   ]
  },
  {
   "cell_type": "markdown",
   "id": "c07a3f77",
   "metadata": {},
   "source": [
    "Définition de la variance expliqué :\n",
    "La variance expliquée est une mesure de la quantité d'information contenue dans chaque composante principale. Elle représente la proportion de la variance totale des données qui est expliquée par chaque composante principale. Une variance expliquée plus élevée pour une composante principale signifie qu'elle capture davantage d'information des données d'origine."
   ]
  },
  {
   "cell_type": "markdown",
   "id": "a91079d3",
   "metadata": {},
   "source": [
    "Quelle est le lien avec les variances que vous venez de calculer ?"
   ]
  },
  {
   "cell_type": "markdown",
   "id": "0b425646",
   "metadata": {},
   "source": [
    "La somme de la variance expliquée par PC1 et PC2 (soit environ 68.19 % dans ce cas) représente la part de la variance totale des données qui est capturée par ces deux composantes principales."
   ]
  },
  {
   "cell_type": "markdown",
   "id": "970f9a9b",
   "metadata": {},
   "source": [
    "# Question 9"
   ]
  },
  {
   "cell_type": "markdown",
   "id": "5ee32786",
   "metadata": {},
   "source": [
    "Affichez et commentez le cercle de corrélation. Permet-il de retrouver les résultats des questions 3 et 6 ?"
   ]
  },
  {
   "cell_type": "code",
   "execution_count": 39,
   "id": "7390af30",
   "metadata": {},
   "outputs": [],
   "source": [
    "import seaborn as sns\n",
    "from statsmodels.multivariate.pca import PCA\n",
    "from matplotlib.patches import Circle"
   ]
  },
  {
   "cell_type": "code",
   "execution_count": 40,
   "id": "3c3ace6d",
   "metadata": {},
   "outputs": [],
   "source": [
    "def eigen_scaling(pca, scaling=0):\n",
    "    \n",
    "    # pca is a PCA object obtained from statsmodels.multivariate.pca\n",
    "    # scaling is one of [0, 1, 2, 3]\n",
    "    # the eigenvalues of the pca object are n times the ones computed with R\n",
    "    # we thus need to divide their sum by the number of rows\n",
    "    \n",
    "    const = ((pca.scores.shape[0] - 1) * pca.eigenvals.sum() / pca.scores.shape[0]) ** 0.25\n",
    "    if scaling == 0:\n",
    "        scores = pca.scores\n",
    "        loadings = pca.loadings\n",
    "    elif scaling == 3:\n",
    "        scaling_fac = (pca.eigenvals / pca.eigenvals.sum()) ** 0.25\n",
    "        scaling_fac.index = pca.scores.columns\n",
    "        scores = pca.scores * scaling_fac * const\n",
    "        loadings = pca.loadings * scaling_fac * const\n",
    "    else:\n",
    "        sys.exit(\"Scaling should either be 0 or 3\")\n",
    "    return ([scores, loadings])"
   ]
  },
  {
   "cell_type": "code",
   "execution_count": 41,
   "id": "feb55f35",
   "metadata": {},
   "outputs": [],
   "source": [
    "def biplot(pca, scaling=0, plot_loading_labels=True, color=None, alpha_scores=1):\n",
    "    scores, loadings = eigen_scaling(pca, scaling=scaling)\n",
    "    if plot_loading_labels:\n",
    "        loading_labels = pca.loadings.index\n",
    "\n",
    "    for i in range(loadings.shape[0]):\n",
    "        plt.arrow(\n",
    "            0, 0,\n",
    "            loadings.iloc[i, 0],\n",
    "            loadings.iloc[i, 1],\n",
    "            color='black',\n",
    "            alpha=0.7,\n",
    "            linestyle='-',\n",
    "            head_width=loadings.values.max() / 50,\n",
    "            width=loadings.values.max() / 2000,\n",
    "            length_includes_head=True\n",
    "        )\n",
    "        if plot_loading_labels:\n",
    "            plt.text(\n",
    "                loadings.iloc[i, 0] * 1.05,\n",
    "                loadings.iloc[i, 1] * 1.05,\n",
    "                loading_labels[i],\n",
    "                color='black',\n",
    "                ha='center',\n",
    "                va='center',\n",
    "                fontsize=10\n",
    "            );\n",
    "\n",
    "    scores_loadings = np.vstack([scores.values[:, :2], loadings.values[:, :2]])\n",
    "\n",
    "    plt.axhline(y=0, color='k', linestyle='dotted', linewidth=0.75)\n",
    "    plt.axvline(x=0, color='k', linestyle='dotted', linewidth=0.75)\n",
    "    plt.xlabel(\"PC1\")\n",
    "    plt.ylabel(\"PC2\")\n",
    "    plt.xlim(-2, 2)\n",
    "    plt.ylim(-1.5, 1.5)\n",
    "\n",
    "    circle = Circle((0, 0), 1, color='grey', fill=False)\n",
    "    plt.gca().add_artist(circle)"
   ]
  },
  {
   "cell_type": "code",
   "execution_count": 42,
   "id": "18a8eb66",
   "metadata": {},
   "outputs": [],
   "source": [
    "def biplot_cloud(pca, scaling=0, plot_loading_labels=True, color=None, alpha_scores=1):\n",
    "    scores, loadings = eigen_scaling(pca, scaling=scaling)\n",
    "    \n",
    "    sns.relplot(\n",
    "        x=\"comp_0\",\n",
    "        y=\"comp_1\",\n",
    "        palette=\"muted\",\n",
    "        alpha=alpha_scores,\n",
    "        data=scores,\n",
    "    )\n",
    "\n",
    "    if plot_loading_labels:\n",
    "        loading_labels = pca.loadings.index\n",
    "\n",
    "    scores_loadings = np.vstack([scores.values[:, :2], loadings.values[:, :2]])\n",
    "    xymin = scores_loadings.min(axis=0) * 1.2\n",
    "    xymax = scores_loadings.max(axis=0) * 1.2\n",
    "\n",
    "    plt.axhline(y=0, color='k', linestyle='dotted', linewidth=0.75)\n",
    "    plt.axvline(x=0, color='k', linestyle='dotted', linewidth=0.75)\n",
    "    plt.xlabel(\"PC1\")\n",
    "    plt.ylabel(\"PC2\")\n",
    "    plt.xlim(-2, 2)\n",
    "    plt.ylim(-1.5, 1.5)"
   ]
  },
  {
   "cell_type": "code",
   "execution_count": 43,
   "id": "6487ad54",
   "metadata": {},
   "outputs": [],
   "source": [
    "df_wbz_pca = PCA(\n",
    "    data=df_without_birds_zero.drop(\"Mois\", axis=1),\n",
    "    standardize=True,\n",
    "    normalize=True,\n",
    "    ncomp=4\n",
    ")"
   ]
  },
  {
   "cell_type": "code",
   "execution_count": 44,
   "id": "86c6698d",
   "metadata": {
    "scrolled": false
   },
   "outputs": [
    {
     "name": "stdout",
     "output_type": "stream",
     "text": [
      "Saving figure corr_circle_with_perruche\n"
     ]
    },
    {
     "data": {
      "image/png": "[encoded data removed]",
      "text/plain": [
       "<Figure size 432x288 with 1 Axes>"
      ]
     },
     "metadata": {
      "needs_background": "light"
     },
     "output_type": "display_data"
    }
   ],
   "source": [
    "biplot(\n",
    "    pca=df_wbz_pca,\n",
    "    scaling=0,\n",
    "    plot_loading_labels=True,\n",
    ")\n",
    "\n",
    "save_fig(\"corr_circle_with_perruche\", save_path=\"images/corr_things/\")\n",
    "plt.show()"
   ]
  },
  {
   "cell_type": "markdown",
   "id": "5f2027fb",
   "metadata": {},
   "source": [
    "Commenter le cercle et le comparer aux Q3 et Q6"
   ]
  },
  {
   "cell_type": "code",
   "execution_count": 45,
   "id": "ff315483",
   "metadata": {},
   "outputs": [],
   "source": [
    "df_wbz_oh_pca = PCA(\n",
    "    data=df_highest_corr_perruche,\n",
    "    standardize=True,\n",
    "    normalize=True,\n",
    "    ncomp=4\n",
    ")"
   ]
  },
  {
   "cell_type": "code",
   "execution_count": 46,
   "id": "bf223d76",
   "metadata": {
    "scrolled": false
   },
   "outputs": [
    {
     "name": "stdout",
     "output_type": "stream",
     "text": [
      "Saving figure highest_corr_circle_with_perruche\n"
     ]
    },
    {
     "data": {
      "image/png": "[encoded data removed]",
      "text/plain": [
       "<Figure size 432x288 with 1 Axes>"
      ]
     },
     "metadata": {
      "needs_background": "light"
     },
     "output_type": "display_data"
    }
   ],
   "source": [
    "biplot(\n",
    "    pca=df_wbz_oh_pca,\n",
    "    scaling=0,\n",
    "    plot_loading_labels=True,\n",
    ")\n",
    "\n",
    "save_fig(\"highest_corr_circle_with_perruche\", save_path=\"images/corr_things/\")\n",
    "plt.show()"
   ]
  },
  {
   "cell_type": "markdown",
   "id": "8535dd47",
   "metadata": {},
   "source": [
    "# Question 10"
   ]
  },
  {
   "cell_type": "markdown",
   "id": "73a30e32",
   "metadata": {},
   "source": [
    "Affichez la figure de la question 7, mais en y superposant cette fois-ci le vecteur associé à la variable perruche à collier affiché à la question 9. En déduire le mois où on observe le plus de perruches à collier."
   ]
  },
  {
   "cell_type": "code",
   "execution_count": 47,
   "id": "5b74c81e",
   "metadata": {
    "scrolled": false
   },
   "outputs": [
    {
     "name": "stdout",
     "output_type": "stream",
     "text": [
      "Saving figure scatterplot_pc1_pc2_with_parakeet_vector\n"
     ]
    },
    {
     "data": {
      "image/png": "[encoded data removed]",
      "text/plain": [
       "<Figure size 720x432 with 1 Axes>"
      ]
     },
     "metadata": {
      "needs_background": "light"
     },
     "output_type": "display_data"
    }
   ],
   "source": [
    "plt.figure(figsize=(10, 6))\n",
    "\n",
    "for i, month in enumerate(mois):\n",
    "    plt.scatter(components_df.loc[components_df['Mois'] == month, 'PC1'], components_df.loc[components_df['Mois'] == month, 'PC2'], color=colors[i], label=month)\n",
    "\n",
    "plt.legend(bbox_to_anchor=(1, 1), loc='upper left')\n",
    "\n",
    "var_pc1 = round(pca.explained_variance_ratio_[0]*100, 2)\n",
    "var_pc2 = round(pca.explained_variance_ratio_[1]*100, 2)\n",
    "\n",
    "plt.xlabel(f'PC1 ({var_pc1}%)')\n",
    "plt.ylabel(f'PC2 ({var_pc2}%)')\n",
    "\n",
    "plt.title('Nuage de points des deux premières composantes principales')\n",
    "plt.grid(True)\n",
    "\n",
    "scores_loadings = eigen_scaling(df_wbz_pca, scaling=0)\n",
    "\n",
    "plt.arrow(\n",
    "    0, 0,\n",
    "    scores_loadings[1].loc[\"Perruche à collier\", 'comp_0'],\n",
    "    scores_loadings[1].loc[\"Perruche à collier\", 'comp_1'],\n",
    "    color='red',\n",
    "    alpha=0.7,\n",
    "    linestyle='-',\n",
    "    head_width=scores_loadings[1].values.max() / 5,\n",
    "    width=scores_loadings[1].values.max() / 20,\n",
    "    length_includes_head=True\n",
    ")\n",
    "\n",
    "save_fig(\"scatterplot_pc1_pc2_with_parakeet_vector\", save_path=\"images/corr_things/\")\n",
    "plt.show()"
   ]
  },
  {
   "cell_type": "markdown",
   "id": "c26274d6",
   "metadata": {},
   "source": [
    "Le vecteur pointe vers février indiquant que ce mois contient une forte évolution en comparaison aux autres mois.\n",
    "Si l'on se réfère au dataframe initial, on remarque que l'évolution entre les mois de janvier et février, il y a une différence de 16 observations ce qui est la plus grande évolution des perruches à collier."
   ]
  },
  {
   "cell_type": "markdown",
   "id": "8d4f2318",
   "metadata": {},
   "source": [
    "# Question 11"
   ]
  },
  {
   "cell_type": "markdown",
   "id": "dc840e93",
   "metadata": {},
   "source": [
    "Appliquez une régression linéaire. Quelle est la valeur du coefficient de détermination R2 – ajusté et non ajusté ?"
   ]
  },
  {
   "cell_type": "code",
   "execution_count": 48,
   "id": "b5ccb442",
   "metadata": {},
   "outputs": [],
   "source": [
    "from sklearn.linear_model import LinearRegression\n",
    "\n",
    "regression = LinearRegression()"
   ]
  },
  {
   "cell_type": "code",
   "execution_count": 49,
   "id": "d79aa781",
   "metadata": {
    "scrolled": false
   },
   "outputs": [
    {
     "data": {
      "text/plain": [
       "LinearRegression()"
      ]
     },
     "execution_count": 49,
     "metadata": {},
     "output_type": "execute_result"
    }
   ],
   "source": [
    "X_max_corr = df_without_birds_zero[max_corr_bird_name_tostring].values\n",
    "y = df_without_birds_zero[\"Perruche à collier\"].values\n",
    "\n",
    "X_max_corr = X_max_corr.reshape(-1, 1)\n",
    "y = y.reshape(-1, 1)\n",
    "\n",
    "regression.fit(X_max_corr, y)"
   ]
  },
  {
   "cell_type": "code",
   "execution_count": 50,
   "id": "0a439caa",
   "metadata": {},
   "outputs": [
    {
     "name": "stdout",
     "output_type": "stream",
     "text": [
      "Prédictions sur l'ensemble :\n",
      "[[19.10277247]\n",
      " [ 9.4832696 ]\n",
      " [11.70315488]\n",
      " [ 5.7834608 ]\n",
      " [ 4.30353728]\n",
      " [10.22323136]\n",
      " [ 5.04349904]\n",
      " [ 6.52342256]\n",
      " [ 8.74330784]\n",
      " [ 5.04349904]\n",
      " [ 8.00334608]\n",
      " [ 5.04349904]]\n"
     ]
    }
   ],
   "source": [
    "y_pred = regression.predict(X_max_corr)\n",
    "\n",
    "print(\"Prédictions sur l'ensemble :\")\n",
    "print(y_pred)"
   ]
  },
  {
   "cell_type": "code",
   "execution_count": 51,
   "id": "53aa392f",
   "metadata": {
    "scrolled": true
   },
   "outputs": [
    {
     "name": "stdout",
     "output_type": "stream",
     "text": [
      "Saving figure lin_reg_perruche_max_corr\n"
     ]
    },
    {
     "data": {
      "image/png": "[encoded data removed]",
      "text/plain": [
       "<Figure size 432x288 with 1 Axes>"
      ]
     },
     "metadata": {
      "needs_background": "light"
     },
     "output_type": "display_data"
    }
   ],
   "source": [
    "plt.scatter(X_max_corr, y, color='blue', label='Données')\n",
    "plt.plot(X_max_corr, y_pred, color='red', label='Régression linéaire')\n",
    "plt.xlabel('Variable indépendante')\n",
    "plt.ylabel('Variable dépendante')\n",
    "plt.legend()\n",
    "\n",
    "save_fig(\"lin_reg_perruche_max_corr\", save_path=\"images/lin_reg/\")\n",
    "plt.show()"
   ]
  },
  {
   "cell_type": "markdown",
   "id": "a8802480",
   "metadata": {},
   "source": [
    "Donnez aussi les valeurs de β0 et β1 prédites par le modèle."
   ]
  },
  {
   "cell_type": "code",
   "execution_count": 52,
   "id": "ef2172ee",
   "metadata": {},
   "outputs": [
    {
     "name": "stdout",
     "output_type": "stream",
     "text": [
      "Valeur de beta_0 (intercept) : 2.823613766730401\n",
      "Valeur de beta_1 (pente) : 0.7399617590822181\n"
     ]
    }
   ],
   "source": [
    "beta_0 = regression.intercept_[0]\n",
    "beta_1 = regression.coef_[0][0]\n",
    "\n",
    "print(\"Valeur de beta_0 (intercept) :\", beta_0)\n",
    "print(\"Valeur de beta_1 (pente) :\", beta_1)"
   ]
  },
  {
   "cell_type": "code",
   "execution_count": 53,
   "id": "82d3b741",
   "metadata": {},
   "outputs": [
    {
     "name": "stdout",
     "output_type": "stream",
     "text": [
      "Métriques d'évaluation :\n",
      "Coefficient de détermination (R²) : 0.238700098151153\n",
      "Erreur quadratique moyenne (RMSE) : 3.4801803851331683\n",
      "Erreur absolue moyenne (MAE) : 0.0\n",
      "Le modèle n'est pas considéré comme ajusté.\n"
     ]
    }
   ],
   "source": [
    "from sklearn.metrics import r2_score, mean_squared_error, mean_absolute_error\n",
    "\n",
    "# Calcul des métriques d'évaluation\n",
    "r2 = r2_score(y_pred, y)\n",
    "rmse = np.sqrt(mean_squared_error(y_pred, y))\n",
    "mae = mean_absolute_error(y_pred, y_pred)\n",
    "\n",
    "# Affichage des résultats\n",
    "print(\"Métriques d'évaluation :\")\n",
    "print(\"Coefficient de détermination (R²) :\", r2)\n",
    "print(\"Erreur quadratique moyenne (RMSE) :\", rmse)\n",
    "print(\"Erreur absolue moyenne (MAE) :\", mae)\n",
    "\n",
    "# Vérification de l'ajustement\n",
    "if r2 >= 0.5:\n",
    "    print(\"Le modèle est considéré comme ajusté.\")\n",
    "else:\n",
    "    print(\"Le modèle n'est pas considéré comme ajusté.\")"
   ]
  },
  {
   "cell_type": "markdown",
   "id": "4747ba4b",
   "metadata": {},
   "source": [
    "Analysez quantitativement et visuellement vos résultats."
   ]
  },
  {
   "cell_type": "markdown",
   "id": "07f4344f",
   "metadata": {},
   "source": [
    "# Question 12"
   ]
  },
  {
   "cell_type": "markdown",
   "id": "bbfea6c2",
   "metadata": {},
   "source": [
    "Calculez l’intervalle de confiance à 90% pour β0 et β1. Interprétez les résultats"
   ]
  },
  {
   "cell_type": "code",
   "execution_count": null,
   "id": "570cd8ad",
   "metadata": {},
   "outputs": [],
   "source": []
  },
  {
   "cell_type": "markdown",
   "id": "7c23ac00",
   "metadata": {},
   "source": [
    "# Question 13"
   ]
  },
  {
   "cell_type": "markdown",
   "id": "f01846a0",
   "metadata": {},
   "source": [
    "Evaluez l’hypothèse de pente nulle pour le coefficient β1 et concluez sur l’existence d’une relation linéaire entre les deux variables. Le coefficient β1 est-il significativement non nul ?"
   ]
  },
  {
   "cell_type": "code",
   "execution_count": null,
   "id": "4650d4dd",
   "metadata": {},
   "outputs": [],
   "source": []
  },
  {
   "cell_type": "markdown",
   "id": "3d537a98",
   "metadata": {},
   "source": [
    "# Question 14"
   ]
  },
  {
   "cell_type": "markdown",
   "id": "66414a06",
   "metadata": {},
   "source": [
    "Reprenez les questions 11 à 13 en effectuant une régression linéaire entre la variable Perruche à collier et celle associée à la valeur minimale de corrélation obtenue à la question 6."
   ]
  },
  {
   "cell_type": "code",
   "execution_count": 54,
   "id": "20d4b871",
   "metadata": {},
   "outputs": [
    {
     "data": {
      "text/plain": [
       "LinearRegression()"
      ]
     },
     "execution_count": 54,
     "metadata": {},
     "output_type": "execute_result"
    }
   ],
   "source": [
    "X_min_corr = df_without_birds_zero[min_corr_bird_name_tostring].values\n",
    "\n",
    "X_min_corr = X_min_corr.reshape(-1, 1)\n",
    "\n",
    "regression.fit(X_min_corr, y)"
   ]
  },
  {
   "cell_type": "code",
   "execution_count": 55,
   "id": "8757e310",
   "metadata": {},
   "outputs": [
    {
     "name": "stdout",
     "output_type": "stream",
     "text": [
      "Prédictions sur l'ensemble :\n",
      "[[ 9.86996904]\n",
      " [ 9.0247678 ]\n",
      " [ 8.17956656]\n",
      " [ 8.17956656]\n",
      " [ 7.33436533]\n",
      " [ 7.33436533]\n",
      " [ 8.17956656]\n",
      " [ 7.33436533]\n",
      " [ 7.33436533]\n",
      " [ 7.33436533]\n",
      " [11.56037152]\n",
      " [ 7.33436533]]\n"
     ]
    }
   ],
   "source": [
    "y_pred = regression.predict(X_min_corr)\n",
    "\n",
    "print(\"Prédictions sur l'ensemble :\")\n",
    "print(y_pred)"
   ]
  },
  {
   "cell_type": "code",
   "execution_count": 56,
   "id": "099e4e3c",
   "metadata": {},
   "outputs": [
    {
     "name": "stdout",
     "output_type": "stream",
     "text": [
      "Saving figure lin_reg_perruche_min_corr\n"
     ]
    },
    {
     "data": {
      "image/png": "[encoded data removed]",
      "text/plain": [
       "<Figure size 432x288 with 1 Axes>"
      ]
     },
     "metadata": {
      "needs_background": "light"
     },
     "output_type": "display_data"
    }
   ],
   "source": [
    "plt.scatter(X_min_corr, y, color='blue', label='Données')\n",
    "plt.plot(X_min_corr, y_pred, color='red', label='Régression linéaire')\n",
    "plt.xlabel('Variable indépendante')\n",
    "plt.ylabel('Variable dépendante')\n",
    "plt.legend()\n",
    "\n",
    "save_fig(\"lin_reg_perruche_min_corr\", save_path=\"images/lin_reg/\")\n",
    "plt.show()"
   ]
  },
  {
   "cell_type": "markdown",
   "id": "2b30532b",
   "metadata": {},
   "source": [
    "# Question 15"
   ]
  },
  {
   "cell_type": "markdown",
   "id": "0dfc0261",
   "metadata": {},
   "source": [
    "Combien y a-t-il de combinaisons possibles de variables – en excluant la variable Perruche\n",
    "à collier ?"
   ]
  },
  {
   "cell_type": "markdown",
   "id": "42198245",
   "metadata": {},
   "source": [
    "En retirant la variable \"Perruche à collier\" des combinaisons possibles du dataframe df_without_birds_zero, on obtient 11^2 = 121 combinaisons possibles."
   ]
  },
  {
   "cell_type": "markdown",
   "id": "fb9ca52e",
   "metadata": {},
   "source": [
    "Appliquez une régression linéaire entre la variable cible Perruche à collier et chaque combinaison possible de variables autres."
   ]
  },
  {
   "cell_type": "code",
   "execution_count": 57,
   "id": "a2dc0776",
   "metadata": {},
   "outputs": [],
   "source": [
    "from itertools import combinations"
   ]
  },
  {
   "cell_type": "code",
   "execution_count": 58,
   "id": "2f39cdaa",
   "metadata": {},
   "outputs": [],
   "source": [
    "target_variable = \"Perruche à collier\"\n",
    "feature_variables = df_without_birds_zero.columns.drop([\"Mois\", target_variable])"
   ]
  },
  {
   "cell_type": "code",
   "execution_count": 59,
   "id": "95cae8f6",
   "metadata": {
    "scrolled": true
   },
   "outputs": [
    {
     "name": "stdout",
     "output_type": "stream",
     "text": [
      "Feature: Corneille noire\n",
      "R-squared: 0.38537122318062367\n",
      "Coefficient: 0.48944692651363453\n",
      "Intercept: 1.6832537359420705\n",
      "\n",
      "Feature: Geai des chênes\n",
      "R-squared: 0.05718461910297323\n",
      "Coefficient: 0.8452012383900926\n",
      "Intercept: 6.489164086687307\n",
      "\n",
      "Feature: Grimpereau des jardins\n",
      "R-squared: 0.2956544032816306\n",
      "Coefficient: 1.6034482758620692\n",
      "Intercept: 2.3706896551724137\n",
      "\n",
      "Feature: Merle noir\n",
      "R-squared: 0.43286365355042644\n",
      "Coefficient: 0.49297342423820784\n",
      "Intercept: 0.8964797551134005\n",
      "\n",
      "Feature: Mésange bleue\n",
      "R-squared: 0.5223542256999507\n",
      "Coefficient: 0.9597902097902093\n",
      "Intercept: 0.2517482517482552\n",
      "\n",
      "Feature: Mésange charbonnière\n",
      "R-squared: 0.5677624798311145\n",
      "Coefficient: 0.7399617590822181\n",
      "Intercept: 2.823613766730401\n",
      "\n",
      "Feature: Pie bavarde\n",
      "R-squared: 0.5453146758816598\n",
      "Coefficient: 0.8847385272145145\n",
      "Intercept: 2.7203842049092843\n",
      "\n",
      "Feature: Pigeon biset\n",
      "R-squared: 0.06695408400119474\n",
      "Coefficient: 0.2952565343659247\n",
      "Intercept: 6.699903194578895\n",
      "\n",
      "Feature: Pigeon ramier\n",
      "R-squared: 0.41177943250878324\n",
      "Coefficient: 0.32502543234994913\n",
      "Intercept: 1.9661749745676502\n",
      "\n",
      "Feature: Rougegorge familier\n",
      "R-squared: 0.34874743949624476\n",
      "Coefficient: 0.6918367346938776\n",
      "Intercept: 2.36938775510204\n",
      "\n",
      "Feature: Troglodyte mignon\n",
      "R-squared: 0.4140628562790948\n",
      "Coefficient: 1.0730530668504479\n",
      "Intercept: 2.795313576843557\n",
      "\n"
     ]
    }
   ],
   "source": [
    "regression_results = []\n",
    "\n",
    "for feature in feature_variables:\n",
    "    X = df[[feature]]\n",
    "    y = df[target_variable]\n",
    "\n",
    "    model = LinearRegression()\n",
    "    model.fit(X, y)\n",
    "\n",
    "    regression_results.append({\n",
    "        \"Feature\": feature,\n",
    "        \"R-squared\": model.score(X, y),\n",
    "        \"Coefficient\": model.coef_[0],\n",
    "        \"Intercept\": model.intercept_\n",
    "    })\n",
    "\n",
    "for result in regression_results:\n",
    "    print(\"Feature:\", result[\"Feature\"])\n",
    "    print(\"R-squared:\", result[\"R-squared\"])\n",
    "    print(\"Coefficient:\", result[\"Coefficient\"])\n",
    "    print(\"Intercept:\", result[\"Intercept\"])\n",
    "    print()"
   ]
  },
  {
   "cell_type": "code",
   "execution_count": 60,
   "id": "ca9eb4ae",
   "metadata": {
    "scrolled": true
   },
   "outputs": [
    {
     "name": "stdout",
     "output_type": "stream",
     "text": [
      "Saving figure lin_reg_Perruche à collier_vs_features\n"
     ]
    },
    {
     "data": {
      "image/png": "[encoded data removed]",
      "text/plain": [
       "<Figure size 864x576 with 11 Axes>"
      ]
     },
     "metadata": {
      "needs_background": "light"
     },
     "output_type": "display_data"
    }
   ],
   "source": [
    "import math\n",
    "\n",
    "num_features = len(regression_results)\n",
    "num_cols = math.ceil(math.sqrt(num_features))\n",
    "num_rows = math.ceil(num_features / num_cols)\n",
    "\n",
    "fig, axes = plt.subplots(num_rows, num_cols, figsize=(12, 8))\n",
    "fig.suptitle(f\"Linear Regression: {target_variable} vs. Features\", fontsize=16)\n",
    "\n",
    "if num_rows == 1:\n",
    "    axes = axes.reshape(1, -1)\n",
    "if num_cols == 1:\n",
    "    axes = axes.reshape(-1, 1)\n",
    "\n",
    "for i, result in enumerate(regression_results):\n",
    "    feature = result[\"Feature\"]\n",
    "    coefficient = result[\"Coefficient\"]\n",
    "    intercept = result[\"Intercept\"]\n",
    "\n",
    "    X = df[feature]\n",
    "    y = df[target_variable]\n",
    "\n",
    "    y_pred = coefficient * X + intercept\n",
    "\n",
    "    row = i // num_cols\n",
    "    col = i % num_cols\n",
    "\n",
    "    axes[row, col].scatter(X, y, label=\"Observed\")\n",
    "    axes[row, col].plot(X, y_pred, color='red', label=\"Regression\")\n",
    "\n",
    "    axes[row, col].set_xlabel(feature)\n",
    "    axes[row, col].set_ylabel(target_variable)\n",
    "\n",
    "    axes[row, col].legend()\n",
    "\n",
    "if num_features < num_rows * num_cols:\n",
    "    for i in range(num_features, num_rows * num_cols):\n",
    "        row = i // num_cols\n",
    "        col = i % num_cols\n",
    "        fig.delaxes(axes[row, col])\n",
    "\n",
    "fig.tight_layout()\n",
    "\n",
    "save_fig(f\"lin_reg_{target_variable}_vs_features\", save_path=\"images/lin_reg/\")\n",
    "plt.show()"
   ]
  },
  {
   "cell_type": "markdown",
   "id": "48616c50",
   "metadata": {},
   "source": [
    "Quelle est la valeur maximale que vous obtenez pour le coefficient de détermination ajusté ? Affichez les variables correspondantes, ainsi que les paramètres βi obtenus. Commentez."
   ]
  },
  {
   "cell_type": "code",
   "execution_count": 61,
   "id": "19cd4ab7",
   "metadata": {},
   "outputs": [
    {
     "name": "stdout",
     "output_type": "stream",
     "text": [
      "Variable avec le coefficient de détermination ajusté maximal :  Mésange charbonnière\n",
      "Coefficient de détermination ajusté maximal (R² ajusté) :  0.5677624798311145\n",
      "Paramètres βi correspondants : Intercept = 2.823613766730401 , Coefficient = 0.7399617590822181\n"
     ]
    }
   ],
   "source": [
    "max_r_squared = 0\n",
    "best_feature = \"\"\n",
    "best_coefficients = []\n",
    "\n",
    "for result in regression_results:\n",
    "    if result[\"R-squared\"] > max_r_squared:\n",
    "        max_r_squared = result[\"R-squared\"]\n",
    "        best_feature = result[\"Feature\"]\n",
    "        best_coefficients = [result[\"Intercept\"], result[\"Coefficient\"]]\n",
    "\n",
    "print(\"Variable avec le coefficient de détermination ajusté maximal : \", best_feature)\n",
    "print(\"Coefficient de détermination ajusté maximal (R² ajusté) : \", max_r_squared)\n",
    "print(\"Paramètres βi correspondants : Intercept =\", best_coefficients[0], \", Coefficient =\", best_coefficients[1])"
   ]
  },
  {
   "cell_type": "markdown",
   "id": "e21302f0",
   "metadata": {},
   "source": [
    "Le modèle de régression linéaire avec la variable \"Mésange charbonnière\" présente le coefficient de détermination ajusté maximal de 0.5678, ce qui signifie qu'il explique environ 56.78% de la variation observée dans la variable cible \"Perruche à collier\". Les paramètres βi correspondants sont un intercept (β₀) de 2.8236 et un coefficient (β₁) de \"Mésange charbonnière\" de 0.7400. Ainsi, une augmentation d'une unité dans la variable \"Mésange charbonnière\" est associée à une augmentation moyenne de 0.7400 unité dans la variable cible, en tenant compte des autres variables constantes. Cependant, il convient de noter que l'interprétation des résultats doit être prudente, car d'autres variables explicatives potentielles peuvent influencer la relation entre les variables étudiées."
   ]
  },
  {
   "cell_type": "code",
   "execution_count": 62,
   "id": "d44aa75b",
   "metadata": {},
   "outputs": [],
   "source": [
    "# Spécifiez ici la variable pour laquelle vous souhaitez afficher le graphique\n",
    "feature_to_plot = \"Geai des chênes\""
   ]
  },
  {
   "cell_type": "code",
   "execution_count": 63,
   "id": "1a8d0f64",
   "metadata": {
    "scrolled": true
   },
   "outputs": [
    {
     "name": "stdout",
     "output_type": "stream",
     "text": [
      "Saving figure lin_reg_Perruche à collier_vs_Geai des chênes\n"
     ]
    },
    {
     "data": {
      "image/png": "[encoded data removed]",
      "text/plain": [
       "<Figure size 432x288 with 1 Axes>"
      ]
     },
     "metadata": {
      "needs_background": "light"
     },
     "output_type": "display_data"
    }
   ],
   "source": [
    "# Recherche des résultats de régression linéaire pour la variable spécifique\n",
    "result = next((r for r in regression_results if r[\"Feature\"] == feature_to_plot), None)\n",
    "\n",
    "if result:\n",
    "    feature = result[\"Feature\"]\n",
    "    coefficient = result[\"Coefficient\"]\n",
    "    intercept = result[\"Intercept\"]\n",
    "\n",
    "    X = df[feature]\n",
    "    y = df[target_variable]\n",
    "\n",
    "    # Plot observed data\n",
    "    plt.scatter(X, y, label=\"Observed\")\n",
    "\n",
    "    # Plot regression line\n",
    "    y_pred = coefficient * X + intercept\n",
    "    plt.plot(X, y_pred, color='red', label=\"Regression\")\n",
    "\n",
    "    plt.xlabel(feature)\n",
    "    plt.ylabel(target_variable)\n",
    "    plt.legend()\n",
    "    plt.title(f\"Linear Regression: {target_variable} vs {feature}\")\n",
    "    save_fig(f\"lin_reg_{target_variable}_vs_{feature}\", save_path=\"images/lin_reg/\")\n",
    "    plt.show()\n",
    "else:\n",
    "    print(f\"No regression results found for feature: {feature_to_plot}\")"
   ]
  },
  {
   "cell_type": "markdown",
   "id": "5d84446e",
   "metadata": {},
   "source": [
    "# Question 16"
   ]
  },
  {
   "cell_type": "markdown",
   "id": "4c732c9f",
   "metadata": {},
   "source": [
    "Déterminez expérimentalement le nombre de modèles pour lesquels on observe une\n",
    "relation linéaire entre la variable cible et les autres variables sélectionnées."
   ]
  },
  {
   "cell_type": "code",
   "execution_count": 64,
   "id": "12eedbf5",
   "metadata": {},
   "outputs": [
    {
     "name": "stdout",
     "output_type": "stream",
     "text": [
      "Nombre de modèles avec une relation linéaire :  11\n"
     ]
    }
   ],
   "source": [
    "num_models_with_linear_relation = 0\n",
    "\n",
    "for result in regression_results:\n",
    "    if result[\"R-squared\"] > 0 and result[\"R-squared\"] < 1:\n",
    "        num_models_with_linear_relation += 1\n",
    "\n",
    "print(\"Nombre de modèles avec une relation linéaire : \", num_models_with_linear_relation)"
   ]
  },
  {
   "cell_type": "markdown",
   "id": "58fe821b",
   "metadata": {},
   "source": [
    "Reprenez la question 15 en considérant uniquement ces modèles."
   ]
  },
  {
   "cell_type": "code",
   "execution_count": null,
   "id": "9cacc23a",
   "metadata": {},
   "outputs": [],
   "source": []
  }
 ],
 "metadata": {
  "kernelspec": {
   "display_name": "Python 3 (ipykernel)",
   "language": "python",
   "name": "python3"
  },
  "language_info": {
   "codemirror_mode": {
    "name": "ipython",
    "version": 3
   },
   "file_extension": ".py",
   "mimetype": "text/x-python",
   "name": "python",
   "nbconvert_exporter": "python",
   "pygments_lexer": "ipython3",
   "version": "3.9.12"
  }
 },
 "nbformat": 4,
 "nbformat_minor": 5
}
