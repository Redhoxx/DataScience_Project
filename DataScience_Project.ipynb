{
 "cells": [
  {
   "cell_type": "code",
   "execution_count": 8,
   "id": "d86cbe41",
   "metadata": {},
   "outputs": [],
   "source": [
    "import os\n",
    "import numpy as np"
   ]
  },
  {
   "cell_type": "code",
   "execution_count": 9,
   "id": "0610dcb2",
   "metadata": {},
   "outputs": [],
   "source": [
    "# To plot pretty figures\n",
    "%matplotlib inline\n",
    "import matplotlib as mpl\n",
    "import matplotlib.pyplot as plt\n",
    "mpl.rc('axes', labelsize=14)\n",
    "mpl.rc('xtick', labelsize=12)\n",
    "mpl.rc('ytick', labelsize=12)\n",
    "\n",
    "# Where to save the figures\n",
    "PROJECT_ROOT_DIR = \".\"\n",
    "IMAGES_PATH = os.path.join(PROJECT_ROOT_DIR, \"images\")\n",
    "os.makedirs(IMAGES_PATH, exist_ok=True)\n",
    "\n",
    "def save_fig(fig_id, tight_layout=True, fig_extension=\"png\", resolution=300):\n",
    "    path = os.path.join(IMAGES_PATH, fig_id + \".\" + fig_extension)\n",
    "    print(\"Saving figure\", fig_id)\n",
    "    if tight_layout:\n",
    "        plt.tight_layout()\n",
    "    plt.savefig(path, format=fig_extension, dpi=resolution)"
   ]
  },
  {
   "cell_type": "code",
   "execution_count": 10,
   "id": "36653245",
   "metadata": {},
   "outputs": [],
   "source": [
    "DATA_PATH = os.path.join(\"dataset\")\n",
    "DATA_NAME = \"data\""
   ]
  },
  {
   "cell_type": "code",
   "execution_count": 11,
   "id": "3c4becce",
   "metadata": {},
   "outputs": [],
   "source": [
    "import pandas as pd\n",
    "\n",
    "def load_data(data_path=DATA_PATH):\n",
    "    csv_path = os.path.join(DATA_PATH, DATA_NAME + \".csv\")\n",
    "    return pd.read_csv(csv_path)"
   ]
  },
  {
   "cell_type": "code",
   "execution_count": 12,
   "id": "0a2b5e4d",
   "metadata": {},
   "outputs": [
    {
     "data": {
      "text/html": [
       "<div>\n",
       "<style scoped>\n",
       "    .dataframe tbody tr th:only-of-type {\n",
       "        vertical-align: middle;\n",
       "    }\n",
       "\n",
       "    .dataframe tbody tr th {\n",
       "        vertical-align: top;\n",
       "    }\n",
       "\n",
       "    .dataframe thead th {\n",
       "        text-align: right;\n",
       "    }\n",
       "</style>\n",
       "<table border=\"1\" class=\"dataframe\">\n",
       "  <thead>\n",
       "    <tr style=\"text-align: right;\">\n",
       "      <th></th>\n",
       "      <th>Mois</th>\n",
       "      <th>Accenteur mouchet</th>\n",
       "      <th>Corneille noire</th>\n",
       "      <th>Fauvette à tête noire</th>\n",
       "      <th>Geai des chênes</th>\n",
       "      <th>Goéland argenté</th>\n",
       "      <th>Grimpereau des jardins</th>\n",
       "      <th>Grive musicienne</th>\n",
       "      <th>Merle noir</th>\n",
       "      <th>Mésange bleue</th>\n",
       "      <th>...</th>\n",
       "      <th>Pigeon biset</th>\n",
       "      <th>Pigeon ramier</th>\n",
       "      <th>Pinson des arbres</th>\n",
       "      <th>Pouillot véloce</th>\n",
       "      <th>Roitelet huppé</th>\n",
       "      <th>Roitelet à triple bandeau</th>\n",
       "      <th>Rougegorge familier</th>\n",
       "      <th>Sittelle torchepot</th>\n",
       "      <th>Troglodyte mignon</th>\n",
       "      <th>Étourneau sansonnet</th>\n",
       "    </tr>\n",
       "  </thead>\n",
       "  <tbody>\n",
       "    <tr>\n",
       "      <th>0</th>\n",
       "      <td>janvier</td>\n",
       "      <td>1</td>\n",
       "      <td>22</td>\n",
       "      <td>0</td>\n",
       "      <td>4</td>\n",
       "      <td>0</td>\n",
       "      <td>3</td>\n",
       "      <td>1</td>\n",
       "      <td>22</td>\n",
       "      <td>16</td>\n",
       "      <td>...</td>\n",
       "      <td>1</td>\n",
       "      <td>37</td>\n",
       "      <td>3</td>\n",
       "      <td>0</td>\n",
       "      <td>4</td>\n",
       "      <td>0</td>\n",
       "      <td>14</td>\n",
       "      <td>0</td>\n",
       "      <td>5</td>\n",
       "      <td>33</td>\n",
       "    </tr>\n",
       "    <tr>\n",
       "      <th>1</th>\n",
       "      <td>fevrier</td>\n",
       "      <td>1</td>\n",
       "      <td>9</td>\n",
       "      <td>0</td>\n",
       "      <td>3</td>\n",
       "      <td>0</td>\n",
       "      <td>4</td>\n",
       "      <td>1</td>\n",
       "      <td>13</td>\n",
       "      <td>7</td>\n",
       "      <td>...</td>\n",
       "      <td>1</td>\n",
       "      <td>8</td>\n",
       "      <td>3</td>\n",
       "      <td>1</td>\n",
       "      <td>2</td>\n",
       "      <td>0</td>\n",
       "      <td>6</td>\n",
       "      <td>2</td>\n",
       "      <td>4</td>\n",
       "      <td>7</td>\n",
       "    </tr>\n",
       "    <tr>\n",
       "      <th>2</th>\n",
       "      <td>mars</td>\n",
       "      <td>0</td>\n",
       "      <td>25</td>\n",
       "      <td>6</td>\n",
       "      <td>2</td>\n",
       "      <td>1</td>\n",
       "      <td>7</td>\n",
       "      <td>3</td>\n",
       "      <td>24</td>\n",
       "      <td>16</td>\n",
       "      <td>...</td>\n",
       "      <td>17</td>\n",
       "      <td>24</td>\n",
       "      <td>11</td>\n",
       "      <td>3</td>\n",
       "      <td>1</td>\n",
       "      <td>2</td>\n",
       "      <td>9</td>\n",
       "      <td>2</td>\n",
       "      <td>10</td>\n",
       "      <td>16</td>\n",
       "    </tr>\n",
       "    <tr>\n",
       "      <th>3</th>\n",
       "      <td>avril</td>\n",
       "      <td>3</td>\n",
       "      <td>7</td>\n",
       "      <td>8</td>\n",
       "      <td>2</td>\n",
       "      <td>0</td>\n",
       "      <td>2</td>\n",
       "      <td>0</td>\n",
       "      <td>12</td>\n",
       "      <td>7</td>\n",
       "      <td>...</td>\n",
       "      <td>3</td>\n",
       "      <td>10</td>\n",
       "      <td>3</td>\n",
       "      <td>2</td>\n",
       "      <td>0</td>\n",
       "      <td>1</td>\n",
       "      <td>1</td>\n",
       "      <td>0</td>\n",
       "      <td>5</td>\n",
       "      <td>35</td>\n",
       "    </tr>\n",
       "    <tr>\n",
       "      <th>4</th>\n",
       "      <td>mai</td>\n",
       "      <td>0</td>\n",
       "      <td>7</td>\n",
       "      <td>10</td>\n",
       "      <td>1</td>\n",
       "      <td>0</td>\n",
       "      <td>5</td>\n",
       "      <td>0</td>\n",
       "      <td>24</td>\n",
       "      <td>4</td>\n",
       "      <td>...</td>\n",
       "      <td>8</td>\n",
       "      <td>9</td>\n",
       "      <td>6</td>\n",
       "      <td>4</td>\n",
       "      <td>0</td>\n",
       "      <td>0</td>\n",
       "      <td>11</td>\n",
       "      <td>0</td>\n",
       "      <td>7</td>\n",
       "      <td>48</td>\n",
       "    </tr>\n",
       "  </tbody>\n",
       "</table>\n",
       "<p>5 rows × 28 columns</p>\n",
       "</div>"
      ],
      "text/plain": [
       "      Mois  Accenteur mouchet  Corneille noire  Fauvette à tête noire  \\\n",
       "0  janvier                  1               22                      0   \n",
       "1  fevrier                  1                9                      0   \n",
       "2     mars                  0               25                      6   \n",
       "3    avril                  3                7                      8   \n",
       "4      mai                  0                7                     10   \n",
       "\n",
       "   Geai des chênes  Goéland argenté  Grimpereau des jardins  Grive musicienne  \\\n",
       "0                4                0                       3                 1   \n",
       "1                3                0                       4                 1   \n",
       "2                2                1                       7                 3   \n",
       "3                2                0                       2                 0   \n",
       "4                1                0                       5                 0   \n",
       "\n",
       "   Merle noir  Mésange bleue  ...  Pigeon biset  Pigeon ramier  \\\n",
       "0          22             16  ...             1             37   \n",
       "1          13              7  ...             1              8   \n",
       "2          24             16  ...            17             24   \n",
       "3          12              7  ...             3             10   \n",
       "4          24              4  ...             8              9   \n",
       "\n",
       "   Pinson des arbres  Pouillot véloce  Roitelet huppé  \\\n",
       "0                  3                0               4   \n",
       "1                  3                1               2   \n",
       "2                 11                3               1   \n",
       "3                  3                2               0   \n",
       "4                  6                4               0   \n",
       "\n",
       "   Roitelet à triple bandeau  Rougegorge familier  Sittelle torchepot  \\\n",
       "0                          0                   14                   0   \n",
       "1                          0                    6                   2   \n",
       "2                          2                    9                   2   \n",
       "3                          1                    1                   0   \n",
       "4                          0                   11                   0   \n",
       "\n",
       "   Troglodyte mignon  Étourneau sansonnet  \n",
       "0                  5                   33  \n",
       "1                  4                    7  \n",
       "2                 10                   16  \n",
       "3                  5                   35  \n",
       "4                  7                   48  \n",
       "\n",
       "[5 rows x 28 columns]"
      ]
     },
     "execution_count": 12,
     "metadata": {},
     "output_type": "execute_result"
    }
   ],
   "source": [
    "df = load_data()\n",
    "df.head()"
   ]
  },
  {
   "cell_type": "code",
   "execution_count": 13,
   "id": "dac39eee",
   "metadata": {},
   "outputs": [
    {
     "name": "stdout",
     "output_type": "stream",
     "text": [
      "<class 'pandas.core.frame.DataFrame'>\n",
      "RangeIndex: 12 entries, 0 to 11\n",
      "Data columns (total 28 columns):\n",
      " #   Column                     Non-Null Count  Dtype \n",
      "---  ------                     --------------  ----- \n",
      " 0   Mois                       12 non-null     object\n",
      " 1   Accenteur mouchet          12 non-null     int64 \n",
      " 2   Corneille noire            12 non-null     int64 \n",
      " 3   Fauvette à tête noire      12 non-null     int64 \n",
      " 4   Geai des chênes            12 non-null     int64 \n",
      " 5   Goéland argenté            12 non-null     int64 \n",
      " 6   Grimpereau des jardins     12 non-null     int64 \n",
      " 7   Grive musicienne           12 non-null     int64 \n",
      " 8   Merle noir                 12 non-null     int64 \n",
      " 9   Mésange bleue              12 non-null     int64 \n",
      " 10  Mésange charbonnière       12 non-null     int64 \n",
      " 11  Mésange huppée             12 non-null     int64 \n",
      " 12  Mésange noire              12 non-null     int64 \n",
      " 13  Mésange à longue queue     12 non-null     int64 \n",
      " 14  Perruche à collier         12 non-null     int64 \n",
      " 15  Pic vert                   12 non-null     int64 \n",
      " 16  Pic épeiche                12 non-null     int64 \n",
      " 17  Pie bavarde                12 non-null     int64 \n",
      " 18  Pigeon biset               12 non-null     int64 \n",
      " 19  Pigeon ramier              12 non-null     int64 \n",
      " 20  Pinson des arbres          12 non-null     int64 \n",
      " 21  Pouillot véloce            12 non-null     int64 \n",
      " 22  Roitelet huppé             12 non-null     int64 \n",
      " 23  Roitelet à triple bandeau  12 non-null     int64 \n",
      " 24  Rougegorge familier        12 non-null     int64 \n",
      " 25  Sittelle torchepot         12 non-null     int64 \n",
      " 26  Troglodyte mignon          12 non-null     int64 \n",
      " 27  Étourneau sansonnet        12 non-null     int64 \n",
      "dtypes: int64(27), object(1)\n",
      "memory usage: 2.8+ KB\n"
     ]
    }
   ],
   "source": [
    "df.info()"
   ]
  },
  {
   "cell_type": "code",
   "execution_count": 14,
   "id": "c766185d",
   "metadata": {},
   "outputs": [
    {
     "data": {
      "text/html": [
       "<div>\n",
       "<style scoped>\n",
       "    .dataframe tbody tr th:only-of-type {\n",
       "        vertical-align: middle;\n",
       "    }\n",
       "\n",
       "    .dataframe tbody tr th {\n",
       "        vertical-align: top;\n",
       "    }\n",
       "\n",
       "    .dataframe thead th {\n",
       "        text-align: right;\n",
       "    }\n",
       "</style>\n",
       "<table border=\"1\" class=\"dataframe\">\n",
       "  <thead>\n",
       "    <tr style=\"text-align: right;\">\n",
       "      <th></th>\n",
       "      <th>Accenteur mouchet</th>\n",
       "      <th>Corneille noire</th>\n",
       "      <th>Fauvette à tête noire</th>\n",
       "      <th>Geai des chênes</th>\n",
       "      <th>Goéland argenté</th>\n",
       "      <th>Grimpereau des jardins</th>\n",
       "      <th>Grive musicienne</th>\n",
       "      <th>Merle noir</th>\n",
       "      <th>Mésange bleue</th>\n",
       "      <th>Mésange charbonnière</th>\n",
       "      <th>...</th>\n",
       "      <th>Pigeon biset</th>\n",
       "      <th>Pigeon ramier</th>\n",
       "      <th>Pinson des arbres</th>\n",
       "      <th>Pouillot véloce</th>\n",
       "      <th>Roitelet huppé</th>\n",
       "      <th>Roitelet à triple bandeau</th>\n",
       "      <th>Rougegorge familier</th>\n",
       "      <th>Sittelle torchepot</th>\n",
       "      <th>Troglodyte mignon</th>\n",
       "      <th>Étourneau sansonnet</th>\n",
       "    </tr>\n",
       "  </thead>\n",
       "  <tbody>\n",
       "    <tr>\n",
       "      <th>count</th>\n",
       "      <td>12.000000</td>\n",
       "      <td>12.000000</td>\n",
       "      <td>12.000000</td>\n",
       "      <td>12.000000</td>\n",
       "      <td>12.000000</td>\n",
       "      <td>12.000000</td>\n",
       "      <td>12.000000</td>\n",
       "      <td>12.000000</td>\n",
       "      <td>12.000000</td>\n",
       "      <td>12.000000</td>\n",
       "      <td>...</td>\n",
       "      <td>12.000000</td>\n",
       "      <td>12.000000</td>\n",
       "      <td>12.000000</td>\n",
       "      <td>12.000000</td>\n",
       "      <td>12.000000</td>\n",
       "      <td>12.000000</td>\n",
       "      <td>12.000000</td>\n",
       "      <td>12.000000</td>\n",
       "      <td>12.000000</td>\n",
       "      <td>12.000000</td>\n",
       "    </tr>\n",
       "    <tr>\n",
       "      <th>mean</th>\n",
       "      <td>1.166667</td>\n",
       "      <td>13.416667</td>\n",
       "      <td>3.416667</td>\n",
       "      <td>2.083333</td>\n",
       "      <td>0.083333</td>\n",
       "      <td>3.666667</td>\n",
       "      <td>0.500000</td>\n",
       "      <td>14.916667</td>\n",
       "      <td>8.333333</td>\n",
       "      <td>7.333333</td>\n",
       "      <td>...</td>\n",
       "      <td>5.250000</td>\n",
       "      <td>19.333333</td>\n",
       "      <td>3.250000</td>\n",
       "      <td>1.166667</td>\n",
       "      <td>1.416667</td>\n",
       "      <td>1.250000</td>\n",
       "      <td>8.500000</td>\n",
       "      <td>1.000000</td>\n",
       "      <td>5.083333</td>\n",
       "      <td>19.250000</td>\n",
       "    </tr>\n",
       "    <tr>\n",
       "      <th>std</th>\n",
       "      <td>1.800673</td>\n",
       "      <td>7.012435</td>\n",
       "      <td>4.187825</td>\n",
       "      <td>1.564279</td>\n",
       "      <td>0.288675</td>\n",
       "      <td>1.874874</td>\n",
       "      <td>0.904534</td>\n",
       "      <td>7.378819</td>\n",
       "      <td>4.163332</td>\n",
       "      <td>5.630006</td>\n",
       "      <td>...</td>\n",
       "      <td>4.845335</td>\n",
       "      <td>10.915655</td>\n",
       "      <td>3.137022</td>\n",
       "      <td>1.337116</td>\n",
       "      <td>2.108784</td>\n",
       "      <td>1.912875</td>\n",
       "      <td>4.719399</td>\n",
       "      <td>1.279204</td>\n",
       "      <td>3.315483</td>\n",
       "      <td>23.798873</td>\n",
       "    </tr>\n",
       "    <tr>\n",
       "      <th>min</th>\n",
       "      <td>0.000000</td>\n",
       "      <td>5.000000</td>\n",
       "      <td>0.000000</td>\n",
       "      <td>1.000000</td>\n",
       "      <td>0.000000</td>\n",
       "      <td>1.000000</td>\n",
       "      <td>0.000000</td>\n",
       "      <td>3.000000</td>\n",
       "      <td>4.000000</td>\n",
       "      <td>2.000000</td>\n",
       "      <td>...</td>\n",
       "      <td>1.000000</td>\n",
       "      <td>6.000000</td>\n",
       "      <td>0.000000</td>\n",
       "      <td>0.000000</td>\n",
       "      <td>0.000000</td>\n",
       "      <td>0.000000</td>\n",
       "      <td>1.000000</td>\n",
       "      <td>0.000000</td>\n",
       "      <td>1.000000</td>\n",
       "      <td>0.000000</td>\n",
       "    </tr>\n",
       "    <tr>\n",
       "      <th>25%</th>\n",
       "      <td>0.000000</td>\n",
       "      <td>7.000000</td>\n",
       "      <td>0.000000</td>\n",
       "      <td>1.000000</td>\n",
       "      <td>0.000000</td>\n",
       "      <td>2.000000</td>\n",
       "      <td>0.000000</td>\n",
       "      <td>10.750000</td>\n",
       "      <td>5.750000</td>\n",
       "      <td>3.000000</td>\n",
       "      <td>...</td>\n",
       "      <td>1.750000</td>\n",
       "      <td>9.750000</td>\n",
       "      <td>0.750000</td>\n",
       "      <td>0.000000</td>\n",
       "      <td>0.000000</td>\n",
       "      <td>0.000000</td>\n",
       "      <td>5.500000</td>\n",
       "      <td>0.000000</td>\n",
       "      <td>3.500000</td>\n",
       "      <td>1.500000</td>\n",
       "    </tr>\n",
       "    <tr>\n",
       "      <th>50%</th>\n",
       "      <td>0.500000</td>\n",
       "      <td>12.500000</td>\n",
       "      <td>1.000000</td>\n",
       "      <td>1.500000</td>\n",
       "      <td>0.000000</td>\n",
       "      <td>4.000000</td>\n",
       "      <td>0.000000</td>\n",
       "      <td>14.500000</td>\n",
       "      <td>7.000000</td>\n",
       "      <td>6.000000</td>\n",
       "      <td>...</td>\n",
       "      <td>3.500000</td>\n",
       "      <td>17.000000</td>\n",
       "      <td>3.000000</td>\n",
       "      <td>1.000000</td>\n",
       "      <td>0.000000</td>\n",
       "      <td>0.000000</td>\n",
       "      <td>9.500000</td>\n",
       "      <td>0.000000</td>\n",
       "      <td>5.000000</td>\n",
       "      <td>8.500000</td>\n",
       "    </tr>\n",
       "    <tr>\n",
       "      <th>75%</th>\n",
       "      <td>1.250000</td>\n",
       "      <td>19.500000</td>\n",
       "      <td>6.500000</td>\n",
       "      <td>2.250000</td>\n",
       "      <td>0.000000</td>\n",
       "      <td>5.000000</td>\n",
       "      <td>1.000000</td>\n",
       "      <td>22.250000</td>\n",
       "      <td>10.250000</td>\n",
       "      <td>9.250000</td>\n",
       "      <td>...</td>\n",
       "      <td>7.250000</td>\n",
       "      <td>26.750000</td>\n",
       "      <td>4.250000</td>\n",
       "      <td>2.000000</td>\n",
       "      <td>2.500000</td>\n",
       "      <td>2.000000</td>\n",
       "      <td>11.250000</td>\n",
       "      <td>2.000000</td>\n",
       "      <td>5.500000</td>\n",
       "      <td>33.500000</td>\n",
       "    </tr>\n",
       "    <tr>\n",
       "      <th>max</th>\n",
       "      <td>6.000000</td>\n",
       "      <td>25.000000</td>\n",
       "      <td>11.000000</td>\n",
       "      <td>6.000000</td>\n",
       "      <td>1.000000</td>\n",
       "      <td>7.000000</td>\n",
       "      <td>3.000000</td>\n",
       "      <td>24.000000</td>\n",
       "      <td>16.000000</td>\n",
       "      <td>22.000000</td>\n",
       "      <td>...</td>\n",
       "      <td>17.000000</td>\n",
       "      <td>37.000000</td>\n",
       "      <td>11.000000</td>\n",
       "      <td>4.000000</td>\n",
       "      <td>6.000000</td>\n",
       "      <td>5.000000</td>\n",
       "      <td>16.000000</td>\n",
       "      <td>3.000000</td>\n",
       "      <td>12.000000</td>\n",
       "      <td>75.000000</td>\n",
       "    </tr>\n",
       "  </tbody>\n",
       "</table>\n",
       "<p>8 rows × 27 columns</p>\n",
       "</div>"
      ],
      "text/plain": [
       "       Accenteur mouchet  Corneille noire  Fauvette à tête noire  \\\n",
       "count          12.000000        12.000000              12.000000   \n",
       "mean            1.166667        13.416667               3.416667   \n",
       "std             1.800673         7.012435               4.187825   \n",
       "min             0.000000         5.000000               0.000000   \n",
       "25%             0.000000         7.000000               0.000000   \n",
       "50%             0.500000        12.500000               1.000000   \n",
       "75%             1.250000        19.500000               6.500000   \n",
       "max             6.000000        25.000000              11.000000   \n",
       "\n",
       "       Geai des chênes  Goéland argenté  Grimpereau des jardins  \\\n",
       "count        12.000000        12.000000               12.000000   \n",
       "mean          2.083333         0.083333                3.666667   \n",
       "std           1.564279         0.288675                1.874874   \n",
       "min           1.000000         0.000000                1.000000   \n",
       "25%           1.000000         0.000000                2.000000   \n",
       "50%           1.500000         0.000000                4.000000   \n",
       "75%           2.250000         0.000000                5.000000   \n",
       "max           6.000000         1.000000                7.000000   \n",
       "\n",
       "       Grive musicienne  Merle noir  Mésange bleue  Mésange charbonnière  ...  \\\n",
       "count         12.000000   12.000000      12.000000             12.000000  ...   \n",
       "mean           0.500000   14.916667       8.333333              7.333333  ...   \n",
       "std            0.904534    7.378819       4.163332              5.630006  ...   \n",
       "min            0.000000    3.000000       4.000000              2.000000  ...   \n",
       "25%            0.000000   10.750000       5.750000              3.000000  ...   \n",
       "50%            0.000000   14.500000       7.000000              6.000000  ...   \n",
       "75%            1.000000   22.250000      10.250000              9.250000  ...   \n",
       "max            3.000000   24.000000      16.000000             22.000000  ...   \n",
       "\n",
       "       Pigeon biset  Pigeon ramier  Pinson des arbres  Pouillot véloce  \\\n",
       "count     12.000000      12.000000          12.000000        12.000000   \n",
       "mean       5.250000      19.333333           3.250000         1.166667   \n",
       "std        4.845335      10.915655           3.137022         1.337116   \n",
       "min        1.000000       6.000000           0.000000         0.000000   \n",
       "25%        1.750000       9.750000           0.750000         0.000000   \n",
       "50%        3.500000      17.000000           3.000000         1.000000   \n",
       "75%        7.250000      26.750000           4.250000         2.000000   \n",
       "max       17.000000      37.000000          11.000000         4.000000   \n",
       "\n",
       "       Roitelet huppé  Roitelet à triple bandeau  Rougegorge familier  \\\n",
       "count       12.000000                  12.000000            12.000000   \n",
       "mean         1.416667                   1.250000             8.500000   \n",
       "std          2.108784                   1.912875             4.719399   \n",
       "min          0.000000                   0.000000             1.000000   \n",
       "25%          0.000000                   0.000000             5.500000   \n",
       "50%          0.000000                   0.000000             9.500000   \n",
       "75%          2.500000                   2.000000            11.250000   \n",
       "max          6.000000                   5.000000            16.000000   \n",
       "\n",
       "       Sittelle torchepot  Troglodyte mignon  Étourneau sansonnet  \n",
       "count           12.000000          12.000000            12.000000  \n",
       "mean             1.000000           5.083333            19.250000  \n",
       "std              1.279204           3.315483            23.798873  \n",
       "min              0.000000           1.000000             0.000000  \n",
       "25%              0.000000           3.500000             1.500000  \n",
       "50%              0.000000           5.000000             8.500000  \n",
       "75%              2.000000           5.500000            33.500000  \n",
       "max              3.000000          12.000000            75.000000  \n",
       "\n",
       "[8 rows x 27 columns]"
      ]
     },
     "execution_count": 14,
     "metadata": {},
     "output_type": "execute_result"
    }
   ],
   "source": [
    "df.describe()"
   ]
  },
  {
   "cell_type": "code",
   "execution_count": 15,
   "id": "35caa45a",
   "metadata": {
    "scrolled": false
   },
   "outputs": [
    {
     "data": {
      "text/html": [
       "<div>\n",
       "<style scoped>\n",
       "    .dataframe tbody tr th:only-of-type {\n",
       "        vertical-align: middle;\n",
       "    }\n",
       "\n",
       "    .dataframe tbody tr th {\n",
       "        vertical-align: top;\n",
       "    }\n",
       "\n",
       "    .dataframe thead th {\n",
       "        text-align: right;\n",
       "    }\n",
       "</style>\n",
       "<table border=\"1\" class=\"dataframe\">\n",
       "  <thead>\n",
       "    <tr style=\"text-align: right;\">\n",
       "      <th></th>\n",
       "      <th>Accenteur mouchet</th>\n",
       "      <th>Corneille noire</th>\n",
       "      <th>Fauvette à tête noire</th>\n",
       "      <th>Geai des chênes</th>\n",
       "      <th>Goéland argenté</th>\n",
       "      <th>Grimpereau des jardins</th>\n",
       "      <th>Grive musicienne</th>\n",
       "      <th>Merle noir</th>\n",
       "      <th>Mésange bleue</th>\n",
       "      <th>Mésange charbonnière</th>\n",
       "      <th>...</th>\n",
       "      <th>Pigeon biset</th>\n",
       "      <th>Pigeon ramier</th>\n",
       "      <th>Pinson des arbres</th>\n",
       "      <th>Pouillot véloce</th>\n",
       "      <th>Roitelet huppé</th>\n",
       "      <th>Roitelet à triple bandeau</th>\n",
       "      <th>Rougegorge familier</th>\n",
       "      <th>Sittelle torchepot</th>\n",
       "      <th>Troglodyte mignon</th>\n",
       "      <th>Étourneau sansonnet</th>\n",
       "    </tr>\n",
       "  </thead>\n",
       "  <tbody>\n",
       "    <tr>\n",
       "      <th>0</th>\n",
       "      <td>1</td>\n",
       "      <td>22</td>\n",
       "      <td>0</td>\n",
       "      <td>4</td>\n",
       "      <td>0</td>\n",
       "      <td>3</td>\n",
       "      <td>1</td>\n",
       "      <td>22</td>\n",
       "      <td>16</td>\n",
       "      <td>22</td>\n",
       "      <td>...</td>\n",
       "      <td>1</td>\n",
       "      <td>37</td>\n",
       "      <td>3</td>\n",
       "      <td>0</td>\n",
       "      <td>4</td>\n",
       "      <td>0</td>\n",
       "      <td>14</td>\n",
       "      <td>0</td>\n",
       "      <td>5</td>\n",
       "      <td>33</td>\n",
       "    </tr>\n",
       "    <tr>\n",
       "      <th>1</th>\n",
       "      <td>1</td>\n",
       "      <td>9</td>\n",
       "      <td>0</td>\n",
       "      <td>3</td>\n",
       "      <td>0</td>\n",
       "      <td>4</td>\n",
       "      <td>1</td>\n",
       "      <td>13</td>\n",
       "      <td>7</td>\n",
       "      <td>9</td>\n",
       "      <td>...</td>\n",
       "      <td>1</td>\n",
       "      <td>8</td>\n",
       "      <td>3</td>\n",
       "      <td>1</td>\n",
       "      <td>2</td>\n",
       "      <td>0</td>\n",
       "      <td>6</td>\n",
       "      <td>2</td>\n",
       "      <td>4</td>\n",
       "      <td>7</td>\n",
       "    </tr>\n",
       "    <tr>\n",
       "      <th>2</th>\n",
       "      <td>0</td>\n",
       "      <td>25</td>\n",
       "      <td>6</td>\n",
       "      <td>2</td>\n",
       "      <td>1</td>\n",
       "      <td>7</td>\n",
       "      <td>3</td>\n",
       "      <td>24</td>\n",
       "      <td>16</td>\n",
       "      <td>12</td>\n",
       "      <td>...</td>\n",
       "      <td>17</td>\n",
       "      <td>24</td>\n",
       "      <td>11</td>\n",
       "      <td>3</td>\n",
       "      <td>1</td>\n",
       "      <td>2</td>\n",
       "      <td>9</td>\n",
       "      <td>2</td>\n",
       "      <td>10</td>\n",
       "      <td>16</td>\n",
       "    </tr>\n",
       "    <tr>\n",
       "      <th>3</th>\n",
       "      <td>3</td>\n",
       "      <td>7</td>\n",
       "      <td>8</td>\n",
       "      <td>2</td>\n",
       "      <td>0</td>\n",
       "      <td>2</td>\n",
       "      <td>0</td>\n",
       "      <td>12</td>\n",
       "      <td>7</td>\n",
       "      <td>4</td>\n",
       "      <td>...</td>\n",
       "      <td>3</td>\n",
       "      <td>10</td>\n",
       "      <td>3</td>\n",
       "      <td>2</td>\n",
       "      <td>0</td>\n",
       "      <td>1</td>\n",
       "      <td>1</td>\n",
       "      <td>0</td>\n",
       "      <td>5</td>\n",
       "      <td>35</td>\n",
       "    </tr>\n",
       "    <tr>\n",
       "      <th>4</th>\n",
       "      <td>0</td>\n",
       "      <td>7</td>\n",
       "      <td>10</td>\n",
       "      <td>1</td>\n",
       "      <td>0</td>\n",
       "      <td>5</td>\n",
       "      <td>0</td>\n",
       "      <td>24</td>\n",
       "      <td>4</td>\n",
       "      <td>2</td>\n",
       "      <td>...</td>\n",
       "      <td>8</td>\n",
       "      <td>9</td>\n",
       "      <td>6</td>\n",
       "      <td>4</td>\n",
       "      <td>0</td>\n",
       "      <td>0</td>\n",
       "      <td>11</td>\n",
       "      <td>0</td>\n",
       "      <td>7</td>\n",
       "      <td>48</td>\n",
       "    </tr>\n",
       "    <tr>\n",
       "      <th>5</th>\n",
       "      <td>0</td>\n",
       "      <td>15</td>\n",
       "      <td>11</td>\n",
       "      <td>1</td>\n",
       "      <td>0</td>\n",
       "      <td>5</td>\n",
       "      <td>0</td>\n",
       "      <td>23</td>\n",
       "      <td>8</td>\n",
       "      <td>10</td>\n",
       "      <td>...</td>\n",
       "      <td>3</td>\n",
       "      <td>25</td>\n",
       "      <td>5</td>\n",
       "      <td>2</td>\n",
       "      <td>6</td>\n",
       "      <td>0</td>\n",
       "      <td>11</td>\n",
       "      <td>0</td>\n",
       "      <td>12</td>\n",
       "      <td>75</td>\n",
       "    </tr>\n",
       "    <tr>\n",
       "      <th>6</th>\n",
       "      <td>0</td>\n",
       "      <td>10</td>\n",
       "      <td>3</td>\n",
       "      <td>2</td>\n",
       "      <td>0</td>\n",
       "      <td>5</td>\n",
       "      <td>0</td>\n",
       "      <td>11</td>\n",
       "      <td>6</td>\n",
       "      <td>3</td>\n",
       "      <td>...</td>\n",
       "      <td>4</td>\n",
       "      <td>13</td>\n",
       "      <td>3</td>\n",
       "      <td>1</td>\n",
       "      <td>4</td>\n",
       "      <td>0</td>\n",
       "      <td>4</td>\n",
       "      <td>0</td>\n",
       "      <td>2</td>\n",
       "      <td>2</td>\n",
       "    </tr>\n",
       "    <tr>\n",
       "      <th>7</th>\n",
       "      <td>6</td>\n",
       "      <td>21</td>\n",
       "      <td>1</td>\n",
       "      <td>1</td>\n",
       "      <td>0</td>\n",
       "      <td>2</td>\n",
       "      <td>0</td>\n",
       "      <td>17</td>\n",
       "      <td>10</td>\n",
       "      <td>5</td>\n",
       "      <td>...</td>\n",
       "      <td>7</td>\n",
       "      <td>14</td>\n",
       "      <td>0</td>\n",
       "      <td>1</td>\n",
       "      <td>0</td>\n",
       "      <td>0</td>\n",
       "      <td>10</td>\n",
       "      <td>0</td>\n",
       "      <td>5</td>\n",
       "      <td>0</td>\n",
       "    </tr>\n",
       "    <tr>\n",
       "      <th>8</th>\n",
       "      <td>2</td>\n",
       "      <td>15</td>\n",
       "      <td>1</td>\n",
       "      <td>1</td>\n",
       "      <td>0</td>\n",
       "      <td>5</td>\n",
       "      <td>0</td>\n",
       "      <td>10</td>\n",
       "      <td>11</td>\n",
       "      <td>8</td>\n",
       "      <td>...</td>\n",
       "      <td>2</td>\n",
       "      <td>32</td>\n",
       "      <td>1</td>\n",
       "      <td>0</td>\n",
       "      <td>0</td>\n",
       "      <td>5</td>\n",
       "      <td>12</td>\n",
       "      <td>3</td>\n",
       "      <td>5</td>\n",
       "      <td>0</td>\n",
       "    </tr>\n",
       "    <tr>\n",
       "      <th>9</th>\n",
       "      <td>0</td>\n",
       "      <td>6</td>\n",
       "      <td>0</td>\n",
       "      <td>1</td>\n",
       "      <td>0</td>\n",
       "      <td>1</td>\n",
       "      <td>1</td>\n",
       "      <td>4</td>\n",
       "      <td>4</td>\n",
       "      <td>3</td>\n",
       "      <td>...</td>\n",
       "      <td>1</td>\n",
       "      <td>34</td>\n",
       "      <td>0</td>\n",
       "      <td>0</td>\n",
       "      <td>0</td>\n",
       "      <td>2</td>\n",
       "      <td>6</td>\n",
       "      <td>2</td>\n",
       "      <td>1</td>\n",
       "      <td>0</td>\n",
       "    </tr>\n",
       "    <tr>\n",
       "      <th>10</th>\n",
       "      <td>1</td>\n",
       "      <td>19</td>\n",
       "      <td>1</td>\n",
       "      <td>6</td>\n",
       "      <td>0</td>\n",
       "      <td>4</td>\n",
       "      <td>0</td>\n",
       "      <td>16</td>\n",
       "      <td>6</td>\n",
       "      <td>7</td>\n",
       "      <td>...</td>\n",
       "      <td>11</td>\n",
       "      <td>20</td>\n",
       "      <td>4</td>\n",
       "      <td>0</td>\n",
       "      <td>0</td>\n",
       "      <td>5</td>\n",
       "      <td>16</td>\n",
       "      <td>3</td>\n",
       "      <td>4</td>\n",
       "      <td>10</td>\n",
       "    </tr>\n",
       "    <tr>\n",
       "      <th>11</th>\n",
       "      <td>0</td>\n",
       "      <td>5</td>\n",
       "      <td>0</td>\n",
       "      <td>1</td>\n",
       "      <td>0</td>\n",
       "      <td>1</td>\n",
       "      <td>0</td>\n",
       "      <td>3</td>\n",
       "      <td>5</td>\n",
       "      <td>3</td>\n",
       "      <td>...</td>\n",
       "      <td>5</td>\n",
       "      <td>6</td>\n",
       "      <td>0</td>\n",
       "      <td>0</td>\n",
       "      <td>0</td>\n",
       "      <td>0</td>\n",
       "      <td>2</td>\n",
       "      <td>0</td>\n",
       "      <td>1</td>\n",
       "      <td>5</td>\n",
       "    </tr>\n",
       "  </tbody>\n",
       "</table>\n",
       "<p>12 rows × 27 columns</p>\n",
       "</div>"
      ],
      "text/plain": [
       "    Accenteur mouchet  Corneille noire  Fauvette à tête noire  \\\n",
       "0                   1               22                      0   \n",
       "1                   1                9                      0   \n",
       "2                   0               25                      6   \n",
       "3                   3                7                      8   \n",
       "4                   0                7                     10   \n",
       "5                   0               15                     11   \n",
       "6                   0               10                      3   \n",
       "7                   6               21                      1   \n",
       "8                   2               15                      1   \n",
       "9                   0                6                      0   \n",
       "10                  1               19                      1   \n",
       "11                  0                5                      0   \n",
       "\n",
       "    Geai des chênes  Goéland argenté  Grimpereau des jardins  \\\n",
       "0                 4                0                       3   \n",
       "1                 3                0                       4   \n",
       "2                 2                1                       7   \n",
       "3                 2                0                       2   \n",
       "4                 1                0                       5   \n",
       "5                 1                0                       5   \n",
       "6                 2                0                       5   \n",
       "7                 1                0                       2   \n",
       "8                 1                0                       5   \n",
       "9                 1                0                       1   \n",
       "10                6                0                       4   \n",
       "11                1                0                       1   \n",
       "\n",
       "    Grive musicienne  Merle noir  Mésange bleue  Mésange charbonnière  ...  \\\n",
       "0                  1          22             16                    22  ...   \n",
       "1                  1          13              7                     9  ...   \n",
       "2                  3          24             16                    12  ...   \n",
       "3                  0          12              7                     4  ...   \n",
       "4                  0          24              4                     2  ...   \n",
       "5                  0          23              8                    10  ...   \n",
       "6                  0          11              6                     3  ...   \n",
       "7                  0          17             10                     5  ...   \n",
       "8                  0          10             11                     8  ...   \n",
       "9                  1           4              4                     3  ...   \n",
       "10                 0          16              6                     7  ...   \n",
       "11                 0           3              5                     3  ...   \n",
       "\n",
       "    Pigeon biset  Pigeon ramier  Pinson des arbres  Pouillot véloce  \\\n",
       "0              1             37                  3                0   \n",
       "1              1              8                  3                1   \n",
       "2             17             24                 11                3   \n",
       "3              3             10                  3                2   \n",
       "4              8              9                  6                4   \n",
       "5              3             25                  5                2   \n",
       "6              4             13                  3                1   \n",
       "7              7             14                  0                1   \n",
       "8              2             32                  1                0   \n",
       "9              1             34                  0                0   \n",
       "10            11             20                  4                0   \n",
       "11             5              6                  0                0   \n",
       "\n",
       "    Roitelet huppé  Roitelet à triple bandeau  Rougegorge familier  \\\n",
       "0                4                          0                   14   \n",
       "1                2                          0                    6   \n",
       "2                1                          2                    9   \n",
       "3                0                          1                    1   \n",
       "4                0                          0                   11   \n",
       "5                6                          0                   11   \n",
       "6                4                          0                    4   \n",
       "7                0                          0                   10   \n",
       "8                0                          5                   12   \n",
       "9                0                          2                    6   \n",
       "10               0                          5                   16   \n",
       "11               0                          0                    2   \n",
       "\n",
       "    Sittelle torchepot  Troglodyte mignon  Étourneau sansonnet  \n",
       "0                    0                  5                   33  \n",
       "1                    2                  4                    7  \n",
       "2                    2                 10                   16  \n",
       "3                    0                  5                   35  \n",
       "4                    0                  7                   48  \n",
       "5                    0                 12                   75  \n",
       "6                    0                  2                    2  \n",
       "7                    0                  5                    0  \n",
       "8                    3                  5                    0  \n",
       "9                    2                  1                    0  \n",
       "10                   3                  4                   10  \n",
       "11                   0                  1                    5  \n",
       "\n",
       "[12 rows x 27 columns]"
      ]
     },
     "execution_count": 15,
     "metadata": {},
     "output_type": "execute_result"
    }
   ],
   "source": [
    "df_only_birds = df.drop(\"Mois\", axis=1)\n",
    "df_only_birds"
   ]
  },
  {
   "cell_type": "markdown",
   "id": "8475e7f5",
   "metadata": {},
   "source": [
    "# Question 1"
   ]
  },
  {
   "cell_type": "code",
   "execution_count": 16,
   "id": "69030965",
   "metadata": {},
   "outputs": [
    {
     "name": "stdout",
     "output_type": "stream",
     "text": [
      "Total de chaque espèce :\n",
      " Accenteur mouchet             14\n",
      "Corneille noire              161\n",
      "Fauvette à tête noire         41\n",
      "Geai des chênes               25\n",
      "Goéland argenté                1\n",
      "Grimpereau des jardins        44\n",
      "Grive musicienne               6\n",
      "Merle noir                   179\n",
      "Mésange bleue                100\n",
      "Mésange charbonnière          88\n",
      "Mésange huppée                 2\n",
      "Mésange noire                  1\n",
      "Mésange à longue queue        22\n",
      "Perruche à collier            99\n",
      "Pic vert                      26\n",
      "Pic épeiche                    2\n",
      "Pie bavarde                   75\n",
      "Pigeon biset                  63\n",
      "Pigeon ramier                232\n",
      "Pinson des arbres             39\n",
      "Pouillot véloce               14\n",
      "Roitelet huppé                17\n",
      "Roitelet à triple bandeau     15\n",
      "Rougegorge familier          102\n",
      "Sittelle torchepot            12\n",
      "Troglodyte mignon             61\n",
      "Étourneau sansonnet          231\n",
      "dtype: int64\n",
      "Total tout espèce confondu :  1672\n"
     ]
    }
   ],
   "source": [
    "total_each_bird = df_only_birds.sum()\n",
    "total_all_birds = total_each_bird.sum()\n",
    "print(\"Total de chaque espèce :\\n\", total_each_bird)\n",
    "print(\"Total tout espèce confondu : \", total_all_birds)"
   ]
  },
  {
   "cell_type": "code",
   "execution_count": 17,
   "id": "bb223978",
   "metadata": {},
   "outputs": [
    {
     "name": "stdout",
     "output_type": "stream",
     "text": [
      "Les/L'espèce(s) les/la plus observée(s) dans l'année sont/est : Pigeon ramier\n"
     ]
    }
   ],
   "source": [
    "max_observed_birds_value = total_each_bird.max()\n",
    "highly_observed_birds = total_each_bird.index[total_each_bird == max_observed_birds_value]\n",
    "highly_observed_birds_names = ', '.join(highly_observed_birds)\n",
    "\n",
    "print(\"Les/L'espèce(s) les/la plus observée(s) dans l'année sont/est :\", highly_observed_birds_names)"
   ]
  },
  {
   "cell_type": "code",
   "execution_count": 18,
   "id": "35baa1ef",
   "metadata": {},
   "outputs": [
    {
     "name": "stdout",
     "output_type": "stream",
     "text": [
      "Les/L'espèce(s) les/la moins observée(s) dans l'année sont/est : Goéland argenté, Mésange noire\n"
     ]
    }
   ],
   "source": [
    "min_observed_birds_value = total_each_bird.min()\n",
    "lightly_observed_birds = total_each_bird.index[total_each_bird == min_observed_birds_value]\n",
    "lightly_observed_birds_names = ', '.join(lightly_observed_birds)\n",
    "\n",
    "print(\"Les/L'espèce(s) les/la moins observée(s) dans l'année sont/est :\", lightly_observed_birds_names)"
   ]
  },
  {
   "cell_type": "code",
   "execution_count": 19,
   "id": "ca6f683e",
   "metadata": {},
   "outputs": [
    {
     "name": "stdout",
     "output_type": "stream",
     "text": [
      "Le nombre maximum d'individus observé sur une espèce est de 232\n",
      "Le nombre minimum d'individus observé sur une espèce est de 1\n"
     ]
    }
   ],
   "source": [
    "print(\"Le nombre maximum d'individus observé sur une espèce est de\", max_observed_birds_value)\n",
    "print(\"Le nombre minimum d'individus observé sur une espèce est de\", min_observed_birds_value)"
   ]
  },
  {
   "cell_type": "markdown",
   "id": "d6103d88",
   "metadata": {},
   "source": [
    "# Question 2"
   ]
  },
  {
   "cell_type": "markdown",
   "id": "59cbe7c0",
   "metadata": {},
   "source": [
    "Il peut y avoir plusieurs raisons du fait qu'il y a ait des 0 dans le dataframe :\n",
    "- Il n'y a simplement pas eu d'observations de l'espèce durant le mois concerné\n",
    "- Dû à des quelconques problèmes techniques, les observations n'ont pas été faites\n",
    "- Le partage des données n'a pas été fait ou mal fait (manque de données)\n",
    "- Corruption du fichier donc effacement/reset de cellules"
   ]
  },
  {
   "cell_type": "code",
   "execution_count": 20,
   "id": "be2518fb",
   "metadata": {},
   "outputs": [
    {
     "name": "stdout",
     "output_type": "stream",
     "text": [
      "Le nombre de mois concernés est 12\n",
      "Le nombre d'espèces concernées est 15\n"
     ]
    }
   ],
   "source": [
    "months_zero_serie = (df == 0).any(axis=1)\n",
    "months_zero_value = months_zero_serie.sum()\n",
    "birds_zero_serie = (df == 0).any(axis=0)\n",
    "birds_zero_value = birds_zero_serie.sum()\n",
    "\n",
    "print(\"Le nombre de mois concernés est\", months_zero_value)\n",
    "print(\"Le nombre d'espèces concernées est\", birds_zero_value)"
   ]
  },
  {
   "cell_type": "code",
   "execution_count": 47,
   "id": "3445873e",
   "metadata": {},
   "outputs": [],
   "source": [
    "# Suppression des espèces contenant un 0 dans leur colonne\n",
    "birds_zero_index = birds_zero_serie[birds_zero_serie == True].index\n",
    "df_without_birds_zero = df.drop(columns=birds_zero_index)\n",
    "df_without_birds_zero_and_months = df_without_birds_zero.drop(columns=\"Mois\")"
   ]
  },
  {
   "cell_type": "markdown",
   "id": "a1451fee",
   "metadata": {},
   "source": [
    "# Question 3"
   ]
  },
  {
   "cell_type": "code",
   "execution_count": 48,
   "id": "2b97a924",
   "metadata": {},
   "outputs": [
    {
     "data": {
      "text/plain": [
       "Corneille noire            49.174242\n",
       "Geai des chênes             2.446970\n",
       "Grimpereau des jardins      3.515152\n",
       "Merle noir                 54.446970\n",
       "Mésange bleue              17.333333\n",
       "Mésange charbonnière       31.696970\n",
       "Perruche à collier         30.568182\n",
       "Pie bavarde                21.295455\n",
       "Pigeon biset               23.477273\n",
       "Pigeon ramier             119.151515\n",
       "Rougegorge familier        22.272727\n",
       "Troglodyte mignon          10.992424\n",
       "dtype: float64"
      ]
     },
     "execution_count": 48,
     "metadata": {},
     "output_type": "execute_result"
    }
   ],
   "source": [
    "var_species = df_without_birds_zero_and_months.var(axis=0)\n",
    "var_species"
   ]
  },
  {
   "cell_type": "markdown",
   "id": "7218da1f",
   "metadata": {},
   "source": [
    "Rappel : La variance mesure la dispersion des valeurs autour de la moyenne.\n",
    "Dans le contexte d'obervations d'espèces d'oiseaux au fil de l'année, on peut interpréter ces valeurs comme la stabilité d'une population au cours de l'année."
   ]
  },
  {
   "cell_type": "code",
   "execution_count": 49,
   "id": "930f7f34",
   "metadata": {},
   "outputs": [
    {
     "name": "stdout",
     "output_type": "stream",
     "text": [
      "L'espèce dont le nombre d'observations varie le moins est Geai des chênes\n",
      "L'espèce dont le nombre d'observations varie le plus est Pigeon ramier\n"
     ]
    }
   ],
   "source": [
    "min_var_species_value = var_species.min()\n",
    "max_var_species_value = var_species.max()\n",
    "\n",
    "min_var_species_name = var_species.index[var_species == min_var_species_value]\n",
    "min_var_species_name_tostring = \" ,\".join(min_var_species_name)\n",
    "max_var_species_name = var_species.index[var_species == max_var_species_value]\n",
    "max_var_species_name_tostring = \" ,\".join(max_var_species_name)\n",
    "\n",
    "print(\"L'espèce dont le nombre d'observations varie le moins est\", min_var_species_name_tostring)\n",
    "print(\"L'espèce dont le nombre d'observations varie le plus est\", max_var_species_name_tostring)"
   ]
  },
  {
   "cell_type": "markdown",
   "id": "92d2b797",
   "metadata": {},
   "source": [
    "# Question 4"
   ]
  },
  {
   "cell_type": "code",
   "execution_count": 50,
   "id": "c348ac55",
   "metadata": {},
   "outputs": [],
   "source": [
    "studied_species = \"Perruche à collier\""
   ]
  },
  {
   "cell_type": "code",
   "execution_count": 51,
   "id": "dd3854c3",
   "metadata": {},
   "outputs": [],
   "source": [
    "import matplotlib.pyplot as plt"
   ]
  },
  {
   "cell_type": "code",
   "execution_count": 52,
   "id": "3b5c990a",
   "metadata": {},
   "outputs": [
    {
     "name": "stdout",
     "output_type": "stream",
     "text": [
      "Le minimum d'observations de perruche est de 2\n",
      "Le maximum d'observations de perruche est de 18\n"
     ]
    }
   ],
   "source": [
    "mean_perruche = df_without_birds_zero[studied_species].mean()\n",
    "median_perruche = df_without_birds_zero[studied_species].median()\n",
    "min_perruche = df_without_birds_zero[studied_species].min()\n",
    "max_perruche = df_without_birds_zero[studied_species].max()\n",
    "std_perruche = df_without_birds_zero[studied_species].std()\n",
    "print(\"Le minimum d'observations de perruche est de\", min_perruche)\n",
    "print(\"Le maximum d'observations de perruche est de\", max_perruche)"
   ]
  },
  {
   "cell_type": "code",
   "execution_count": 53,
   "id": "462b098f",
   "metadata": {},
   "outputs": [
    {
     "name": "stdout",
     "output_type": "stream",
     "text": [
      "Saving figure hist_perruche_values\n"
     ]
    },
    {
     "data": {
      "image/png": "[encoded data removed]",
      "text/plain": [
       "<Figure size 576x432 with 1 Axes>"
      ]
     },
     "metadata": {
      "needs_background": "light"
     },
     "output_type": "display_data"
    }
   ],
   "source": [
    "plt.figure(figsize=(8, 6))\n",
    "plt.hist(df_without_birds_zero[studied_species], bins='auto', \n",
    "         color='steelblue', edgecolor='black', alpha=0.7)\n",
    "plt.axvline(mean_perruche, color='red', linestyle='dashed', \n",
    "            linewidth=2, label='Moyenne')\n",
    "plt.axvline(median_perruche, color='green', linestyle='dashed', \n",
    "            linewidth=2, label='Médiane')\n",
    "plt.xlabel('Valeurs')\n",
    "plt.ylabel('Fréquence')\n",
    "plt.legend()\n",
    "plt.text(0.95, 0.85, f'Écart-type : {std_perruche:.2f}', ha='right', va='top', transform=plt.gca().transAxes)\n",
    "plt.grid(True)\n",
    "plt.tight_layout()\n",
    "save_fig(\"hist_perruche_values\")\n",
    "plt.show()"
   ]
  },
  {
   "cell_type": "markdown",
   "id": "b4c82da6",
   "metadata": {},
   "source": [
    "On observe un écart-type et une moyenne proches. Il y a également une forte féquence sur les valeurs faibles, ce qui peut montrer une espèce voyageant en petits groupes et souvent."
   ]
  },
  {
   "cell_type": "markdown",
   "id": "1f75ce43",
   "metadata": {},
   "source": [
    "# Question 5"
   ]
  },
  {
   "cell_type": "code",
   "execution_count": 54,
   "id": "56d79346",
   "metadata": {},
   "outputs": [
    {
     "data": {
      "text/plain": [
       "0     14.916667\n",
       "1      6.166667\n",
       "2     14.750000\n",
       "3      5.083333\n",
       "4      7.666667\n",
       "5     11.166667\n",
       "6      5.750000\n",
       "7      8.166667\n",
       "8      9.916667\n",
       "9      5.583333\n",
       "10    10.083333\n",
       "11     3.166667\n",
       "dtype: float64"
      ]
     },
     "execution_count": 54,
     "metadata": {},
     "output_type": "execute_result"
    }
   ],
   "source": [
    "mean_df = df_without_birds_zero_and_months.mean(axis=1)\n",
    "mean_df"
   ]
  },
  {
   "cell_type": "code",
   "execution_count": 55,
   "id": "8d129235",
   "metadata": {},
   "outputs": [
    {
     "data": {
      "text/plain": [
       "0     18\n",
       "1      2\n",
       "2     16\n",
       "3      7\n",
       "4      9\n",
       "5     13\n",
       "6      4\n",
       "7      2\n",
       "8     12\n",
       "9      4\n",
       "10     9\n",
       "11     3\n",
       "Name: Perruche à collier, dtype: int64"
      ]
     },
     "execution_count": 55,
     "metadata": {},
     "output_type": "execute_result"
    }
   ],
   "source": [
    "df_without_birds_zero_and_months[studied_species]"
   ]
  },
  {
   "cell_type": "code",
   "execution_count": 30,
   "id": "c633d60c",
   "metadata": {},
   "outputs": [
    {
     "name": "stdout",
     "output_type": "stream",
     "text": [
      "Saving figure graph_comparison_mean_birds_and_perruche\n"
     ]
    },
    {
     "data": {
      "image/png": "[encoded data removed]",
      "text/plain": [
       "<Figure size 432x288 with 1 Axes>"
      ]
     },
     "metadata": {
      "needs_background": "light"
     },
     "output_type": "display_data"
    }
   ],
   "source": [
    "fig, ax = plt.subplots()\n",
    "ax.plot(mean_df,\n",
    "        label=\"Moyenne d'individus\", linewidth=2)\n",
    "ax.plot(df_without_birds_zero_and_months[\"Perruche à collier\"],\n",
    "        label=\"Nombre de perruches à collier\", linewidth=2)\n",
    "plt.xlabel('Mois')\n",
    "plt.ylabel(\"Nombre d'observation\")\n",
    "ax.legend()\n",
    "plt.grid(True)\n",
    "plt.tight_layout()\n",
    "save_fig(\"graph_comparison_mean_birds_and_perruche\")\n",
    "plt.show()"
   ]
  },
  {
   "cell_type": "markdown",
   "id": "b63543b3",
   "metadata": {},
   "source": [
    "On peut voir que les courbes se suivent presque au fil du temps. Le seul moment où il y a un léger changement serait vers juillet où les perruches à colliers aurait possiblement bouger (ou se font plus discètes).\n",
    "On pourrait presque considérer la perruches à collier comme \"l'espèce moyenne\" a étudier si l'on souhaite comprendre les fluctuations et les interactions au sein de l'écosystème aviaire. Leur comportement semble influencer les autres espèces présentes, créant ainsi un équilibre."
   ]
  },
  {
   "cell_type": "markdown",
   "id": "ecbe77c9",
   "metadata": {},
   "source": [
    "# Question 6"
   ]
  },
  {
   "cell_type": "code",
   "execution_count": 56,
   "id": "63c2140b",
   "metadata": {},
   "outputs": [],
   "source": [
    "corr_matrix = df_without_birds_zero_and_months.corr()"
   ]
  },
  {
   "cell_type": "code",
   "execution_count": 57,
   "id": "6c02da10",
   "metadata": {
    "scrolled": true
   },
   "outputs": [
    {
     "data": {
      "text/plain": [
       "Mésange charbonnière      0.753500\n",
       "Pie bavarde               0.738454\n",
       "Mésange bleue             0.722741\n",
       "Merle noir                0.657924\n",
       "Troglodyte mignon         0.643477\n",
       "Pigeon ramier             0.641700\n",
       "Corneille noire           0.620783\n",
       "Rougegorge familier       0.590548\n",
       "Grimpereau des jardins    0.543741\n",
       "Pigeon biset              0.258755\n",
       "Geai des chênes           0.239133\n",
       "Name: Perruche à collier, dtype: float64"
      ]
     },
     "execution_count": 57,
     "metadata": {},
     "output_type": "execute_result"
    }
   ],
   "source": [
    "corr_matrix_values = corr_matrix[studied_species].sort_values(ascending=False)\n",
    "corr_matrix_values = corr_matrix_values.iloc[1:]\n",
    "corr_matrix_values"
   ]
  },
  {
   "cell_type": "code",
   "execution_count": 58,
   "id": "42c6f245",
   "metadata": {},
   "outputs": [
    {
     "name": "stdout",
     "output_type": "stream",
     "text": [
      "La plus grande corrélation est 0.7535001525090189\n",
      "La plus petite corrélation est 0.23913305731950327\n"
     ]
    }
   ],
   "source": [
    "max_corr_matrix_value = corr_matrix_values.max()\n",
    "max_corr_matrix_value\n",
    "print(\"La plus grande corrélation est\", max_corr_matrix_value)\n",
    "min_corr_matrix_value = corr_matrix_values.min()\n",
    "print(\"La plus petite corrélation est\", min_corr_matrix_value)"
   ]
  },
  {
   "cell_type": "code",
   "execution_count": 59,
   "id": "b194e405",
   "metadata": {
    "scrolled": true
   },
   "outputs": [
    {
     "name": "stdout",
     "output_type": "stream",
     "text": [
      "Le nom de l'espèce ayant la plus grande corrélation est Mésange charbonnière\n",
      "Le nom de l'espèce ayant la plus petite corrélation est Geai des chênes\n"
     ]
    }
   ],
   "source": [
    "max_corr_bird_name = corr_matrix_values.index[corr_matrix_values == max_corr_matrix_value]\n",
    "max_corr_bird_name_tostring = \" ,\".join(max_corr_bird_name)\n",
    "print(\"Le nom de l'espèce ayant la plus grande corrélation est\", max_corr_bird_name_tostring)\n",
    "min_corr_bird_name = corr_matrix_values.index[corr_matrix_values == min_corr_matrix_value]\n",
    "min_corr_bird_name_tostring = \" ,\".join(min_corr_bird_name)\n",
    "print(\"Le nom de l'espèce ayant la plus petite corrélation est\", min_corr_bird_name_tostring)"
   ]
  },
  {
   "cell_type": "code",
   "execution_count": 64,
   "id": "3764ebba",
   "metadata": {
    "scrolled": true
   },
   "outputs": [],
   "source": [
    "perruche_data = df_without_birds_zero_and_months[\"Perruche à collier\"]\n",
    "max_corr_bird_data = df_without_birds_zero_and_months[max_corr_bird_name_tostring]\n",
    "min_corr_bird_data = df_without_birds_zero_and_months[min_corr_bird_name_tostring]"
   ]
  },
  {
   "cell_type": "code",
   "execution_count": 65,
   "id": "d94fa070",
   "metadata": {},
   "outputs": [
    {
     "name": "stdout",
     "output_type": "stream",
     "text": [
      "Saving figure graph_observations_perruche_corr\n"
     ]
    },
    {
     "data": {
      "image/png": "[encoded data removed]",
      "text/plain": [
       "<Figure size 720x432 with 1 Axes>"
      ]
     },
     "metadata": {
      "needs_background": "light"
     },
     "output_type": "display_data"
    }
   ],
   "source": [
    "plt.figure(figsize=(10, 6))\n",
    "\n",
    "plt.plot(perruche_data.index, perruche_data, \n",
    "         label=\"Perruches à collier\", linewidth=2)\n",
    "plt.plot(max_corr_bird_data.index, max_corr_bird_data, \n",
    "         label=\"Espèce fortement corrélée\", linewidth=2)\n",
    "plt.plot(min_corr_bird_data.index, min_corr_bird_data, \n",
    "         label=\"Espèce faiblement corrélée\", linewidth=2)\n",
    "\n",
    "plt.legend()\n",
    "plt.grid(True)\n",
    "plt.tight_layout()\n",
    "\n",
    "plt.xlabel(\"Mois\")\n",
    "plt.ylabel(\"Nombre d'observations\")\n",
    "\n",
    "save_fig(\"graph_observations_perruche_corr\")\n",
    "plt.show()"
   ]
  },
  {
   "cell_type": "code",
   "execution_count": 66,
   "id": "bb87e78f",
   "metadata": {
    "scrolled": false
   },
   "outputs": [
    {
     "name": "stdout",
     "output_type": "stream",
     "text": [
      "Saving figure scatter_matrix_perruche_corr\n"
     ]
    },
    {
     "data": {
      "text/plain": [
       "array([[<Axes: xlabel='Perruche à collier', ylabel='Perruche à collier'>,\n",
       "        <Axes: xlabel='Mésange charbonnière', ylabel='Perruche à collier'>,\n",
       "        <Axes: xlabel='Geai des chênes', ylabel='Perruche à collier'>],\n",
       "       [<Axes: xlabel='Perruche à collier', ylabel='Mésange charbonnière'>,\n",
       "        <Axes: xlabel='Mésange charbonnière', ylabel='Mésange charbonnière'>,\n",
       "        <Axes: xlabel='Geai des chênes', ylabel='Mésange charbonnière'>],\n",
       "       [<Axes: xlabel='Perruche à collier', ylabel='Geai des chênes'>,\n",
       "        <Axes: xlabel='Mésange charbonnière', ylabel='Geai des chênes'>,\n",
       "        <Axes: xlabel='Geai des chênes', ylabel='Geai des chênes'>]],\n",
       "      dtype=object)"
      ]
     },
     "execution_count": 66,
     "metadata": {},
     "output_type": "execute_result"
    },
    {
     "data": {
      "text/plain": [
       "<Figure size 432x288 with 0 Axes>"
      ]
     },
     "metadata": {},
     "output_type": "display_data"
    },
    {
     "data": {
      "image/png": "[encoded data removed]",
      "text/plain": [
       "<Figure size 864x576 with 9 Axes>"
      ]
     },
     "metadata": {
      "needs_background": "light"
     },
     "output_type": "display_data"
    }
   ],
   "source": [
    "from pandas.plotting import scatter_matrix\n",
    "\n",
    "attributes = [\"Perruche à collier\",\n",
    "              max_corr_bird_name_tostring,\n",
    "              min_corr_bird_name_tostring]\n",
    "save_fig(\"scatter_matrix_perruche_corr\")\n",
    "scatter_matrix(df_only_birds[attributes], figsize=(12, 8))"
   ]
  },
  {
   "cell_type": "code",
   "execution_count": 38,
   "id": "8fc62254",
   "metadata": {},
   "outputs": [],
   "source": [
    "colors = ['blue', 'green', 'red', 'purple', 'orange', 'yellow', 'brown',\n",
    "          'pink', 'gray', 'olive', 'cyan', 'magenta']"
   ]
  },
  {
   "cell_type": "code",
   "execution_count": 39,
   "id": "a6600da3",
   "metadata": {
    "scrolled": false
   },
   "outputs": [
    {
     "name": "stdout",
     "output_type": "stream",
     "text": [
      "Saving figure graph_max_corr_perruche\n"
     ]
    },
    {
     "data": {
      "image/png": "[encoded data removed]",
      "text/plain": [
       "<Figure size 720x432 with 1 Axes>"
      ]
     },
     "metadata": {
      "needs_background": "light"
     },
     "output_type": "display_data"
    }
   ],
   "source": [
    "title = \"Observations of {} vs. {}\".format(studied_species, max_corr_bird_name_tostring)\n",
    "file_name = \"graph_max_corr_perruche\"\n",
    "\n",
    "plt.figure(figsize=(10, 6))\n",
    "\n",
    "for i, month in enumerate(df_without_birds_zero[\"Mois\"]):\n",
    "    month_data = df_without_birds_zero[df_without_birds_zero[\"Mois\"] == month]\n",
    "    plt.scatter(month_data[max_corr_bird_name_tostring], month_data[studied_species], c=colors[i], label=month)\n",
    "    \n",
    "handles = [plt.Line2D([], [], marker='o', color='w', markerfacecolor=color, label=month) for month, color in zip(df_without_birds_zero[\"Mois\"], colors)]\n",
    "plt.legend(handles=handles, title=\"Month\", loc='right')\n",
    "\n",
    "plt.xlabel(max_corr_bird_name_tostring)\n",
    "plt.ylabel(studied_species)\n",
    "plt.title(title)\n",
    "plt.grid(True)\n",
    "\n",
    "save_fig(file_name)\n",
    "\n",
    "plt.show()"
   ]
  },
  {
   "cell_type": "code",
   "execution_count": 40,
   "id": "cc646bfb",
   "metadata": {},
   "outputs": [
    {
     "name": "stdout",
     "output_type": "stream",
     "text": [
      "Saving figure graph_min_corr_perruche\n"
     ]
    },
    {
     "data": {
      "image/png": "[encoded data removed]",
      "text/plain": [
       "<Figure size 720x432 with 1 Axes>"
      ]
     },
     "metadata": {
      "needs_background": "light"
     },
     "output_type": "display_data"
    }
   ],
   "source": [
    "title = \"Observations of {} vs. {}\".format(studied_species, min_corr_bird_name_tostring)\n",
    "file_name = \"graph_min_corr_perruche\"\n",
    "\n",
    "plt.figure(figsize=(10, 6))\n",
    "\n",
    "for i, month in enumerate(df_without_birds_zero[\"Mois\"]):\n",
    "    month_data = df_without_birds_zero[df_without_birds_zero[\"Mois\"] == month]\n",
    "    plt.scatter(month_data[min_corr_bird_name_tostring], month_data[studied_species], c=colors[i], label=month)\n",
    "    \n",
    "handles = [plt.Line2D([], [], marker='o', color='w', markerfacecolor=color, label=month) for month, color in zip(df[\"Mois\"], colors)]\n",
    "plt.legend(handles=handles, title=\"Month\", loc='right')\n",
    "\n",
    "plt.xlabel(min_corr_bird_name_tostring)\n",
    "plt.ylabel(studied_species)\n",
    "plt.title(title)\n",
    "plt.grid(True)\n",
    "\n",
    "save_fig(file_name)\n",
    "\n",
    "plt.show()"
   ]
  },
  {
   "cell_type": "markdown",
   "id": "5f28e135",
   "metadata": {},
   "source": [
    "Commentez les 2 graphiques"
   ]
  },
  {
   "cell_type": "markdown",
   "id": "6b2541b8",
   "metadata": {},
   "source": [
    "# Question 7"
   ]
  },
  {
   "cell_type": "code",
   "execution_count": 41,
   "id": "46c61db6",
   "metadata": {},
   "outputs": [
    {
     "data": {
      "text/html": [
       "<div>\n",
       "<style scoped>\n",
       "    .dataframe tbody tr th:only-of-type {\n",
       "        vertical-align: middle;\n",
       "    }\n",
       "\n",
       "    .dataframe tbody tr th {\n",
       "        vertical-align: top;\n",
       "    }\n",
       "\n",
       "    .dataframe thead th {\n",
       "        text-align: right;\n",
       "    }\n",
       "</style>\n",
       "<table border=\"1\" class=\"dataframe\">\n",
       "  <thead>\n",
       "    <tr style=\"text-align: right;\">\n",
       "      <th></th>\n",
       "      <th>PC1</th>\n",
       "      <th>PC2</th>\n",
       "      <th>Mois</th>\n",
       "    </tr>\n",
       "  </thead>\n",
       "  <tbody>\n",
       "    <tr>\n",
       "      <th>0</th>\n",
       "      <td>4.259032</td>\n",
       "      <td>2.955946</td>\n",
       "      <td>janvier</td>\n",
       "    </tr>\n",
       "    <tr>\n",
       "      <th>1</th>\n",
       "      <td>-1.109952</td>\n",
       "      <td>0.124959</td>\n",
       "      <td>fevrier</td>\n",
       "    </tr>\n",
       "    <tr>\n",
       "      <th>2</th>\n",
       "      <td>4.575200</td>\n",
       "      <td>-1.770965</td>\n",
       "      <td>mars</td>\n",
       "    </tr>\n",
       "    <tr>\n",
       "      <th>3</th>\n",
       "      <td>-2.267659</td>\n",
       "      <td>-0.213761</td>\n",
       "      <td>avril</td>\n",
       "    </tr>\n",
       "    <tr>\n",
       "      <th>4</th>\n",
       "      <td>-0.355837</td>\n",
       "      <td>-2.263301</td>\n",
       "      <td>mai</td>\n",
       "    </tr>\n",
       "    <tr>\n",
       "      <th>5</th>\n",
       "      <td>1.928759</td>\n",
       "      <td>-0.770692</td>\n",
       "      <td>juin</td>\n",
       "    </tr>\n",
       "    <tr>\n",
       "      <th>6</th>\n",
       "      <td>-1.736471</td>\n",
       "      <td>-0.475157</td>\n",
       "      <td>juillet</td>\n",
       "    </tr>\n",
       "    <tr>\n",
       "      <th>7</th>\n",
       "      <td>-0.409142</td>\n",
       "      <td>-0.419035</td>\n",
       "      <td>aout</td>\n",
       "    </tr>\n",
       "    <tr>\n",
       "      <th>8</th>\n",
       "      <td>0.808024</td>\n",
       "      <td>0.939104</td>\n",
       "      <td>septembre</td>\n",
       "    </tr>\n",
       "    <tr>\n",
       "      <th>9</th>\n",
       "      <td>-2.955551</td>\n",
       "      <td>1.779183</td>\n",
       "      <td>octobre</td>\n",
       "    </tr>\n",
       "    <tr>\n",
       "      <th>10</th>\n",
       "      <td>0.917843</td>\n",
       "      <td>-0.051008</td>\n",
       "      <td>novembre</td>\n",
       "    </tr>\n",
       "    <tr>\n",
       "      <th>11</th>\n",
       "      <td>-3.654247</td>\n",
       "      <td>0.164728</td>\n",
       "      <td>decembre</td>\n",
       "    </tr>\n",
       "  </tbody>\n",
       "</table>\n",
       "</div>"
      ],
      "text/plain": [
       "         PC1       PC2       Mois\n",
       "0   4.259032  2.955946    janvier\n",
       "1  -1.109952  0.124959    fevrier\n",
       "2   4.575200 -1.770965       mars\n",
       "3  -2.267659 -0.213761      avril\n",
       "4  -0.355837 -2.263301        mai\n",
       "5   1.928759 -0.770692       juin\n",
       "6  -1.736471 -0.475157    juillet\n",
       "7  -0.409142 -0.419035       aout\n",
       "8   0.808024  0.939104  septembre\n",
       "9  -2.955551  1.779183    octobre\n",
       "10  0.917843 -0.051008   novembre\n",
       "11 -3.654247  0.164728   decembre"
      ]
     },
     "execution_count": 41,
     "metadata": {},
     "output_type": "execute_result"
    }
   ],
   "source": [
    "from sklearn.decomposition import PCA\n",
    "from sklearn.preprocessing import StandardScaler\n",
    "\n",
    "mois = df_without_birds_zero['Mois']\n",
    "variables = df_without_birds_zero.drop('Mois', axis=1)\n",
    "\n",
    "scaler = StandardScaler()\n",
    "variables_std = scaler.fit_transform(variables)\n",
    "\n",
    "pca = PCA(n_components=2)\n",
    "components = pca.fit_transform(variables_std)\n",
    "\n",
    "components_df = pd.DataFrame(data=components, columns=['PC1', 'PC2'])\n",
    "\n",
    "components_df['Mois'] = mois\n",
    "\n",
    "components_df"
   ]
  },
  {
   "cell_type": "code",
   "execution_count": 42,
   "id": "b9b062f4",
   "metadata": {},
   "outputs": [
    {
     "name": "stdout",
     "output_type": "stream",
     "text": [
      "Saving figure graph_pca_between_two_mains_compo\n"
     ]
    },
    {
     "data": {
      "image/png": "[encoded data removed]",
      "text/plain": [
       "<Figure size 720x432 with 1 Axes>"
      ]
     },
     "metadata": {
      "needs_background": "light"
     },
     "output_type": "display_data"
    }
   ],
   "source": [
    "plt.figure(figsize=(10, 6))\n",
    "\n",
    "for i, month in enumerate(mois):\n",
    "    plt.scatter(components_df.loc[components_df['Mois'] == month, 'PC1'], components_df.loc[components_df['Mois'] == month, 'PC2'], color=colors[i], label=month)\n",
    "\n",
    "plt.legend(bbox_to_anchor=(1, 1), loc='upper left')\n",
    "\n",
    "var_pc1 = round(pca.explained_variance_ratio_[0]*100, 2)\n",
    "var_pc2 = round(pca.explained_variance_ratio_[1]*100, 2)\n",
    "\n",
    "plt.xlabel(f'PC1 ({var_pc1}%)')\n",
    "plt.ylabel(f'PC2 ({var_pc2}%)')\n",
    "\n",
    "plt.title('Nuage de points des deux premières composantes principales')\n",
    "plt.grid(True)\n",
    "\n",
    "save_fig(\"graph_pca_between_two_mains_compo\")\n",
    "plt.show()"
   ]
  },
  {
   "cell_type": "markdown",
   "id": "76bb5b70",
   "metadata": {},
   "source": [
    "Les observations d'oiseaux peuvent varier considérablement d'un mois à l'autre, ce qui est reflété par la dispersion des points dans le nuage de points. Certains mois présentent une variabilité plus élevée que d'autres, ce qui peut être observé par une dispersion plus grande des points le long des axes PC1 et PC2.\n",
    "En observant la répartition des points dans le nuage de points, nous pouvons voir s'il y a une structure ou une relation entre les mois en fonction des observations d'oiseaux. Par exemple, les mois de avril, février et juillet partagent des profils similaire en termes de fréquence d'observations d'oiseaux."
   ]
  },
  {
   "cell_type": "markdown",
   "id": "31328ca9",
   "metadata": {},
   "source": [
    "# Question 8"
   ]
  },
  {
   "cell_type": "code",
   "execution_count": 43,
   "id": "053df335",
   "metadata": {},
   "outputs": [
    {
     "name": "stdout",
     "output_type": "stream",
     "text": [
      "La variance de PC1 est 0.5281922143287756\n",
      "La variance de PC2 est 0.15368230724376594\n"
     ]
    }
   ],
   "source": [
    "print(\"La variance de PC1 est\", pca.explained_variance_ratio_[0])\n",
    "print(\"La variance de PC2 est\", pca.explained_variance_ratio_[1])"
   ]
  },
  {
   "cell_type": "markdown",
   "id": "c07a3f77",
   "metadata": {},
   "source": [
    "Définition de la variance expliqué :\n",
    "La variance expliquée est une mesure de la quantité d'information contenue dans chaque composante principale. Elle représente la proportion de la variance totale des données qui est expliquée par chaque composante principale. Une variance expliquée plus élevée pour une composante principale signifie qu'elle capture davantage d'information des données d'origine."
   ]
  },
  {
   "cell_type": "markdown",
   "id": "0b425646",
   "metadata": {},
   "source": [
    "La somme de la variance expliquée par PC1 et PC2 (soit environ 68.19 % dans ce cas) représente la part de la variance totale des données qui est capturée par ces deux composantes principales."
   ]
  },
  {
   "cell_type": "markdown",
   "id": "970f9a9b",
   "metadata": {},
   "source": [
    "# Question 9"
   ]
  },
  {
   "cell_type": "code",
   "execution_count": null,
   "id": "7390af30",
   "metadata": {},
   "outputs": [],
   "source": []
  }
 ],
 "metadata": {
  "kernelspec": {
   "display_name": "Python 3 (ipykernel)",
   "language": "python",
   "name": "python3"
  },
  "language_info": {
   "codemirror_mode": {
    "name": "ipython",
    "version": 3
   },
   "file_extension": ".py",
   "mimetype": "text/x-python",
   "name": "python",
   "nbconvert_exporter": "python",
   "pygments_lexer": "ipython3",
   "version": "3.9.12"
  }
 },
 "nbformat": 4,
 "nbformat_minor": 5
}
